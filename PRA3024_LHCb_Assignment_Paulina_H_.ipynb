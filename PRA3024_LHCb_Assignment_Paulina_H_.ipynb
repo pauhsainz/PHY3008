{
  "nbformat": 4,
  "nbformat_minor": 0,
  "metadata": {
    "colab": {
      "name": "PRA3024 LHCb Assignment Paulina H .ipynb",
      "provenance": [],
      "authorship_tag": "ABX9TyP3r+arJf1WR349g+vbFk2j",
      "include_colab_link": true
    },
    "kernelspec": {
      "name": "python2",
      "display_name": "Python 2"
    }
  },
  "cells": [
    {
      "cell_type": "markdown",
      "metadata": {
        "id": "view-in-github",
        "colab_type": "text"
      },
      "source": [
        "<a href=\"https://colab.research.google.com/github/pauhsainz/PRA3024/blob/main/PRA3024_LHCb_Assignment_Paulina_H_.ipynb\" target=\"_parent\"><img src=\"https://colab.research.google.com/assets/colab-badge.svg\" alt=\"Open In Colab\"/></a>"
      ]
    },
    {
      "cell_type": "markdown",
      "metadata": {
        "id": "jOHulQEng1lN"
      },
      "source": [
        "##My browser kept crashing for no (apparent) reason when trying to save the template Chris provided for us, so I just copied the necessary code cells onto the py2 blank template provided."
      ]
    },
    {
      "cell_type": "code",
      "metadata": {
        "colab": {
          "base_uri": "https://localhost:8080/"
        },
        "id": "jmJpUQztJWTf",
        "outputId": "4205cdea-7ab3-4b0e-a487-a22625a92084"
      },
      "source": [
        "#Colab only\n",
        "#we are going to make a directory called APPS\n",
        "!mkdir -p APPS\n",
        "#Now we move to our directory called APPS and we download ROOT from the CERN server, this version is chosen because it runs on this machine - if you want to run this locally check the versions!\n",
        "!cd APPS && wget https://root.cern.ch/download/root_v6.13.08.Linux-ubuntu18-x86_64-gcc7.3.tar.gz \n",
        "#Now we extract our downloaded file:\n",
        "!cd APPS && tar -xf root_v6.13.08.Linux-ubuntu18-x86_64-gcc7.3.tar.gz"
      ],
      "execution_count": 59,
      "outputs": [
        {
          "output_type": "stream",
          "text": [
            "--2021-03-01 16:08:42--  https://root.cern.ch/download/root_v6.13.08.Linux-ubuntu18-x86_64-gcc7.3.tar.gz\n",
            "Resolving root.cern.ch (root.cern.ch)... 137.138.18.236, 2001:1458:201:ee::100:6\n",
            "Connecting to root.cern.ch (root.cern.ch)|137.138.18.236|:443... connected.\n",
            "HTTP request sent, awaiting response... 200 OK\n",
            "Length: 137415272 (131M) [application/x-gzip]\n",
            "Saving to: ‘root_v6.13.08.Linux-ubuntu18-x86_64-gcc7.3.tar.gz.1’\n",
            "\n",
            "root_v6.13.08.Linux 100%[===================>] 131.05M  26.6MB/s    in 5.8s    \n",
            "\n",
            "2021-03-01 16:08:49 (22.6 MB/s) - ‘root_v6.13.08.Linux-ubuntu18-x86_64-gcc7.3.tar.gz.1’ saved [137415272/137415272]\n",
            "\n"
          ],
          "name": "stdout"
        }
      ]
    },
    {
      "cell_type": "code",
      "metadata": {
        "id": "si0oZSUhJc14"
      },
      "source": [
        "#Colab only:\n",
        "#now we can extract some files from ROOT and ensure that we can access the libraries. We use some python key words to get access to the right files:\n",
        "\n",
        "import sys\n",
        "\n",
        "sys.path.append(\"/content/APPS/root/lib\")\n",
        "\n",
        "import ctypes\n",
        "\n",
        "\n",
        "ctypes.cdll.LoadLibrary('/content/APPS/root/lib/libCore.so')\n",
        "\n",
        "ctypes.cdll.LoadLibrary('/content/APPS/root/lib/libThread.so')\n",
        "\n",
        "ctypes.cdll.LoadLibrary('/content/APPS/root/lib/libImt.so')\n",
        "\n",
        "ctypes.cdll.LoadLibrary('/content/APPS/root/lib/libRIO.so')\n",
        "\n",
        "ctypes.cdll.LoadLibrary('/content/APPS/root/lib/libNet.so')\n",
        "\n",
        "ctypes.cdll.LoadLibrary('/content/APPS/root/lib/libTree.so')\n",
        "\n",
        "ctypes.cdll.LoadLibrary('/content/APPS/root/lib/libMathCore.so')\n",
        "\n",
        "ctypes.cdll.LoadLibrary('/content/APPS/root/lib/libMathMore.so')\n",
        "\n",
        "ctypes.cdll.LoadLibrary('/content/APPS/root/lib/libMatrix.so')\n",
        "\n",
        "ctypes.cdll.LoadLibrary('/content/APPS/root/lib/libHist.so')\n",
        "\n",
        "ctypes.cdll.LoadLibrary('/content/APPS/root/lib/libGraf.so')\n",
        "\n",
        "ctypes.cdll.LoadLibrary('/content/APPS/root/lib/libPyROOT.so')\n",
        "\n",
        "ctypes.cdll.LoadLibrary('/content/APPS/root/lib/libGpad.so')\n",
        "\n",
        "ctypes.cdll.LoadLibrary('/content/APPS/root/lib/libGraf3d.so')\n",
        "\n",
        "ctypes.cdll.LoadLibrary('/content/APPS/root/lib/libMultiProc.so')\n",
        "\n",
        "ctypes.cdll.LoadLibrary('/content/APPS/root/lib/libMinuit.so')\n",
        "\n",
        "ctypes.cdll.LoadLibrary('/content/APPS/root/lib/libFoam.so')\n",
        "\n",
        "import ROOT"
      ],
      "execution_count": 61,
      "outputs": []
    },
    {
      "cell_type": "code",
      "metadata": {
        "colab": {
          "base_uri": "https://localhost:8080/",
          "height": 623
        },
        "id": "fypRXRN3Jiq_",
        "outputId": "55236e9d-3688-46be-9c1e-dbd0d8081745"
      },
      "source": [
        "\n",
        "#Now we can check if we have everything working as we expect: \n",
        "#We define a 1 dimensional histogram, with 100 bins which ranges from -4 to +4\n",
        "h = ROOT.TH1F(\"gauss\",\"Example histogram\",100,-4,4)\n",
        "#Fill the histogram with gaussian (random) distribution\n",
        "h.FillRandom(\"gaus\")\n",
        "#make a Canvas (i.e. a drawing)\n",
        "c = ROOT.TCanvas(\"myCanvasName\",\"The Canvas Title\",800,600)\n",
        "#Draw my histogram\n",
        "h.Draw()\n",
        "#Show me the canvas\n",
        "c.Draw()"
      ],
      "execution_count": 64,
      "outputs": [
        {
          "output_type": "stream",
          "text": [
            "Warning in <TFile::Append>: Replacing existing TH1: gauss (Potential memory leak).\n",
            "Warning in <TCanvas::Constructor>: Deleting canvas with same name: myCanvasName\n"
          ],
          "name": "stderr"
        },
        {
          "output_type": "display_data",
          "data": {
            "image/png": "[encoded data removed]",
            "text/plain": [
              "<IPython.core.display.Image object>"
            ]
          },
          "metadata": {
            "tags": []
          }
        }
      ]
    },
    {
      "cell_type": "code",
      "metadata": {
        "colab": {
          "base_uri": "https://localhost:8080/"
        },
        "id": "ZzBz_CktKzhc",
        "outputId": "2f7017b7-fba9-4dc5-d8f1-06dbd901f6f1"
      },
      "source": [
        "from google.colab import drive\n",
        "drive.mount('/content/drive')"
      ],
      "execution_count": 65,
      "outputs": [
        {
          "output_type": "stream",
          "text": [
            "Drive already mounted at /content/drive; to attempt to forcibly remount, call drive.mount(\"/content/drive\", force_remount=True).\n"
          ],
          "name": "stdout"
        }
      ]
    },
    {
      "cell_type": "code",
      "metadata": {
        "id": "ChM_8OQXK2FI"
      },
      "source": [
        "data_path = \"/content/drive/MyDrive/MSP/PRA3024/B2HHH_MagnetUp.root\""
      ],
      "execution_count": 66,
      "outputs": []
    },
    {
      "cell_type": "code",
      "metadata": {
        "colab": {
          "base_uri": "https://localhost:8080/",
          "height": 577
        },
        "id": "Be9r4qTAK4CS",
        "outputId": "e98e6528-02c3-4a83-c8b7-cd2cc6e95ab0"
      },
      "source": [
        "#Since we need to use ROOT, we must first import this into Python:\n",
        "import ROOT\n",
        "#Then we open the ROOT file using the TFile command. - note you need to make this file path correct for your own setup!\n",
        "f = ROOT.TFile.Open(data_path, \"READONLY\")\n",
        "#From our file, we have to extract the DecayTree \n",
        "tree=f.Get(\"data\")\n",
        "#Now we can grab some variables as a test:\n",
        "ymomentum = ROOT.RooRealVar(\"H1_PY\",\"H1 Y Momentum\",-3000,3000,\"MeV/c\")\n",
        "xmomentum = ROOT.RooRealVar(\"H1_PX\",\"H1 X Momentum\",-3000,3000,\"MeV/c\")\n",
        "zmomentum = ROOT.RooRealVar(\"H1_PZ\",\"H1 Z Momentum\",-3000,3000,\"MeV/c\")\n",
        "# We then create a dataset for us to play with\n",
        "data = ROOT.RooDataSet(\"data\",\"data set\", tree, ROOT.RooArgSet(xmomentum,ymomentum,zmomentum), \"1==1\")\n",
        "# Now we create a canvas, plot our data onto the canvas and draw it:\n",
        "c = ROOT.TCanvas(\"c\",\"c\")\n",
        "frame = xmomentum.frame()\n",
        "data.plotOn(frame)\n",
        "frame.Draw()\n",
        "c.Draw()\n"
      ],
      "execution_count": 67,
      "outputs": [
        {
          "output_type": "stream",
          "text": [
            "[#1] INFO:Eval -- RooAbsReal::attachToTree(H1_PX) TTree Float_t branch H1_PX will be converted to double precision\n",
            "[#1] INFO:Eval -- RooAbsReal::attachToTree(H1_PY) TTree Float_t branch H1_PY will be converted to double precision\n",
            "[#1] INFO:Eval -- RooAbsReal::attachToTree(H1_PZ) TTree Float_t branch H1_PZ will be converted to double precision\n",
            "[#1] INFO:Eval -- RooTreeDataStore::loadValues(data) Ignored 3305139 out of range events\n"
          ],
          "name": "stdout"
        },
        {
          "output_type": "display_data",
          "data": {
            "image/png": "[encoded data removed]",
            "text/plain": [
              "<IPython.core.display.Image object>"
            ]
          },
          "metadata": {
            "tags": []
          }
        }
      ]
    },
    {
      "cell_type": "code",
      "metadata": {
        "colab": {
          "base_uri": "https://localhost:8080/"
        },
        "id": "3cXFVyHHK7eG",
        "outputId": "3cbf31d1-97b9-4cc6-be77-bdcd6be2b193"
      },
      "source": [
        "data.get(1).getRealValue(\"H1_PY\")"
      ],
      "execution_count": 11,
      "outputs": [
        {
          "output_type": "execute_result",
          "data": {
            "text/plain": [
              "-199.95687866210938"
            ]
          },
          "metadata": {
            "tags": []
          },
          "execution_count": 11
        }
      ]
    },
    {
      "cell_type": "code",
      "metadata": {
        "colab": {
          "base_uri": "https://localhost:8080/"
        },
        "id": "YZZahEVnK-kT",
        "outputId": "6f13fe0f-e98e-401b-fc86-92bb798b40aa"
      },
      "source": [
        "f.ls()"
      ],
      "execution_count": 12,
      "outputs": [
        {
          "output_type": "stream",
          "text": [
            "TFile**\t\t/content/drive/MyDrive/MSP/PRA3024/B2HHH_MagnetUp.root\t\n",
            " TFile*\t\t/content/drive/MyDrive/MSP/PRA3024/B2HHH_MagnetUp.root\t\n",
            "  OBJ: TTree\tdata\tLHCB data : 0 at: 0x55735b92d600\n",
            "  OBJ: RooPlot\tframe_H1_PX_557361781ba0\tA RooPlot of \"H1 X Momentum\" : 0 at: 0x557361781ba0\n",
            "  KEY: TTree\tdata;14\tLHCB data\n",
            "  KEY: TTree\tdata;13\tLHCB data\n"
          ],
          "name": "stdout"
        }
      ]
    },
    {
      "cell_type": "code",
      "metadata": {
        "colab": {
          "base_uri": "https://localhost:8080/"
        },
        "id": "xDC42t9vLAHG",
        "outputId": "dd0b0824-697d-4a74-cbb3-aae395b98328"
      },
      "source": [
        "tree.Show()"
      ],
      "execution_count": 13,
      "outputs": [
        {
          "output_type": "stream",
          "text": [
            "======> EVENT:3420194\n",
            " B_FlightDistance = 8.43893\n",
            " B_VertexChi2    = 7.84392\n",
            " H1_PX           = 816.635\n",
            " H1_PY           = 368.774\n",
            " H1_PZ           = 14055.8\n",
            " H1_ProbK        = 0.00679082\n",
            " H1_ProbPi       = 0.868581\n",
            " H1_Charge       = -1\n",
            " H1_IPChi2       = 910.454\n",
            " H1_isMuon       = 0\n",
            " H2_PX           = -587.363\n",
            " H2_PY           = -159.705\n",
            " H2_PZ           = 41307.4\n",
            " H2_ProbK        = 0.0221071\n",
            " H2_ProbPi       = 0.713949\n",
            " H2_Charge       = 1\n",
            " H2_IPChi2       = 1.76096\n",
            " H2_isMuon       = 0\n",
            " H3_PX           = -3647.65\n",
            " H3_PY           = -960.227\n",
            " H3_PZ           = 43878.3\n",
            " H3_ProbK        = 0.0291707\n",
            " H3_ProbPi       = 0.881665\n",
            " H3_Charge       = 1\n",
            " H3_IPChi2       = 589.565\n",
            " H3_isMuon       = 0\n",
            " H1_Ptot         = 14084.3\n",
            " H1_type         = 1\n",
            " H1_E            = 14085\n",
            " H2_Ptot         = 41311.9\n",
            " H2_type         = 1\n",
            " H2_E            = 41312.1\n",
            " H3_Ptot         = 44040.1\n",
            " H3_type         = 1\n",
            " H3_E            = 44040.3\n",
            " M_Ptot          = 99303.1\n",
            " M_E             = 99437.4\n",
            " M_m0            = 5166.19\n"
          ],
          "name": "stdout"
        }
      ]
    },
    {
      "cell_type": "code",
      "metadata": {
        "colab": {
          "base_uri": "https://localhost:8080/",
          "height": 406
        },
        "id": "O3QpvKWOLCBd",
        "outputId": "0135fc40-174e-474c-fb55-e1ad06c19307"
      },
      "source": [
        "#Making a plot of the Total momentum of each of the three daughters\n",
        "ROOT.gStyle.SetOptStat(0)\n",
        "c = ROOT.TCanvas(\"c\", \"c\", 800, 400)\n",
        "\n",
        "tree.Draw(\"H1_Ptot>>h1(250, 0, 300000)\")\n",
        "h1 = ROOT.gDirectory.Get(\"h1\")\n",
        "\n",
        "tree.Draw(\"H2_Ptot>>h2(250, 0, 300000)\")\n",
        "h2 = ROOT.gDirectory.Get(\"h2\")\n",
        "\n",
        "tree.Draw(\"H3_Ptot>>h3(250, 0, 300000)\")\n",
        "h3 = ROOT.gDirectory.Get(\"h3\")\n",
        "\n",
        "max = 0\n",
        "for h in [h1,h2,h3]:\n",
        "  if h.GetMaximum() >= max:\n",
        "    max = h.GetMaximum()\n",
        "\n",
        "varname = \"Ptot\"\n",
        "\n",
        "h1.SetMaximum(max + 1500)\n",
        "h1.SetTitle(\"Daughter\" + varname + \" Plot - Using ROOT Histogram\")\n",
        "h1.GetXaxis().SetTitle(varname)\n",
        "h1.GetYaxis().SetTitle(\"Entries\")\n",
        "h1.SetLineColor(7) # sky blue\n",
        "h1.SetLineWidth(1)\n",
        "\n",
        "h2.SetTitle(varname)\n",
        "h2.SetLineColor(8) # green\n",
        "h2.SetLineWidth(1)\n",
        "\n",
        "h1.Draw()\n",
        "h2.Draw(\"SAME\")\n",
        "h3.Draw(\"SAME\")\n",
        "\n",
        "leg = ROOT.TLegend(0.11 + 0.59, 0.77, 0.3 + 0.59, 0.89)\n",
        "leg.SetHeader(\"Legend\")\n",
        "leg.AddEntry(h1, \"H1_Ptot\", \"l\")\n",
        "leg.AddEntry(h2, \"H2_Ptot\", \"l\")\n",
        "leg.AddEntry(h3, \"H3_Ptot\", \"l\")\n",
        "\n",
        "leg.Draw(\"same\")\n",
        "\n",
        "c.Draw()"
      ],
      "execution_count": 30,
      "outputs": [
        {
          "output_type": "stream",
          "text": [
            "Warning in <TCanvas::Constructor>: Deleting canvas with same name: c\n"
          ],
          "name": "stderr"
        },
        {
          "output_type": "display_data",
          "data": {
            "image/png": "[encoded data removed]",
            "text/plain": [
              "<IPython.core.display.Image object>"
            ]
          },
          "metadata": {
            "tags": []
          }
        }
      ]
    },
    {
      "cell_type": "code",
      "metadata": {
        "colab": {
          "base_uri": "https://localhost:8080/",
          "height": 589
        },
        "id": "gf_U4GuOLgwD",
        "outputId": "860599ab-e3a4-47c8-c6a1-7c56724a2cb3"
      },
      "source": [
        "#use the histogram plotting tools, plot the momentum of the mother\n",
        "c2 = ROOT.TCanvas(\"c2\", \"Ptot 1\", 800, 600)\n",
        "\n",
        "tree.Draw(\"M_Ptot>>h1(250, 0, 400000)\")\n",
        "h1 = ROOT.gDirectory.Get(\"h1\")\n",
        "\n",
        "varname = \"Ptot\"\n",
        "\n",
        "h1.SetTitle( \"Mother \" + varname + \" Plot\")\n",
        "h1.GetXaxis().SetTitle(varname)\n",
        "h1.GetYaxis().SetTitle(\"Entries\")\n",
        "h1.SetLineColor(2) # red\n",
        "h1.SetLineWidth(1)\n",
        "\n",
        "h1.Draw()\n",
        "\n",
        "leg = ROOT.TLegend(0.11 + 0.59, 0.77, 0.3 + 0.59, 0.89)\n",
        "leg.SetHeader(\"Legend\")\n",
        "leg.AddEntry(h1, \"H1_Ptot\", \"l\")\n",
        "\n",
        "leg.Draw(\"same\")\n",
        "\n",
        "c2.Draw()"
      ],
      "execution_count": 68,
      "outputs": [
        {
          "output_type": "display_data",
          "data": {
            "image/png": "[encoded data removed]",
            "text/plain": [
              "<IPython.core.display.Image object>"
            ]
          },
          "metadata": {
            "tags": []
          }
        }
      ]
    },
    {
      "cell_type": "code",
      "metadata": {
        "colab": {
          "base_uri": "https://localhost:8080/",
          "height": 589
        },
        "id": "vAsFYXW7OLSe",
        "outputId": "871d1bf5-a37a-4678-aecf-a79907c3c64b"
      },
      "source": [
        "#Now plot a histogram of the range of masses of the B meson.\n",
        "#Does this match what we would expect from theory?\n",
        "\n",
        "ROOT.gStyle.SetOptStat(0)\n",
        "\n",
        "c3 = ROOT.TCanvas(\"c3\", \"Ptot 1\", 800, 600)\n",
        "\n",
        "tree.Draw(\"sqrt(M_E*M_E - M_Ptot*M_Ptot*1**2)/1**2>>H(250, 1500, 7000)\")\n",
        "H = ROOT.gDirectory.Get(\"H\")\n",
        "\n",
        "tree.Draw(\"M_m0>>h1(250, 1500, 7000)\")\n",
        "h1 = ROOT.gDirectory.Get(\"h1\")\n",
        "\n",
        "varname = \"Ptot\"\n",
        "\n",
        "H.SetTitle(\"Daughter \" + varname + \" Plot\")\n",
        "H.GetXaxis().SetTitle(varname)\n",
        "H.GetYaxis().SetTitle(\"Entries\")\n",
        "H.SetLineColor(6) # purple\n",
        "H.SetLineWidth(1)\n",
        "H.Draw()\n",
        "\n",
        "h1.SetLineColor(5) # yellow\n",
        "h1.SetLineWidth(1)\n",
        "h1.Draw()\n",
        "\n",
        "leg = ROOT.TLegend(0.11 + 0.59, 0.77, 0.3 + 0.59, 0.89)\n",
        "leg.SetHeader(\"Legend\")\n",
        "leg.AddEntry(H, \"H1_Ptot\", \"l\")\n",
        "leg.AddEntry(h1, \"H1_Ptot\", \"l\")\n",
        "\n",
        "\n",
        "leg.Draw(\"same\")\n",
        "\n",
        "c3.Draw()\n",
        "\n",
        "#We can see that the pre stored mass distribution is exactly the same as the calculated one\n"
      ],
      "execution_count": 69,
      "outputs": [
        {
          "output_type": "display_data",
          "data": {
            "image/png": "[encoded data removed]",
            "text/plain": [
              "<IPython.core.display.Image object>"
            ]
          },
          "metadata": {
            "tags": []
          }
        }
      ]
    },
    {
      "cell_type": "code",
      "metadata": {
        "colab": {
          "base_uri": "https://localhost:8080/",
          "height": 589
        },
        "id": "HPCgdPWtORfw",
        "outputId": "fec0c2c4-9cc8-42b4-ad38-ca14dae96fb1"
      },
      "source": [
        "#Make plots of H1/H2/H3 _ProbK on one plot\n",
        "ROOT.gStyle.SetOptStat(0)\n",
        "\n",
        "xval = 1\n",
        "varname = \"ProbK\"\n",
        "\n",
        "c4 = ROOT.TCanvas(\"c4\", \"c4\", 800, 600)\n",
        "\n",
        "tree.Draw(\"H1_{0}>>h1(250, 0, {1})\".format(varname, xval))\n",
        "h1 = ROOT.gDirectory.Get(\"h1\")\n",
        "\n",
        "tree.Draw(\"H2_{0}>>h2(250, 0, {1})\".format(varname, xval))\n",
        "h2 = ROOT.gDirectory.Get(\"h2\")\n",
        "\n",
        "tree.Draw(\"H3_{0}>>h3(250, 0, {1})\".format(varname, xval))\n",
        "h3 = ROOT.gDirectory.Get(\"h3\")\n",
        "\n",
        "max = 0\n",
        "for h in [h1,h2,h3]:\n",
        "  if h.GetMaximum() >= max:\n",
        "    max = h.GetMaximum()\n",
        "\n",
        "h1.SetMaximum(max + 10000)\n",
        "h1.SetTitle(\"Daughter \" + varname + \" Plot\")\n",
        "h1.GetXaxis().SetTitle(varname)\n",
        "h1.GetYaxis().SetTitle(\"Entries\")\n",
        "h1.SetLineColor(6) # purple\n",
        "h1.SetLineWidth(1)\n",
        "\n",
        "h2.SetTitle(varname)\n",
        "h2.SetLineColor(8) # green\n",
        "h2.SetLineWidth(1)\n",
        "\n",
        "h1.Draw()\n",
        "h2.Draw(\"SAME\")\n",
        "h3.Draw(\"SAME\")\n",
        "\n",
        "leg = ROOT.TLegend(0.11 + 0.59, 0.77, 0.3 + 0.59, 0.89)\n",
        "leg.SetHeader(\"Legend\")\n",
        "leg.AddEntry(h1, \"H1_{}\".format(varname), \"l\")\n",
        "leg.AddEntry(h2, \"H2_{}\".format(varname), \"l\")\n",
        "leg.AddEntry(h3, \"H3_{}\".format(varname), \"l\")\n",
        "\n",
        "leg.Draw(\"same\")\n",
        "\n",
        "c4.Draw()"
      ],
      "execution_count": 70,
      "outputs": [
        {
          "output_type": "display_data",
          "data": {
            "image/png": "[encoded data removed]",
            "text/plain": [
              "<IPython.core.display.Image object>"
            ]
          },
          "metadata": {
            "tags": []
          }
        }
      ]
    },
    {
      "cell_type": "code",
      "metadata": {
        "colab": {
          "base_uri": "https://localhost:8080/",
          "height": 589
        },
        "id": "JzHVrTOJPwA5",
        "outputId": "a90a335c-7f7e-419e-8277-1c63eabba3c2"
      },
      "source": [
        "#Make plots of H1/H2/H3 _ProbPi on one plot\n",
        "xval = 1\n",
        "varname = \"ProbPi\"\n",
        "\n",
        "c5 = ROOT.TCanvas(\"c5\", \"c5\", 800, 600)\n",
        "\n",
        "tree.Draw(\"H1_{0}>>h1(250, 0, {1})\".format(varname, xval))\n",
        "h1 = ROOT.gDirectory.Get(\"h1\")\n",
        "\n",
        "tree.Draw(\"H2_{0}>>h2(250, 0, {1})\".format(varname, xval))\n",
        "h2 = ROOT.gDirectory.Get(\"h2\")\n",
        "\n",
        "tree.Draw(\"H3_{0}>>h3(250, 0, {1})\".format(varname, xval))\n",
        "h3 = ROOT.gDirectory.Get(\"h3\")\n",
        "\n",
        "max = 0\n",
        "for h in [h1,h2,h3]:\n",
        "  if h.GetMaximum() >= max:\n",
        "    max = h.GetMaximum()\n",
        "\n",
        "h1.SetMaximum(max + 10000)\n",
        "h1.SetTitle(\"Daughter \" + varname + \" Plot\")\n",
        "h1.GetXaxis().SetTitle(varname)\n",
        "h1.GetYaxis().SetTitle(\"Entries\")\n",
        "h1.SetLineColor(2) # red\n",
        "h1.SetLineWidth(1)\n",
        "\n",
        "h2.SetTitle(varname)\n",
        "h2.SetLineColor(9) # blue\n",
        "h2.SetLineWidth(1)\n",
        "\n",
        "h1.Draw()\n",
        "h2.Draw(\"SAME\")\n",
        "h3.Draw(\"SAME\")\n",
        "\n",
        "leg = ROOT.TLegend(0.11 + 0.59, 0.77, 0.3 + 0.59, 0.89)\n",
        "leg.SetHeader(\"Legend\")\n",
        "leg.AddEntry(h1, \"H1_{}\".format(varname), \"l\")\n",
        "leg.AddEntry(h2, \"H2_{}\".format(varname), \"l\")\n",
        "leg.AddEntry(h3, \"H3_{}\".format(varname), \"l\")\n",
        "\n",
        "leg.Draw(\"same\")\n",
        "\n",
        "c5.Draw()"
      ],
      "execution_count": 71,
      "outputs": [
        {
          "output_type": "display_data",
          "data": {
            "image/png": "[encoded data removed]",
            "text/plain": [
              "<IPython.core.display.Image object>"
            ]
          },
          "metadata": {
            "tags": []
          }
        }
      ]
    },
    {
      "cell_type": "code",
      "metadata": {
        "colab": {
          "base_uri": "https://localhost:8080/",
          "height": 589
        },
        "id": "ZzX4RVfnP8CJ",
        "outputId": "5e0ecfdf-662b-416d-8548-59f131e81d14"
      },
      "source": [
        "#For all our particles, make a plot of the B_VertexChi2\n",
        "c6 = ROOT.TCanvas(\"c6\", \"c6\", 800, 600)\n",
        "\n",
        "xmax = tree.GetMaximum(\"B_VertexChi2\")\n",
        "\n",
        "tree.Draw(\"B_VertexChi2>>h1(250, 0, {})\".format(xmax))\n",
        "h1 = ROOT.gDirectory.Get(\"h1\")\n",
        "\n",
        "varname = \"Ptot\"\n",
        "\n",
        "h1.SetTitle(\"Mother \" + varname + \" Plot\")\n",
        "h1.GetXaxis().SetTitle(varname)\n",
        "h1.GetYaxis().SetTitle(\"Entries\")\n",
        "h1.SetLineColor(6) # purple\n",
        "h1.SetLineWidth(1)\n",
        "\n",
        "h1.Draw()\n",
        "\n",
        "leg = ROOT.TLegend(0.11 + 0.59, 0.77, 0.3 + 0.59, 0.89)\n",
        "leg.SetHeader(\"Legend\")\n",
        "leg.AddEntry(h1, \"H1_Ptot\", \"l\")\n",
        "leg.Draw(\"same\")\n",
        "\n",
        "c6.Draw()"
      ],
      "execution_count": 72,
      "outputs": [
        {
          "output_type": "display_data",
          "data": {
            "image/png": "[encoded data removed]",
            "text/plain": [
              "<IPython.core.display.Image object>"
            ]
          },
          "metadata": {
            "tags": []
          }
        }
      ]
    },
    {
      "cell_type": "code",
      "metadata": {
        "id": "6nQrkU67QOJi"
      },
      "source": [
        "#This example is for each daughter particle to have a Probability of being a Pion being more than 90% and H1 to not be a muon\n",
        "#Which I make my own\n",
        "selection=(\"H1_ProbPi>0.9 && H2_ProbPi>0.9 && H3_ProbPi>0.9 && H1_isMuon >0.9\")\n"
      ],
      "execution_count": 73,
      "outputs": []
    },
    {
      "cell_type": "code",
      "metadata": {
        "id": "qAxCAiVyQTBh"
      },
      "source": [
        "#To apply the selection - we can use the copytree command:\n",
        "selection=(\"H1_ProbK>0.3 && H2_ProbK>0.3 && H3_ProbK>0.3 && H1_ProbK>H1_ProbPi && H2_ProbK>H2_ProbPi && H3_ProbK>H3_ProbPi && !H1_isMuon && !H2_isMuon && !H2_isMuon\")\n",
        "CutTree=tree.CopyTree(selection)\n",
        "\n",
        "#So now we take our data in tree and apply selection to it (so only events which comply with those rules are kept) and put the new data in CutTree"
      ],
      "execution_count": 74,
      "outputs": []
    },
    {
      "cell_type": "code",
      "metadata": {
        "colab": {
          "base_uri": "https://localhost:8080/",
          "height": 589
        },
        "id": "Dmc-4AWgQWwm",
        "outputId": "e4de65d4-77e0-4161-dc09-065365b875e6"
      },
      "source": [
        "#Now as a good check, we should see the effect of applying our cuts.\n",
        "#On one histogram, plot the B meson mass, from both the tree (pre-cuts) and the CutTree (post-cuts)\n",
        "#What do you notice about your histogram now?\n",
        "\n",
        "c7 = ROOT.TCanvas(\"c7\", \"c7\", 800, 600)\n",
        "\n",
        "\n",
        "tree.Draw(\"M_m0>>h1(250, 1500, 7000)\")\n",
        "h1 = ROOT.gDirectory.Get(\"h1\")\n",
        "\n",
        "CutTree.Draw(\"M_m0>>h2(250, 1500, 7000)\")\n",
        "h2 = ROOT.gDirectory.Get(\"h2\")\n",
        "\n",
        "varname = \"Ptot\"\n",
        "\n",
        "h1.SetTitle(\"Mother \" + varname + \" Plot\")\n",
        "h1.GetXaxis().SetTitle(varname)\n",
        "h1.GetYaxis().SetTitle(\"Entries\")\n",
        "h1.SetLineColor(2) # red\n",
        "h1.SetLineWidth(1)\n",
        "\n",
        "h2.SetLineColor(5) # yellow\n",
        "h2.SetLineWidth(1)\n",
        "\n",
        "h1.Draw()\n",
        "h2.Draw(\"same\")\n",
        "\n",
        "leg = ROOT.TLegend(0.11 + 0.59, 0.77, 0.3 + 0.59, 0.89)\n",
        "leg.SetHeader(\"Legend\")\n",
        "leg.AddEntry(h1, \"H1_Ptot\", \"l\")\n",
        "leg.AddEntry(h2, \"H1_Ptot\", \"l\")\n",
        "\n",
        "leg.Draw(\"same\")\n",
        "\n",
        "c7.Draw()"
      ],
      "execution_count": 75,
      "outputs": [
        {
          "output_type": "display_data",
          "data": {
            "image/png": "[encoded data removed]",
            "text/plain": [
              "<IPython.core.display.Image object>"
            ]
          },
          "metadata": {
            "tags": []
          }
        }
      ]
    },
    {
      "cell_type": "code",
      "metadata": {
        "id": "ZRvhjzAgQfEV"
      },
      "source": [
        "#define physical measurment that we want to fit using RooRealVar\n",
        "mass = ROOT.RooRealVar(\"M_m0\",\"Mass\",5150,5400,\"MeV/C^{2}\")\n",
        "\n",
        "#passing the rest of the variables into the model\n",
        "#For the RooRealVar the last three parameters are given, \"starting value\" and min/max values\n",
        "gaussMean = ROOT.RooRealVar(\"Mean\",\"Mean\",5000,5150,5400)\n",
        "gaussWidth = ROOT.RooRealVar(\"Width\",\"Width\",40,0,7000)\n",
        "\n",
        "#Now we have enough to make our Model for the signal:\n",
        "\n",
        "Gauss=ROOT.RooGaussian(\"Gauss\",\"Gaussian Signal\",mass,gaussMean,gaussWidth)\n",
        "Gauss_Norm= ROOT.RooRealVar(\"Gauss_Norm\",\"Signal Yield\", tree.GetEntries()/30, 0, tree.GetEntries() * 3)\n",
        "#We also need a background, so let's use a (simple) exponential:\n",
        "\n",
        "exponent=ROOT.RooRealVar(\"exponent\", \"C\", -0.02, -2, +2)\n",
        "exp_Norm= ROOT.RooRealVar(\"exp_Norm\",\"Background Yield\", tree.GetEntries()/30, 0, tree.GetEntries() * 2)\n",
        "\n",
        "#Define the  model for the background:\n",
        "\n",
        "Bkgnd=ROOT.RooExponential(\"Bkgnd\",\"Exponential Background\",mass,exponent)\n",
        "\n",
        "#Now we need to combine these two functions into a single PDF (probability density function)\n",
        "#and we need to add the normalisation factors at the end as scaling factors\n",
        "\n",
        "model=ROOT.RooAddPdf(\"Full Model\",\"model\",ROOT.RooArgList(Gauss,Bkgnd),ROOT.RooArgList(Gauss_Norm, exp_Norm) )"
      ],
      "execution_count": 76,
      "outputs": []
    },
    {
      "cell_type": "code",
      "metadata": {
        "colab": {
          "base_uri": "https://localhost:8080/"
        },
        "id": "ORH_Q5pVQls7",
        "outputId": "97db4442-6429-4edf-ff1d-154439152341"
      },
      "source": [
        "#Put our data set into a RooDataSet structure\n",
        "\n",
        "data_to_fit=ROOT.RooDataSet(\"Data Set\",\"data_to_fit\", CutTree, ROOT.RooArgSet(mass))\n",
        "\n",
        "#Then we can do the fitting:\n",
        "\n",
        "model.fitTo(data_to_fit)\n",
        "\n",
        "#if everything went well, you will see the outputs of RooFit below"
      ],
      "execution_count": 77,
      "outputs": [
        {
          "output_type": "execute_result",
          "data": {
            "text/plain": [
              "<ROOT.RooFitResult object at 0x(nil)>"
            ]
          },
          "metadata": {
            "tags": []
          },
          "execution_count": 77
        },
        {
          "output_type": "stream",
          "text": [
            "[#1] INFO:Eval -- RooAbsReal::attachToTree(M_m0) TTree Float_t branch M_m0 will be converted to double precision\n",
            "[#1] INFO:Eval -- RooTreeDataStore::loadValues(Data Set) Ignored 5685 out of range events\n",
            "[#1] INFO:Minization -- p.d.f. provides expected number of events, including extended term in likelihood.\n",
            "[#1] INFO:Minization -- RooMinimizer::optimizeConst: activating const optimization\n",
            "[#1] INFO:Minization --  The following expressions will be evaluated in cache-and-track mode: (Gauss,Bkgnd)\n",
            " **********\n",
            " **   28 **SET PRINT           1\n",
            " **********\n",
            " **********\n",
            " **   29 **SET NOGRAD\n",
            " **********\n",
            " PARAMETER DEFINITIONS:\n",
            "    NO.   NAME         VALUE      STEP SIZE      LIMITS\n",
            "     1 Gauss_Norm   1.14006e+05  5.70030e+04    0.00000e+00  1.02606e+07\n",
            " MINUIT WARNING IN PARAM DEF\n",
            " ============== LIMITS ON PARAM1 TOO FAR APART.\n",
            " PARAMETER DEFINITIONS:\n",
            "    NO.   NAME         VALUE      STEP SIZE      LIMITS\n",
            "     2 Mean         5.15000e+03  2.50000e+01    5.15000e+03  5.40000e+03\n",
            " MINUIT WARNING IN PARAM DEF\n",
            " ============== STARTING VALUE IS AT LIMIT.\n",
            " MINUIT WARNING IN PARAMETR\n",
            " ============== VARIABLE2 IS AT ITS LOWER ALLOWED LIMIT.\n",
            " MINUIT WARNING IN PARAMETR\n",
            " ============== VARIABLE2 BROUGHT BACK INSIDE LIMITS.\n",
            "     3 Width        4.00000e+01  2.00000e+01    0.00000e+00  7.00000e+03\n",
            "     4 exp_Norm     1.14006e+05  5.70030e+04    0.00000e+00  6.84039e+06\n",
            "     5 exponent    -2.00000e-02  4.00000e-01   -2.00000e+00  2.00000e+00\n",
            " **********\n",
            " **   30 **SET ERR         0.5\n",
            " **********\n",
            " **********\n",
            " **   31 **SET PRINT           1\n",
            " **********\n",
            " **********\n",
            " **   32 **SET STR           1\n",
            " **********\n",
            " NOW USING STRATEGY  1: TRY TO BALANCE SPEED AGAINST RELIABILITY\n",
            " **********\n",
            " **   33 **MIGRAD        2500           1\n",
            " **********\n",
            " FIRST CALL TO USER FUNCTION AT NEW START POINT, WITH IFLAG=4.\n",
            " MINUIT WARNING IN MIGrad    \n",
            " ============== VARIABLE2 IS AT ITS LOWER ALLOWED LIMIT.\n",
            " START MIGRAD MINIMIZATION.  STRATEGY  1.  CONVERGENCE WHEN EDM .LT. 1.00e-03\n",
            " FCN=141057 FROM MIGRAD    STATUS=INITIATE       91 CALLS          92 TOTAL\n",
            "                     EDM= unknown      STRATEGY= 1      NO ERROR MATRIX       \n",
            "  EXT PARAMETER               CURRENT GUESS       STEP         FIRST   \n",
            "  NO.   NAME      VALUE            ERROR          SIZE      DERIVATIVE \n",
            "   1  Gauss_Norm   1.14006e+05   5.70030e+04   0.00000e+00   1.00513e+06\n",
            "   2  Mean         5.28819e+03   2.50000e+01   0.00000e+00   8.53187e+03\n",
            "   3  Width        1.47331e+01   2.00000e+01  -5.95432e-02  -2.32228e+03\n",
            "   4  exp_Norm     1.14006e+05   5.70030e+04   0.00000e+00   8.43268e+05\n",
            "   5  exponent    -7.23684e-04   4.00000e-01   0.00000e+00  -1.40529e+04\n",
            "                               ERR DEF= 0.5\n",
            " MIGRAD MINIMIZATION HAS CONVERGED.\n",
            " FCN=-41800.9 FROM MIGRAD    STATUS=CONVERGED     166 CALLS         167 TOTAL\n",
            "                     EDM=6.79767e-05    STRATEGY= 1  ERROR MATRIX UNCERTAINTY   3.6 per cent\n",
            "  EXT PARAMETER                                   STEP         FIRST   \n",
            "  NO.   NAME      VALUE            ERROR          SIZE      DERIVATIVE \n",
            "   1  Gauss_Norm   9.44448e+03   1.07279e+02   1.21760e-05   4.81366e+00\n",
            "   2  Mean         5.28488e+03   2.21563e-01  -1.72474e-05   1.37716e+00\n",
            "   3  Width        1.80116e+01   1.85604e-01  -3.49098e-05   1.18505e+01\n",
            "   4  exp_Norm     2.24048e+03   6.40042e+01  -5.21073e-05  -1.03610e+01\n",
            "   5  exponent    -1.60017e-03   3.12443e-04  -4.62529e-06   3.27410e+01\n",
            "                               ERR DEF= 0.5\n",
            " EXTERNAL ERROR MATRIX.    NDIM=  25    NPAR=  5    ERR DEF=0.5\n",
            "  1.151e+04  6.147e-01  4.617e+00 -2.002e+03 -2.852e-03 \n",
            "  6.147e-01  4.909e-02  4.570e-04 -2.836e-01 -7.466e-06 \n",
            "  4.617e+00  4.570e-04  3.445e-02 -4.155e+00 -6.161e-06 \n",
            " -2.002e+03 -2.836e-01 -4.155e+00  4.097e+03  2.815e-03 \n",
            " -2.852e-03 -7.466e-06 -6.161e-06  2.815e-03  9.762e-08 \n",
            " PARAMETER  CORRELATION COEFFICIENTS  \n",
            "       NO.  GLOBAL      1      2      3      4      5\n",
            "        1  0.32527   1.000  0.026  0.232 -0.292 -0.085\n",
            "        2  0.10924   0.026  1.000  0.011 -0.020 -0.108\n",
            "        3  0.37868   0.232  0.011  1.000 -0.350 -0.106\n",
            "        4  0.42119  -0.292 -0.020 -0.350  1.000  0.141\n",
            "        5  0.18911  -0.085 -0.108 -0.106  0.141  1.000\n",
            " **********\n",
            " **   34 **SET ERR         0.5\n",
            " **********\n",
            " **********\n",
            " **   35 **SET PRINT           1\n",
            " **********\n",
            " **********\n",
            " **   36 **HESSE        2500\n",
            " **********\n",
            " COVARIANCE MATRIX CALCULATED SUCCESSFULLY\n",
            " FCN=-41800.9 FROM HESSE     STATUS=OK             31 CALLS         198 TOTAL\n",
            "                     EDM=0.000119579    STRATEGY= 1      ERROR MATRIX ACCURATE \n",
            "  EXT PARAMETER                                INTERNAL      INTERNAL  \n",
            "  NO.   NAME      VALUE            ERROR       STEP SIZE       VALUE   \n",
            "   1  Gauss_Norm   9.44448e+03   1.06856e+02   4.60133e-05  -1.51011e+00\n",
            "   2  Mean         5.28488e+03   2.11156e-01   2.37442e-04   7.91125e-02\n",
            "   3  Width        1.80116e+01   1.89692e-01   6.93834e-05  -1.46930e+00\n",
            "   4  exp_Norm     2.24048e+03   6.49160e+01   6.66769e-05  -1.53460e+00\n",
            "   5  exponent    -1.60017e-03   3.13215e-04   2.15864e-05  -8.00087e-04\n",
            "                               ERR DEF= 0.5\n",
            " EXTERNAL ERROR MATRIX.    NDIM=  25    NPAR=  5    ERR DEF=0.5\n",
            "  1.142e+04  2.909e-02  4.589e+00 -1.973e+03 -3.106e-03 \n",
            "  2.909e-02  4.459e-02  3.220e-05 -2.924e-02 -8.399e-06 \n",
            "  4.589e+00  3.220e-05  3.598e-02 -4.587e+00 -7.167e-06 \n",
            " -1.973e+03 -2.924e-02 -4.587e+00  4.214e+03  3.107e-03 \n",
            " -3.106e-03 -8.399e-06 -7.167e-06  3.107e-03  9.810e-08 \n",
            " PARAMETER  CORRELATION COEFFICIENTS  \n",
            "       NO.  GLOBAL      1      2      3      4      5\n",
            "        1  0.31537   1.000  0.001  0.226 -0.284 -0.093\n",
            "        2  0.12859   0.001  1.000  0.001 -0.002 -0.127\n",
            "        3  0.39745   0.226  0.001  1.000 -0.373 -0.121\n",
            "        4  0.43603  -0.284 -0.002 -0.373  1.000  0.153\n",
            "        5  0.21428  -0.093 -0.127 -0.121  0.153  1.000\n",
            "[#1] INFO:Minization -- RooMinimizer::optimizeConst: deactivating const optimization\n"
          ],
          "name": "stdout"
        }
      ]
    },
    {
      "cell_type": "code",
      "metadata": {
        "colab": {
          "base_uri": "https://localhost:8080/"
        },
        "id": "8q6BJa-pQpds",
        "outputId": "c64a4d58-cd86-4e59-bcbb-a9cf073f9a5e"
      },
      "source": [
        "full_signal_yield = Gauss_Norm.getValV()\n",
        "full_signal_error = Gauss_Norm.getError()\n",
        "full_chi2ndf = frame.chiSquare()\n",
        "\n",
        "print(full_signal_yield, full_signal_error, full_chi2ndf)"
      ],
      "execution_count": 78,
      "outputs": [
        {
          "output_type": "stream",
          "text": [
            "(9444.482398919678, 106.85630203447727, -1.0)\n",
            "[#0] ERROR:InputArguments -- RooPlot::findObject(frame_H1_PX_557360c51200) cannot find object <last>\n",
            "[#0] ERROR:InputArguments -- RooPlot::chiSquare(frame_H1_PX_557360c51200) cannot find curve\n"
          ],
          "name": "stdout"
        }
      ]
    },
    {
      "cell_type": "code",
      "metadata": {
        "colab": {
          "base_uri": "https://localhost:8080/",
          "height": 589
        },
        "id": "HYuf0VIaQrWb",
        "outputId": "972cecbf-0d7c-42ec-e7bd-e3ac016af95e"
      },
      "source": [
        "Bplus_cuts = (\"H1_Charge+H2_Charge+H3_Charge == 1\")\n",
        "Bminus_cuts = (\"H1_Charge+H2_Charge+H3_Charge == -1\")\n",
        "\n",
        "bplusTree = CutTree.CopyTree(Bplus_cuts)\n",
        "bminusTree = CutTree.CopyTree(Bminus_cuts)\n",
        "\n",
        "\n",
        "c8 = ROOT.TCanvas(\"c8\", \"c8\", 800, 600)\n",
        "\n",
        "bplusTree.Draw(\"M_m0>>h1(250, 5100, 5500)\")\n",
        "h1 = ROOT.gDirectory.Get(\"h1\")\n",
        "\n",
        "bminusTree.Draw(\"M_m0>>h2(250, 5100, 5500)\")\n",
        "h2 = ROOT.gDirectory.Get(\"h2\")\n",
        "\n",
        "varname = \"Ptot\"\n",
        "\n",
        "h2.SetTitle(\"Mother \" + varname + \" Plot\")\n",
        "h2.GetXaxis().SetTitle(varname)\n",
        "h2.GetYaxis().SetTitle(\"Entries\")\n",
        "h2.SetLineColor(6) # purple\n",
        "h2.SetLineWidth(1)\n",
        "\n",
        "h1.SetLineColor(5) # yellow\n",
        "h1.SetLineWidth(1)\n",
        "\n",
        "\n",
        "h2.Draw()\n",
        "h1.Draw(\"same\")\n",
        "\n",
        "leg = ROOT.TLegend(0.11 + 0.59, 0.77, 0.3 + 0.59, 0.89)\n",
        "leg.SetHeader(\"Legend\")\n",
        "leg.AddEntry(h2, \"bminus\", \"l\")\n",
        "leg.AddEntry(h1, \"bplus\", \"l\")\n",
        "\n",
        "leg.Draw(\"same\")\n",
        "\n",
        "c8.Draw()"
      ],
      "execution_count": 79,
      "outputs": [
        {
          "output_type": "display_data",
          "data": {
            "image/png": "[encoded data removed]",
            "text/plain": [
              "<IPython.core.display.Image object>"
            ]
          },
          "metadata": {
            "tags": []
          }
        }
      ]
    },
    {
      "cell_type": "code",
      "metadata": {
        "colab": {
          "base_uri": "https://localhost:8080/"
        },
        "id": "1NcMD3tgRDvS",
        "outputId": "342cacf1-9887-4bb7-c420-8dbb980ee743"
      },
      "source": [
        "mass = ROOT.RooRealVar(\"M_m0\",\"Mass\",5150,5400,\"MeV/C^{2}\")\n",
        "\n",
        "gaussMean = ROOT.RooRealVar(\"Mean\",\"Mean\",5000,5150,5400)\n",
        "gaussWidth = ROOT.RooRealVar(\"Width\",\"Width\",40,0,7000)\n",
        "\n",
        "Gauss=ROOT.RooGaussian(\"Gauss\",\"Gaussian Signal\",mass,gaussMean,gaussWidth)\n",
        "Gauss_Norm= ROOT.RooRealVar(\"Gauss_Norm\",\"Signal Yield\", tree.GetEntries()/30, 0, tree.GetEntries() * 3)\n",
        "\n",
        "exponent=ROOT.RooRealVar(\"exponent\", \"C\", -0.02, -2, +2)\n",
        "exp_Norm= ROOT.RooRealVar(\"exp_Norm\",\"Background Yield\", tree.GetEntries()/30, 0, tree.GetEntries() * 2)\n",
        "\n",
        "Bkgnd=ROOT.RooExponential(\"Bkgnd\",\"Exponential Background\",mass,exponent)\n",
        "\n",
        "model=ROOT.RooAddPdf(\"Full Model\",\"model\",ROOT.RooArgList(Gauss,Bkgnd),ROOT.RooArgList(Gauss_Norm, exp_Norm) )\n",
        "\n",
        "data_to_fit=ROOT.RooDataSet(\"Data Set\",\"data_to_fit\", bplusTree, ROOT.RooArgSet(mass))\n",
        "\n",
        "model.fitTo(data_to_fit)"
      ],
      "execution_count": 80,
      "outputs": [
        {
          "output_type": "execute_result",
          "data": {
            "text/plain": [
              "<ROOT.RooFitResult object at 0x(nil)>"
            ]
          },
          "metadata": {
            "tags": []
          },
          "execution_count": 80
        },
        {
          "output_type": "stream",
          "text": [
            "[#1] INFO:Eval -- RooAbsReal::attachToTree(M_m0) TTree Float_t branch M_m0 will be converted to double precision\n",
            "[#1] INFO:Eval -- RooTreeDataStore::loadValues(Data Set) Ignored 2846 out of range events\n",
            "[#1] INFO:Minization -- p.d.f. provides expected number of events, including extended term in likelihood.\n",
            "[#1] INFO:Minization -- RooMinimizer::optimizeConst: activating const optimization\n",
            "[#1] INFO:Minization --  The following expressions will be evaluated in cache-and-track mode: (Gauss,Bkgnd)\n",
            " **********\n",
            " **   37 **SET PRINT           1\n",
            " **********\n",
            " **********\n",
            " **   38 **SET NOGRAD\n",
            " **********\n",
            " PARAMETER DEFINITIONS:\n",
            "    NO.   NAME         VALUE      STEP SIZE      LIMITS\n",
            "     1 Gauss_Norm   1.14006e+05  5.70030e+04    0.00000e+00  1.02606e+07\n",
            " MINUIT WARNING IN PARAM DEF\n",
            " ============== LIMITS ON PARAM1 TOO FAR APART.\n",
            " PARAMETER DEFINITIONS:\n",
            "    NO.   NAME         VALUE      STEP SIZE      LIMITS\n",
            "     2 Mean         5.15000e+03  2.50000e+01    5.15000e+03  5.40000e+03\n",
            " MINUIT WARNING IN PARAM DEF\n",
            " ============== STARTING VALUE IS AT LIMIT.\n",
            " MINUIT WARNING IN PARAMETR\n",
            " ============== VARIABLE2 IS AT ITS LOWER ALLOWED LIMIT.\n",
            " MINUIT WARNING IN PARAMETR\n",
            " ============== VARIABLE2 BROUGHT BACK INSIDE LIMITS.\n",
            "     3 Width        4.00000e+01  2.00000e+01    0.00000e+00  7.00000e+03\n",
            "     4 exp_Norm     1.14006e+05  5.70030e+04    0.00000e+00  6.84039e+06\n",
            "     5 exponent    -2.00000e-02  4.00000e-01   -2.00000e+00  2.00000e+00\n",
            " **********\n",
            " **   39 **SET ERR         0.5\n",
            " **********\n",
            " **********\n",
            " **   40 **SET PRINT           1\n",
            " **********\n",
            " **********\n",
            " **   41 **SET STR           1\n",
            " **********\n",
            " NOW USING STRATEGY  1: TRY TO BALANCE SPEED AGAINST RELIABILITY\n",
            " **********\n",
            " **   42 **MIGRAD        2500           1\n",
            " **********\n",
            " FIRST CALL TO USER FUNCTION AT NEW START POINT, WITH IFLAG=4.\n",
            " MINUIT WARNING IN MIGrad    \n",
            " ============== VARIABLE2 IS AT ITS LOWER ALLOWED LIMIT.\n",
            " START MIGRAD MINIMIZATION.  STRATEGY  1.  CONVERGENCE WHEN EDM .LT. 1.00e-03\n",
            " FCN=185614 FROM MIGRAD    STATUS=INITIATE       65 CALLS          66 TOTAL\n",
            "                     EDM= unknown      STRATEGY= 1      NO ERROR MATRIX       \n",
            "  EXT PARAMETER               CURRENT GUESS       STEP         FIRST   \n",
            "  NO.   NAME      VALUE            ERROR          SIZE      DERIVATIVE \n",
            "   1  Gauss_Norm   1.14006e+05   5.70030e+04   0.00000e+00   1.04419e+06\n",
            "   2  Mean         5.24479e+03   2.50000e+01   0.00000e+00  -7.50915e+03\n",
            "   3  Width        4.00000e+01   2.00000e+01   0.00000e+00  -6.02272e+03\n",
            "   4  exp_Norm     1.14006e+05   5.70030e+04   0.00000e+00   8.54467e+05\n",
            "   5  exponent     3.21414e-03   4.00000e-01   1.16072e-02   1.05105e+04\n",
            "                               ERR DEF= 0.5\n",
            " MIGRAD MINIMIZATION HAS CONVERGED.\n",
            " MIGRAD WILL VERIFY CONVERGENCE AND ERROR MATRIX.\n",
            " COVARIANCE MATRIX CALCULATED SUCCESSFULLY\n",
            " FCN=-17843.8 FROM MIGRAD    STATUS=CONVERGED     243 CALLS         244 TOTAL\n",
            "                     EDM=0.000101667    STRATEGY= 1      ERROR MATRIX ACCURATE \n",
            "  EXT PARAMETER                                   STEP         FIRST   \n",
            "  NO.   NAME      VALUE            ERROR          SIZE      DERIVATIVE \n",
            "   1  Gauss_Norm   4.93686e+03   7.72566e+01   3.00381e-05  -5.82619e+00\n",
            "   2  Mean         5.28556e+03   2.91565e-01   2.14086e-04   2.71831e+00\n",
            "   3  Width        1.79823e+01   2.63389e-01   6.27086e-05   7.89504e+00\n",
            "   4  exp_Norm     1.14903e+03   4.67007e+01   4.35852e-05   1.62452e+00\n",
            "   5  exponent    -1.62884e-03   4.37997e-04   1.97316e-05  -2.07852e+01\n",
            "                               ERR DEF= 0.5\n",
            " EXTERNAL ERROR MATRIX.    NDIM=  25    NPAR=  5    ERR DEF=0.5\n",
            "  5.969e+03 -1.286e-01  4.670e+00 -1.032e+03 -3.181e-03 \n",
            " -1.286e-01  8.501e-02 -1.377e-03  1.283e-01 -1.583e-05 \n",
            "  4.670e+00 -1.377e-03  6.937e-02 -4.669e+00 -1.369e-05 \n",
            " -1.032e+03  1.283e-01 -4.669e+00  2.181e+03  3.183e-03 \n",
            " -3.181e-03 -1.583e-05 -1.369e-05  3.183e-03  1.918e-07 \n",
            " PARAMETER  CORRELATION COEFFICIENTS  \n",
            "       NO.  GLOBAL      1      2      3      4      5\n",
            "        1  0.31723   1.000 -0.006  0.230 -0.286 -0.094\n",
            "        2  0.12969  -0.006  1.000 -0.018  0.009 -0.124\n",
            "        3  0.40416   0.230 -0.018  1.000 -0.380 -0.119\n",
            "        4  0.44218  -0.286  0.009 -0.380  1.000  0.156\n",
            "        5  0.21502  -0.094 -0.124 -0.119  0.156  1.000\n",
            " **********\n",
            " **   43 **SET ERR         0.5\n",
            " **********\n",
            " **********\n",
            " **   44 **SET PRINT           1\n",
            " **********\n",
            " **********\n",
            " **   45 **HESSE        2500\n",
            " **********\n",
            " COVARIANCE MATRIX CALCULATED SUCCESSFULLY\n",
            " FCN=-17843.8 FROM HESSE     STATUS=OK             31 CALLS         275 TOTAL\n",
            "                     EDM=0.000101676    STRATEGY= 1      ERROR MATRIX ACCURATE \n",
            "  EXT PARAMETER                                INTERNAL      INTERNAL  \n",
            "  NO.   NAME      VALUE            ERROR       STEP SIZE       VALUE   \n",
            "   1  Gauss_Norm   4.93686e+03   7.72702e+01   6.00762e-06  -1.52692e+00\n",
            "   2  Mean         5.28556e+03   2.91569e-01   4.28173e-05   8.45722e-02\n",
            "   3  Width        1.79823e+01   2.63507e-01   1.25417e-05  -1.46938e+00\n",
            "   4  exp_Norm     1.14903e+03   4.67225e+01   8.71704e-06  -1.54487e+00\n",
            "   5  exponent    -1.62884e-03   4.38071e-04   3.94632e-06  -8.14423e-04\n",
            "                               ERR DEF= 0.5\n",
            " EXTERNAL ERROR MATRIX.    NDIM=  25    NPAR=  5    ERR DEF=0.5\n",
            "  5.971e+03 -1.290e-01  4.684e+00 -1.034e+03 -3.202e-03 \n",
            " -1.290e-01  8.501e-02 -1.434e-03  1.290e-01 -1.582e-05 \n",
            "  4.684e+00 -1.434e-03  6.944e-02 -4.684e+00 -1.378e-05 \n",
            " -1.034e+03  1.290e-01 -4.684e+00  2.183e+03  3.202e-03 \n",
            " -3.202e-03 -1.582e-05 -1.378e-05  3.202e-03  1.919e-07 \n",
            " PARAMETER  CORRELATION COEFFICIENTS  \n",
            "       NO.  GLOBAL      1      2      3      4      5\n",
            "        1  0.31773   1.000 -0.006  0.230 -0.286 -0.095\n",
            "        2  0.12980  -0.006  1.000 -0.019  0.009 -0.124\n",
            "        3  0.40508   0.230 -0.019  1.000 -0.380 -0.119\n",
            "        4  0.44302  -0.286  0.009 -0.380  1.000  0.156\n",
            "        5  0.21577  -0.095 -0.124 -0.119  0.156  1.000\n",
            "[#1] INFO:Minization -- RooMinimizer::optimizeConst: deactivating const optimization\n"
          ],
          "name": "stdout"
        }
      ]
    },
    {
      "cell_type": "code",
      "metadata": {
        "colab": {
          "base_uri": "https://localhost:8080/",
          "height": 557
        },
        "id": "WXSq9_axRG_F",
        "outputId": "483fa53a-bbe0-4bc3-9adf-a1c8d54b561f"
      },
      "source": [
        "c9=ROOT.TCanvas(\"c9\",\"c9\")\n",
        "frame=mass.frame()\n",
        "data_to_fit.plotOn(frame)\n",
        "model.plotOn(frame)\n",
        "model.plotOn(frame, ROOT.RooFit.Components(\"Gauss\"),ROOT.RooFit.LineColor(8),ROOT.RooFit.LineStyle(2))\n",
        "model.plotOn(frame, ROOT.RooFit.Components(\"Bkgnd\"),ROOT.RooFit.LineColor(46),ROOT.RooFit.LineStyle(2))\n",
        "frame.Draw()\n",
        "c9.Update()\n",
        "c9.Draw()"
      ],
      "execution_count": 81,
      "outputs": [
        {
          "output_type": "stream",
          "text": [
            "[#1] INFO:Plotting -- RooAbsPdf::plotOn(Full Model) directly selected PDF components: (Gauss)\n",
            "[#1] INFO:Plotting -- RooAbsPdf::plotOn(Full Model) indirectly selected PDF components: ()\n",
            "[#1] INFO:Plotting -- RooAbsPdf::plotOn(Full Model) directly selected PDF components: (Bkgnd)\n",
            "[#1] INFO:Plotting -- RooAbsPdf::plotOn(Full Model) indirectly selected PDF components: ()\n"
          ],
          "name": "stdout"
        },
        {
          "output_type": "display_data",
          "data": {
            "image/png": "[encoded data removed]",
            "text/plain": [
              "<IPython.core.display.Image object>"
            ]
          },
          "metadata": {
            "tags": []
          }
        }
      ]
    },
    {
      "cell_type": "code",
      "metadata": {
        "colab": {
          "base_uri": "https://localhost:8080/"
        },
        "id": "XcfsaRoDRUFb",
        "outputId": "e8546550-d426-4662-c2ec-7617eaaa6348"
      },
      "source": [
        "##Counting events and doing some maths\n",
        "##First B+ events\n",
        "Bplus_signal_yield = Gauss_Norm.getValV()\n",
        "Bplus_signal_error = Gauss_Norm.getError()\n",
        "Bplus_chi2ndf = frame.chiSquare()\n",
        "\n",
        "print(Bplus_signal_yield, Bplus_signal_error, Bplus_chi2ndf)"
      ],
      "execution_count": 82,
      "outputs": [
        {
          "output_type": "stream",
          "text": [
            "(4936.863765310058, 77.27021313019668, 48.87435285189418)\n"
          ],
          "name": "stdout"
        }
      ]
    },
    {
      "cell_type": "code",
      "metadata": {
        "colab": {
          "base_uri": "https://localhost:8080/"
        },
        "id": "Vb3QAnFERk-L",
        "outputId": "0cc0f811-6613-4c48-8de3-f891f687edac"
      },
      "source": [
        "##Now B- events\n",
        "Bminus_signal_yield = Gauss_Norm.getValV()\n",
        "Bminus_signal_error = Gauss_Norm.getError()\n",
        "Bminus_chi2ndf = frame.chiSquare()\n",
        "\n",
        "print(Bminus_signal_yield, Bminus_signal_error, Bminus_chi2ndf)\n"
      ],
      "execution_count": 83,
      "outputs": [
        {
          "output_type": "stream",
          "text": [
            "(4936.863765310058, 77.27021313019668, 48.87435285189418)\n"
          ],
          "name": "stdout"
        }
      ]
    },
    {
      "cell_type": "code",
      "metadata": {
        "colab": {
          "base_uri": "https://localhost:8080/"
        },
        "id": "iKFM5Y_-RnVe",
        "outputId": "e61984c0-0f21-4e0e-9dcc-f98772f13cd2"
      },
      "source": [
        "#Here do your calculation of the final result\n",
        "import math\n",
        "Assym = (Bminus_signal_yield - Bplus_signal_yield)/(Bminus_signal_yield + Bplus_signal_yield)\n",
        "Assym_err = math.sqrt((1-Assym**2)/(Bminus_signal_yield + Bplus_signal_yield))\n",
        "\n",
        "print(\"A = \" + str(Assym) + \" +- \" + str(Assym_err))"
      ],
      "execution_count": 84,
      "outputs": [
        {
          "output_type": "stream",
          "text": [
            "A = 0.0 +- 0.0100637405244\n"
          ],
          "name": "stdout"
        }
      ]
    }
  ]
}