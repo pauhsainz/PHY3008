{
  "nbformat": 4,
  "nbformat_minor": 0,
  "metadata": {
    "colab": {
      "name": "ML_MNIST_NN_exercise.ipynb",
      "provenance": [],
      "collapsed_sections": [],
      "include_colab_link": true
    },
    "kernelspec": {
      "display_name": "Python 3",
      "language": "python",
      "name": "python3"
    },
    "language_info": {
      "codemirror_mode": {
        "name": "ipython",
        "version": 3
      },
      "file_extension": ".py",
      "mimetype": "text/x-python",
      "name": "python",
      "nbconvert_exporter": "python",
      "pygments_lexer": "ipython3",
      "version": "3.8.8"
    }
  },
  "cells": [
    {
      "cell_type": "markdown",
      "metadata": {
        "id": "view-in-github",
        "colab_type": "text"
      },
      "source": [
        "<a href=\"https://colab.research.google.com/github/pauhsainz/PRA3024/blob/main/ML_MNIST_NN_exercise.ipynb\" target=\"_parent\"><img src=\"https://colab.research.google.com/assets/colab-badge.svg\" alt=\"Open In Colab\"/></a>"
      ]
    },
    {
      "cell_type": "code",
      "metadata": {
        "id": "XpGNAvNbSzkK"
      },
      "source": [
        "import keras\n",
        "from keras.datasets import mnist\n",
        "import matplotlib.pyplot as plt\n",
        "import numpy as np"
      ],
      "execution_count": 2,
      "outputs": []
    },
    {
      "cell_type": "code",
      "metadata": {
        "colab": {
          "base_uri": "https://localhost:8080/"
        },
        "id": "8IRtFU1ZWO0a",
        "outputId": "6b4c5653-4b45-48aa-c50d-f9b0bbea7b09"
      },
      "source": [
        "# load training and test images (x), and their respective classified labels (y).\n",
        "(x_train, y_train), (x_test, y_test) = mnist.load_data()"
      ],
      "execution_count": 3,
      "outputs": [
        {
          "output_type": "stream",
          "text": [
            "Downloading data from https://storage.googleapis.com/tensorflow/tf-keras-datasets/mnist.npz\n",
            "11493376/11490434 [==============================] - 0s 0us/step\n"
          ],
          "name": "stdout"
        }
      ]
    },
    {
      "cell_type": "code",
      "metadata": {
        "colab": {
          "base_uri": "https://localhost:8080/",
          "height": 830
        },
        "id": "5G5KLASFWlnX",
        "outputId": "c6148ec6-8066-47a9-b2a9-644f6525016c"
      },
      "source": [
        "# Investigate the data\n",
        "\n",
        "print(\"Training data shape: \", x_train.shape) # (60000, 28, 28) -- 60000 images, each 28x28 pixels\n",
        "print(\"Test data shape\", x_test.shape) # (10000, 28, 28) -- 10000 images, each 28x28\n",
        "print(\"First 10 training labels as digits:\\n\", y_train[:10])\n",
        "print(\"\")\n",
        "\n",
        "# Plot the first 10 images\n",
        "### STUDENT CODE HERE ###\n",
        "### --> Find a way to plot a sample of 10 images of hand-written digits in the training data\n",
        "pic1, count1 = plt.subplots(5,2, figsize=(5, 10),constrained_layout=True)\n",
        "\n",
        "pic_num = 0\n",
        "for i in range(2):\n",
        "    for j in range(5):\n",
        "        count1[j][i].imshow(x_train[pic_no])\n",
        "        pic_num += 1\n",
        "### END STUDENT CODE ###"
      ],
      "execution_count": 5,
      "outputs": [
        {
          "output_type": "stream",
          "text": [
            "Training data shape:  (60000, 28, 28)\n",
            "Test data shape (10000, 28, 28)\n",
            "First 10 training labels as digits:\n",
            " [5 0 4 1 9 2 1 3 1 4]\n",
            "\n"
          ],
          "name": "stdout"
        },
        {
          "output_type": "display_data",
          "data": {
            "image/png": "[encoded data removed]",
            "text/plain": [
              "<Figure size 360x720 with 10 Axes>"
            ]
          },
          "metadata": {
            "tags": [],
            "needs_background": "light"
          }
        }
      ]
    },
    {
      "cell_type": "code",
      "metadata": {
        "colab": {
          "base_uri": "https://localhost:8080/"
        },
        "id": "nk6I1PweS7Br",
        "outputId": "30fbf0b5-ae23-45ee-bdf1-804a3a613cd5"
      },
      "source": [
        "# Pre-processing of data\n",
        "\n",
        "# Flatten the images\n",
        "image_vector_size = 28*28\n",
        "x_train = x_train.reshape(x_train.shape[0], image_vector_size)\n",
        "x_test = x_test.reshape(x_test.shape[0], image_vector_size)\n",
        "print(\"reshaped training data format: \", x_train.shape) # -- 60000 images, now flat arrays of 28*28 long\n",
        "\n",
        "# one-hot encode the labels\n",
        "num_classes = 10\n",
        "y_train = keras.utils.to_categorical(y_train, num_classes)\n",
        "y_test = keras.utils.to_categorical(y_test, num_classes)\n",
        "print(\"First 10 training lables as one-hot encoded vectors:\\n\", y_train[:10])"
      ],
      "execution_count": 6,
      "outputs": [
        {
          "output_type": "stream",
          "text": [
            "reshaped training data format:  (60000, 784)\n",
            "First 10 training lables as one-hot encoded vectors:\n",
            " [[0. 0. 0. 0. 0. 1. 0. 0. 0. 0.]\n",
            " [1. 0. 0. 0. 0. 0. 0. 0. 0. 0.]\n",
            " [0. 0. 0. 0. 1. 0. 0. 0. 0. 0.]\n",
            " [0. 1. 0. 0. 0. 0. 0. 0. 0. 0.]\n",
            " [0. 0. 0. 0. 0. 0. 0. 0. 0. 1.]\n",
            " [0. 0. 1. 0. 0. 0. 0. 0. 0. 0.]\n",
            " [0. 1. 0. 0. 0. 0. 0. 0. 0. 0.]\n",
            " [0. 0. 0. 1. 0. 0. 0. 0. 0. 0.]\n",
            " [0. 1. 0. 0. 0. 0. 0. 0. 0. 0.]\n",
            " [0. 0. 0. 0. 1. 0. 0. 0. 0. 0.]]\n"
          ],
          "name": "stdout"
        }
      ]
    },
    {
      "cell_type": "code",
      "metadata": {
        "colab": {
          "base_uri": "https://localhost:8080/"
        },
        "id": "f8HyorlxTUgO",
        "outputId": "87c5c2b8-a4d4-45fe-b15a-2206b2ba9038"
      },
      "source": [
        "# Build the network\n",
        "from keras.layers import Dense # Dense layers are \"fully connected\" layers\n",
        "from keras.models import Sequential # Documentation: https://keras.io/models/sequential/\n",
        "\n",
        "model = Sequential()\n",
        "\n",
        "# The input layer requires the special input_shape parameter, which should equal the shape of our training data.\n",
        "# The output layer must be the same size as the (one-hot encoded) labels.\n",
        "# Choose a non-linear activation function such as a sigmoid, or relu.\n",
        "# For classification purposes, where the outputs are normalized 'probabilities' between the classes,\n",
        "#  one typically uses the softmax activation function for the last layer.\n",
        "\n",
        "### STUDENT CODE HERE ###\n",
        "### --> add Dense (fully connected) layers to the model to connect input to output, using model.add().\n",
        "###  Make sure that the dimensionality is correct: input should be # pixels large, \n",
        "###  output should be #classes large. Google is your friend.\n",
        "### END STUDENT CODE ###\n",
        "model.add(keras.layers.Dense(32, activation=\"sigmoid\", input_shape=(28*28,)))\n",
        "model.add(keras.layers.Dense(32, activation=\"sigmoid\"))\n",
        "model.add(keras.layers.Dense(10, activation=\"softmax\"))\n",
        "# Print model summary. Shows network layout, and # free parameters (weights + biases) to adapt while learning.\n",
        "model.summary()"
      ],
      "execution_count": 7,
      "outputs": [
        {
          "output_type": "stream",
          "text": [
            "Model: \"sequential\"\n",
            "_________________________________________________________________\n",
            "Layer (type)                 Output Shape              Param #   \n",
            "=================================================================\n",
            "dense (Dense)                (None, 32)                25120     \n",
            "_________________________________________________________________\n",
            "dense_1 (Dense)              (None, 32)                1056      \n",
            "_________________________________________________________________\n",
            "dense_2 (Dense)              (None, 10)                330       \n",
            "=================================================================\n",
            "Total params: 26,506\n",
            "Trainable params: 26,506\n",
            "Non-trainable params: 0\n",
            "_________________________________________________________________\n"
          ],
          "name": "stdout"
        }
      ]
    },
    {
      "cell_type": "code",
      "metadata": {
        "id": "xLA4UyhnTjUK"
      },
      "source": [
        "# Compile the model\n",
        "\n",
        "# A good loss function for probability classification that works well with softmax is the 'categorical crossentropy'.\n",
        "#  It's a function of the difference between the predicted y (from running the image through the network),\n",
        "#  and the actual label y that we get from the dataset. The larger the loss, the worst our network is performing.\n",
        "# A good optimizer is the stochastic gradient descent (sgd) or adam.\n",
        "\n",
        "### STUDENT CODE HERE ###\n",
        "model.compile(optimizer='sgd', loss='categorical_crossentropy', metrics=['accuracy'])\n",
        "### END STUDENT CODE ###"
      ],
      "execution_count": 9,
      "outputs": []
    },
    {
      "cell_type": "code",
      "metadata": {
        "colab": {
          "base_uri": "https://localhost:8080/",
          "height": 1000
        },
        "id": "Hpxjqt02r4bJ",
        "outputId": "79be53d1-81e8-4a10-aa4b-af4d1f944230"
      },
      "source": [
        "# Let's see how good the model 'predicts' some hand-written digits in our test dataset, without training.\n",
        "# It's probably random: so for 10 digits, it should get an accuracy around 0.1 .\n",
        "\n",
        "loss, accuracy  = model.evaluate(x_test, y_test, verbose=False)\n",
        "print(f'Test loss: {loss:.3}')\n",
        "print(f'Test accuracy: {accuracy:.3}')\n",
        "\n",
        "y_pred_test = model.predict_proba(x_test)\n",
        "\n",
        "### STUDENT CODE HERE ###\n",
        "### --> call model.predict_proba() on the test images, and show the predictions of the\n",
        "###  untrained model for the first 10 images. Also, plot those images, as you did above.\n",
        "for pred, real in zip(y_pred_test[:10], y_test[:10]):\n",
        "    print(\"predicted: \" + str(np.where(pred == max(pred))[0]) + \" ; real: \" + str(np.where(real == max(real))[0]))\n",
        "    \n",
        "pic2, count2 = plt.subplots(5,2, figsize=(5, 10),constrained_layout=True)\n",
        "\n",
        "pic_num = 0\n",
        "for i in range(2):\n",
        "    for j in range(5):\n",
        "       count2[j][i].imshow(x_test[pic_num].reshape(28,28))\n",
        "       pic_num += 1\n",
        "### END STUDENT CODE ###"
      ],
      "execution_count": 12,
      "outputs": [
        {
          "output_type": "stream",
          "text": [
            "Test loss: 2.44\n",
            "Test accuracy: 0.0871\n"
          ],
          "name": "stdout"
        },
        {
          "output_type": "stream",
          "text": [
            "/usr/local/lib/python3.7/dist-packages/tensorflow/python/keras/engine/sequential.py:425: UserWarning: `model.predict_proba()` is deprecated and will be removed after 2021-01-01. Please use `model.predict()` instead.\n",
            "  warnings.warn('`model.predict_proba()` is deprecated and '\n"
          ],
          "name": "stderr"
        },
        {
          "output_type": "stream",
          "text": [
            "predicted: [1] ; real: [7]\n",
            "predicted: [6] ; real: [2]\n",
            "predicted: [6] ; real: [1]\n",
            "predicted: [1] ; real: [0]\n",
            "predicted: [1] ; real: [4]\n",
            "predicted: [6] ; real: [1]\n",
            "predicted: [1] ; real: [4]\n",
            "predicted: [1] ; real: [9]\n",
            "predicted: [1] ; real: [5]\n",
            "predicted: [1] ; real: [9]\n"
          ],
          "name": "stdout"
        },
        {
          "output_type": "display_data",
          "data": {
            "image/png": "[encoded data removed]",
            "text/plain": [
              "<Figure size 432x720 with 10 Axes>"
            ]
          },
          "metadata": {
            "tags": [],
            "needs_background": "light"
          }
        }
      ]
    },
    {
      "cell_type": "code",
      "metadata": {
        "colab": {
          "base_uri": "https://localhost:8080/"
        },
        "id": "gCkCK2BZZRG5",
        "outputId": "d8160015-e2d6-49af-a70a-f4549160a1e6"
      },
      "source": [
        "# Train the model.\n",
        "\n",
        "# BATCH_SIZE defines how many images to process at once.\n",
        "# EPOCHS defines how often to run over the total data (60000 images)\n",
        "# (Note that a small part of the train data is internally split off for independent validation of the metrics)\n",
        "\n",
        "### STUDENT CODE HERE ###\n",
        "### --> Edit the parameters below to obtain a better accuracy in the training.\n",
        "\n",
        "BATCH_SIZE = 100\n",
        "EPOCHS = 50\n",
        "\n",
        "history = model.fit(x_train, y_train, batch_size=BATCH_SIZE, epochs=EPOCHS, verbose=1, validation_split=.1)"
      ],
      "execution_count": 13,
      "outputs": [
        {
          "output_type": "stream",
          "text": [
            "Epoch 1/50\n",
            "540/540 [==============================] - 2s 2ms/step - loss: 2.1519 - accuracy: 0.3720 - val_loss: 1.9725 - val_accuracy: 0.6048\n",
            "Epoch 2/50\n",
            "540/540 [==============================] - 1s 2ms/step - loss: 1.8464 - accuracy: 0.6200 - val_loss: 1.6826 - val_accuracy: 0.6997\n",
            "Epoch 3/50\n",
            "540/540 [==============================] - 1s 2ms/step - loss: 1.5761 - accuracy: 0.7028 - val_loss: 1.4170 - val_accuracy: 0.7737\n",
            "Epoch 4/50\n",
            "540/540 [==============================] - 1s 2ms/step - loss: 1.3315 - accuracy: 0.7613 - val_loss: 1.1828 - val_accuracy: 0.8202\n",
            "Epoch 5/50\n",
            "540/540 [==============================] - 1s 2ms/step - loss: 1.1280 - accuracy: 0.8000 - val_loss: 0.9956 - val_accuracy: 0.8517\n",
            "Epoch 6/50\n",
            "540/540 [==============================] - 1s 2ms/step - loss: 0.9655 - accuracy: 0.8287 - val_loss: 0.8485 - val_accuracy: 0.8647\n",
            "Epoch 7/50\n",
            "540/540 [==============================] - 1s 2ms/step - loss: 0.8441 - accuracy: 0.8436 - val_loss: 0.7407 - val_accuracy: 0.8843\n",
            "Epoch 8/50\n",
            "540/540 [==============================] - 1s 2ms/step - loss: 0.7469 - accuracy: 0.8579 - val_loss: 0.6545 - val_accuracy: 0.8912\n",
            "Epoch 9/50\n",
            "540/540 [==============================] - 1s 2ms/step - loss: 0.6710 - accuracy: 0.8683 - val_loss: 0.5871 - val_accuracy: 0.8967\n",
            "Epoch 10/50\n",
            "540/540 [==============================] - 1s 2ms/step - loss: 0.6125 - accuracy: 0.8735 - val_loss: 0.5346 - val_accuracy: 0.9002\n",
            "Epoch 11/50\n",
            "540/540 [==============================] - 1s 2ms/step - loss: 0.5639 - accuracy: 0.8808 - val_loss: 0.4961 - val_accuracy: 0.9000\n",
            "Epoch 12/50\n",
            "540/540 [==============================] - 1s 2ms/step - loss: 0.5244 - accuracy: 0.8857 - val_loss: 0.4535 - val_accuracy: 0.9082\n",
            "Epoch 13/50\n",
            "540/540 [==============================] - 1s 2ms/step - loss: 0.4888 - accuracy: 0.8913 - val_loss: 0.4269 - val_accuracy: 0.9122\n",
            "Epoch 14/50\n",
            "540/540 [==============================] - 1s 2ms/step - loss: 0.4598 - accuracy: 0.8942 - val_loss: 0.4074 - val_accuracy: 0.9155\n",
            "Epoch 15/50\n",
            "540/540 [==============================] - 1s 2ms/step - loss: 0.4409 - accuracy: 0.8952 - val_loss: 0.3786 - val_accuracy: 0.9183\n",
            "Epoch 16/50\n",
            "540/540 [==============================] - 1s 2ms/step - loss: 0.4213 - accuracy: 0.9000 - val_loss: 0.3622 - val_accuracy: 0.9172\n",
            "Epoch 17/50\n",
            "540/540 [==============================] - 1s 2ms/step - loss: 0.4057 - accuracy: 0.8997 - val_loss: 0.3525 - val_accuracy: 0.9188\n",
            "Epoch 18/50\n",
            "540/540 [==============================] - 1s 2ms/step - loss: 0.3924 - accuracy: 0.9024 - val_loss: 0.3406 - val_accuracy: 0.9195\n",
            "Epoch 19/50\n",
            "540/540 [==============================] - 1s 2ms/step - loss: 0.3784 - accuracy: 0.9062 - val_loss: 0.3423 - val_accuracy: 0.9162\n",
            "Epoch 20/50\n",
            "540/540 [==============================] - 1s 2ms/step - loss: 0.3671 - accuracy: 0.9075 - val_loss: 0.3348 - val_accuracy: 0.9162\n",
            "Epoch 21/50\n",
            "540/540 [==============================] - 1s 2ms/step - loss: 0.3585 - accuracy: 0.9081 - val_loss: 0.3127 - val_accuracy: 0.9250\n",
            "Epoch 22/50\n",
            "540/540 [==============================] - 1s 2ms/step - loss: 0.3550 - accuracy: 0.9090 - val_loss: 0.3167 - val_accuracy: 0.9210\n",
            "Epoch 23/50\n",
            "540/540 [==============================] - 1s 2ms/step - loss: 0.3409 - accuracy: 0.9113 - val_loss: 0.2923 - val_accuracy: 0.9283\n",
            "Epoch 24/50\n",
            "540/540 [==============================] - 1s 2ms/step - loss: 0.3314 - accuracy: 0.9139 - val_loss: 0.2963 - val_accuracy: 0.9242\n",
            "Epoch 25/50\n",
            "540/540 [==============================] - 1s 2ms/step - loss: 0.3235 - accuracy: 0.9152 - val_loss: 0.2762 - val_accuracy: 0.9327\n",
            "Epoch 26/50\n",
            "540/540 [==============================] - 1s 2ms/step - loss: 0.3185 - accuracy: 0.9166 - val_loss: 0.2761 - val_accuracy: 0.9302\n",
            "Epoch 27/50\n",
            "540/540 [==============================] - 1s 2ms/step - loss: 0.3164 - accuracy: 0.9156 - val_loss: 0.2740 - val_accuracy: 0.9293\n",
            "Epoch 28/50\n",
            "540/540 [==============================] - 1s 2ms/step - loss: 0.3094 - accuracy: 0.9169 - val_loss: 0.2781 - val_accuracy: 0.9260\n",
            "Epoch 29/50\n",
            "540/540 [==============================] - 1s 2ms/step - loss: 0.3076 - accuracy: 0.9168 - val_loss: 0.2622 - val_accuracy: 0.9333\n",
            "Epoch 30/50\n",
            "540/540 [==============================] - 1s 2ms/step - loss: 0.3013 - accuracy: 0.9199 - val_loss: 0.2636 - val_accuracy: 0.9305\n",
            "Epoch 31/50\n",
            "540/540 [==============================] - 1s 2ms/step - loss: 0.2972 - accuracy: 0.9200 - val_loss: 0.2568 - val_accuracy: 0.9345\n",
            "Epoch 32/50\n",
            "540/540 [==============================] - 1s 2ms/step - loss: 0.2940 - accuracy: 0.9196 - val_loss: 0.2570 - val_accuracy: 0.9322\n",
            "Epoch 33/50\n",
            "540/540 [==============================] - 1s 2ms/step - loss: 0.2897 - accuracy: 0.9208 - val_loss: 0.2495 - val_accuracy: 0.9325\n",
            "Epoch 34/50\n",
            "540/540 [==============================] - 1s 2ms/step - loss: 0.2884 - accuracy: 0.9221 - val_loss: 0.2506 - val_accuracy: 0.9323\n",
            "Epoch 35/50\n",
            "540/540 [==============================] - 1s 2ms/step - loss: 0.2846 - accuracy: 0.9229 - val_loss: 0.2494 - val_accuracy: 0.9325\n",
            "Epoch 36/50\n",
            "540/540 [==============================] - 1s 2ms/step - loss: 0.2865 - accuracy: 0.9214 - val_loss: 0.2565 - val_accuracy: 0.9298\n",
            "Epoch 37/50\n",
            "540/540 [==============================] - 1s 2ms/step - loss: 0.2729 - accuracy: 0.9253 - val_loss: 0.2378 - val_accuracy: 0.9340\n",
            "Epoch 38/50\n",
            "540/540 [==============================] - 1s 2ms/step - loss: 0.2770 - accuracy: 0.9241 - val_loss: 0.2393 - val_accuracy: 0.9357\n",
            "Epoch 39/50\n",
            "540/540 [==============================] - 1s 2ms/step - loss: 0.2718 - accuracy: 0.9249 - val_loss: 0.2400 - val_accuracy: 0.9325\n",
            "Epoch 40/50\n",
            "540/540 [==============================] - 1s 2ms/step - loss: 0.2670 - accuracy: 0.9249 - val_loss: 0.2361 - val_accuracy: 0.9357\n",
            "Epoch 41/50\n",
            "540/540 [==============================] - 1s 2ms/step - loss: 0.2697 - accuracy: 0.9246 - val_loss: 0.2256 - val_accuracy: 0.9398\n",
            "Epoch 42/50\n",
            "540/540 [==============================] - 1s 2ms/step - loss: 0.2685 - accuracy: 0.9243 - val_loss: 0.2287 - val_accuracy: 0.9370\n",
            "Epoch 43/50\n",
            "540/540 [==============================] - 1s 2ms/step - loss: 0.2620 - accuracy: 0.9262 - val_loss: 0.2381 - val_accuracy: 0.9392\n",
            "Epoch 44/50\n",
            "540/540 [==============================] - 1s 2ms/step - loss: 0.2604 - accuracy: 0.9269 - val_loss: 0.2249 - val_accuracy: 0.9398\n",
            "Epoch 45/50\n",
            "540/540 [==============================] - 1s 2ms/step - loss: 0.2598 - accuracy: 0.9266 - val_loss: 0.2223 - val_accuracy: 0.9375\n",
            "Epoch 46/50\n",
            "540/540 [==============================] - 1s 2ms/step - loss: 0.2616 - accuracy: 0.9263 - val_loss: 0.2258 - val_accuracy: 0.9352\n",
            "Epoch 47/50\n",
            "540/540 [==============================] - 1s 2ms/step - loss: 0.2565 - accuracy: 0.9279 - val_loss: 0.2245 - val_accuracy: 0.9372\n",
            "Epoch 48/50\n",
            "540/540 [==============================] - 1s 2ms/step - loss: 0.2496 - accuracy: 0.9293 - val_loss: 0.2244 - val_accuracy: 0.9375\n",
            "Epoch 49/50\n",
            "540/540 [==============================] - 1s 2ms/step - loss: 0.2517 - accuracy: 0.9288 - val_loss: 0.2211 - val_accuracy: 0.9433\n",
            "Epoch 50/50\n",
            "540/540 [==============================] - 1s 2ms/step - loss: 0.2468 - accuracy: 0.9300 - val_loss: 0.2150 - val_accuracy: 0.9423\n"
          ],
          "name": "stdout"
        }
      ]
    },
    {
      "cell_type": "code",
      "metadata": {
        "colab": {
          "base_uri": "https://localhost:8080/",
          "height": 295
        },
        "id": "D378PNIcm4yY",
        "outputId": "943de5ff-b6b8-42a7-efe7-ebfcc5b5e162"
      },
      "source": [
        "# Plot the progression of the training loss\n",
        "\n",
        "plt.plot(history.history['loss'])\n",
        "plt.plot(history.history['val_loss'])\n",
        "plt.title('model loss')\n",
        "plt.ylabel('loss')\n",
        "plt.xlabel('epoch')\n",
        "plt.legend(['training', 'validation'], loc='best')\n",
        "plt.show()"
      ],
      "execution_count": 14,
      "outputs": [
        {
          "output_type": "display_data",
          "data": {
            "image/png": "[encoded data removed]",
            "text/plain": [
              "<Figure size 432x288 with 1 Axes>"
            ]
          },
          "metadata": {
            "tags": [],
            "needs_background": "light"
          }
        }
      ]
    },
    {
      "cell_type": "code",
      "metadata": {
        "colab": {
          "base_uri": "https://localhost:8080/",
          "height": 295
        },
        "id": "arNvXRj8W3i9",
        "outputId": "8590adef-b834-415c-c56f-3fce9fc52e1a"
      },
      "source": [
        "# Plot the progression of the training accuracy\n",
        "\n",
        "plt.plot(history.history['accuracy'])\n",
        "plt.plot(history.history['val_accuracy'])\n",
        "plt.title('model accuracy')\n",
        "plt.ylabel('accuracy')\n",
        "plt.xlabel('epoch')\n",
        "plt.legend(['training', 'validation'], loc='best')\n",
        "plt.show()"
      ],
      "execution_count": 15,
      "outputs": [
        {
          "output_type": "display_data",
          "data": {
            "image/png": "[encoded data removed]",
            "text/plain": [
              "<Figure size 432x288 with 1 Axes>"
            ]
          },
          "metadata": {
            "tags": [],
            "needs_background": "light"
          }
        }
      ]
    },
    {
      "cell_type": "code",
      "metadata": {
        "colab": {
          "base_uri": "https://localhost:8080/"
        },
        "id": "AY46AfbHT0SZ",
        "outputId": "390e90bc-a28d-4628-ecae-f9f5212843ab"
      },
      "source": [
        "# Evaluate model on test data - how often does the network predict the right label after training?\n",
        "\n",
        "loss, accuracy  = model.evaluate(x_test, y_test, verbose=False)\n",
        "\n",
        "print(f'Test loss: {loss:.3}')\n",
        "print(f'Test accuracy: {accuracy:.3}')\n",
        "\n",
        "# Make a confusion matrix to see which numbers are difficult to disentangle\n",
        "\n",
        "y_pred_test = model.predict_proba(x_test) # obtain one-hot encoded predictions for the x_test images\n",
        "y_test_index      = [ np.argmax(i) for i in y_test ] # actual number known labels\n",
        "y_pred_test_index = [ np.argmax(i) for i in y_pred_test ] # actual number predictions\n",
        "y_pred_test_proba = [ y_pred_test[i][ y_pred_test_index[i] ] for i in range(len(y_test_index)) ] # probabilities to be correct\n",
        "\n",
        "from sklearn.metrics import confusion_matrix\n",
        "### STUDENT CODE HERE ###\n",
        "### --> Now predict again the labels for the test images, but after proper training.\n",
        "###  Build a confusion matrix to show which labels we often confuse with what.\n",
        "###  (Note that the y_test and y_pred are still one-hot encoded, so you need to get\n",
        "###   the index of the maximum entry to find the corresponding predicted 'number'.\n",
        "confusion_matrix(y_test_index, y_pred_test_index)\n",
        "### END STUDENT CODE ###"
      ],
      "execution_count": 16,
      "outputs": [
        {
          "output_type": "stream",
          "text": [
            "Test loss: 0.246\n",
            "Test accuracy: 0.93\n"
          ],
          "name": "stdout"
        },
        {
          "output_type": "stream",
          "text": [
            "/usr/local/lib/python3.7/dist-packages/tensorflow/python/keras/engine/sequential.py:425: UserWarning: `model.predict_proba()` is deprecated and will be removed after 2021-01-01. Please use `model.predict()` instead.\n",
            "  warnings.warn('`model.predict_proba()` is deprecated and '\n"
          ],
          "name": "stderr"
        },
        {
          "output_type": "execute_result",
          "data": {
            "text/plain": [
              "array([[ 957,    0,    3,    1,    1,    7,    4,    4,    3,    0],\n",
              "       [   0, 1112,    2,    6,    0,    3,    4,    4,    4,    0],\n",
              "       [   9,    2,  960,    7,   14,    1,   15,    8,   15,    1],\n",
              "       [   6,    2,   21,  920,    0,   29,    4,   10,   10,    8],\n",
              "       [   2,    1,    3,    0,  917,    2,   12,    1,    4,   40],\n",
              "       [  11,    3,    5,   33,    9,  790,   10,    3,   19,    9],\n",
              "       [  18,    1,    7,    0,   14,   10,  904,    1,    3,    0],\n",
              "       [   3,    8,   25,    5,    4,    0,    0,  954,    2,   27],\n",
              "       [   5,    2,    7,   14,    7,   23,   13,   15,  872,   16],\n",
              "       [   7,    3,    1,   10,   40,    8,    0,   15,    8,  917]])"
            ]
          },
          "metadata": {
            "tags": []
          },
          "execution_count": 16
        }
      ]
    },
    {
      "cell_type": "code",
      "metadata": {
        "colab": {
          "base_uri": "https://localhost:8080/",
          "height": 915
        },
        "id": "e824_G2qZ4Lg",
        "outputId": "c4924b2f-f44f-46b4-d599-554dcedd3ec3"
      },
      "source": [
        "# Show some predicted labels and their probabilities to be correct\n",
        "\n",
        "### STUDENT CODE HERE ###\n",
        "### --> Now show some hand-written digit images from the test sample, \n",
        "###  their corresponding true label, their predicted label from your network,\n",
        "###  and the probability associated with that prediction.\n",
        "for pred, real in zip(y_pred_test[:10], y_test[:10]):\n",
        "    print(\"predicted: \" + str(np.where(pred == max(pred))[0]) + \" ; real: \" + str(np.where(real == max(real))[0]))\n",
        "    \n",
        "\n",
        "pic3, count3 = plt.subplots(5,2, figsize=(5, 10),constrained_layout=True)\n",
        "\n",
        "pic_num = 0\n",
        "for i in range(2):\n",
        "    for j in range(5):\n",
        "        ax1[j][i].imshow(x_test[pic_num].reshape(28,28))\n",
        "        pic_num += 1\n",
        "### END STUDENT CODE ###"
      ],
      "execution_count": 17,
      "outputs": [
        {
          "output_type": "stream",
          "text": [
            "predicted: [7] ; real: [7]\n",
            "predicted: [2] ; real: [2]\n",
            "predicted: [1] ; real: [1]\n",
            "predicted: [0] ; real: [0]\n",
            "predicted: [4] ; real: [4]\n",
            "predicted: [1] ; real: [1]\n",
            "predicted: [4] ; real: [4]\n",
            "predicted: [9] ; real: [9]\n",
            "predicted: [5] ; real: [5]\n",
            "predicted: [9] ; real: [9]\n"
          ],
          "name": "stdout"
        },
        {
          "output_type": "display_data",
          "data": {
            "image/png": "[encoded data removed]",
            "text/plain": [
              "<Figure size 360x720 with 10 Axes>"
            ]
          },
          "metadata": {
            "tags": [],
            "needs_background": "light"
          }
        }
      ]
    },
    {
      "cell_type": "code",
      "metadata": {
        "id": "C3GO3lDpR4qm"
      },
      "source": [
        ""
      ],
      "execution_count": null,
      "outputs": []
    }
  ]
}