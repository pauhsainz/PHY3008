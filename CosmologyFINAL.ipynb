{
  "nbformat": 4,
  "nbformat_minor": 0,
  "metadata": {
    "colab": {
      "name": "CosmologyMCMC101.ipynb",
      "provenance": [],
      "collapsed_sections": [],
      "include_colab_link": true
    },
    "kernelspec": {
      "display_name": "Python 3",
      "language": "python",
      "name": "python3"
    },
    "language_info": {
      "codemirror_mode": {
        "name": "ipython",
        "version": 3
      },
      "file_extension": ".py",
      "mimetype": "text/x-python",
      "name": "python",
      "nbconvert_exporter": "python",
      "pygments_lexer": "ipython3",
      "version": "3.8.7"
    }
  },
  "cells": [
    {
      "cell_type": "markdown",
      "metadata": {
        "id": "view-in-github",
        "colab_type": "text"
      },
      "source": [
        "<a href=\"https://colab.research.google.com/github/pauhsainz/PRA3024/blob/main/CosmologyFINAL.ipynb\" target=\"_parent\"><img src=\"https://colab.research.google.com/assets/colab-badge.svg\" alt=\"Open In Colab\"/></a>"
      ]
    },
    {
      "cell_type": "markdown",
      "metadata": {
        "id": "TkdruF2bYl5j"
      },
      "source": [
        "# <span style='color:deepskyblue'> Cosmology MCMC notebook </span>"
      ]
    },
    {
      "cell_type": "markdown",
      "metadata": {
        "id": "t0SazaVif4pl"
      },
      "source": [
        "## <span style='color:deepskyblue'>Preliminaries</span>"
      ]
    },
    {
      "cell_type": "code",
      "metadata": {
        "colab": {
          "base_uri": "https://localhost:8080/"
        },
        "id": "y6hcXmMbhbMA",
        "scrolled": true,
        "outputId": "49b737b8-1744-4856-e6c2-1dfaf09bbcba"
      },
      "source": [
        "# Install required packages (if not available on server)\n",
        "!pip install getdist\n",
        "import numpy as np\n",
        "import matplotlib.pyplot as plt"
      ],
      "execution_count": 8,
      "outputs": [
        {
          "output_type": "stream",
          "text": [
            "Requirement already satisfied: getdist in /usr/local/lib/python3.7/dist-packages (1.1.4)\n",
            "Requirement already satisfied: scipy>=1.0.0 in /usr/local/lib/python3.7/dist-packages (from getdist) (1.4.1)\n",
            "Requirement already satisfied: matplotlib>=2.2.0 in /usr/local/lib/python3.7/dist-packages (from getdist) (3.2.2)\n",
            "Requirement already satisfied: numpy in /usr/local/lib/python3.7/dist-packages (from getdist) (1.19.5)\n",
            "Requirement already satisfied: kiwisolver>=1.0.1 in /usr/local/lib/python3.7/dist-packages (from matplotlib>=2.2.0->getdist) (1.3.1)\n",
            "Requirement already satisfied: python-dateutil>=2.1 in /usr/local/lib/python3.7/dist-packages (from matplotlib>=2.2.0->getdist) (2.8.1)\n",
            "Requirement already satisfied: cycler>=0.10 in /usr/local/lib/python3.7/dist-packages (from matplotlib>=2.2.0->getdist) (0.10.0)\n",
            "Requirement already satisfied: pyparsing!=2.0.4,!=2.1.2,!=2.1.6,>=2.0.1 in /usr/local/lib/python3.7/dist-packages (from matplotlib>=2.2.0->getdist) (2.4.7)\n",
            "Requirement already satisfied: six>=1.5 in /usr/local/lib/python3.7/dist-packages (from python-dateutil>=2.1->matplotlib>=2.2.0->getdist) (1.15.0)\n"
          ],
          "name": "stdout"
        }
      ]
    },
    {
      "cell_type": "markdown",
      "metadata": {
        "id": "ayxOF90lVqKY"
      },
      "source": [
        "## <span style='color:deepskyblue'> The $\\Lambda$CDM Model </span>\n",
        "\n",
        "The Lambda-Cold-Dark-Matter ($\\Lambda$CDM) Model is our concordance cosmological model. It postulates a Universe that behaves according to **General Relativity**, filled with **baryons** (protons, neutrons - the stuff we and stars are made of!), **Cold Dark Matter (CDM)** and a **Cosmological Constant** $\\Lambda$.\n",
        "\n",
        "The expansion of the Universe is best described in terms of the **scale factor** $a$ (the \"radius\" of the Universe, conventionally set to 1 today) and the **Hubble rate** $H$\n",
        "\n",
        "$$\n",
        "H \\equiv \\frac{\\dot a}{a}\n",
        "$$\n",
        "\n",
        "The Einstein Equations in a **homogeneous, isotropic** Universe have an especially simple form and a special name, **Friedmann Equation**:\n",
        "\n",
        "$$\n",
        "H^2 = \\frac{8\\pi G}{3}\\rho + \\frac{k}{a^2}\n",
        "$$\n",
        "\n",
        "where $\\rho$ is the total energy density of the Universe (at a certain time or size), and $k$ is a universal constant related to the [spatial curvature and shape of the Universe](https://en.wikipedia.org/wiki/Shape_of_the_universe#:~:text=The%20spatial%20curvature%20is%20related,indistinguishable%20spaces%20with%20different%20topologies.). In the $\\Lambda$CDM model, this additionally simplifies to\n",
        "\n",
        "$$\n",
        "\\boxed{\n",
        "H^2 = H_0^2\\left(\\Omega_\\Lambda + \\Omega_m a^{-3} + \\Omega_k a^{-2}\\right)\n",
        "}\n",
        "\\qquad\n",
        "\\qquad\n",
        "\\Omega_m + \\Omega_\\Lambda + \\Omega_k = 1\n",
        "$$\n",
        "\n",
        "$H_0$ is the value of the Hubble rate *today*, and the parameters $\\Omega_m$, $\\Omega_\\Lambda$ and $\\Omega_k$ are dimensionless quantities indicating how much of the present expansion of the Universe is due to (non-relativistic) matter, cosmological constant $\\Lambda$, and spatial curvature $k$. Note that the three $\\Omega$'s are *not independent* (their sum is 1) and that we grouped together the contribution of baryons and CDM,\n",
        "\n",
        "$$\n",
        "\\Omega_m = \\Omega_{\\rm CDM} + \\Omega_{\\rm b}\n",
        "$$\n",
        "\n",
        "and that we have evidence that independent evidence that $\\Omega_b \\approx 5$\\%. Note that only $\\Omega_m \\geq 0$ makes physical sense, while in principle both $\\Omega_\\Lambda$ and $\\Omega_k$ can be negative.\n",
        "\n",
        "The present Hubble rate is conventionally parametrised in terms of the dimensionless $h$:\n",
        "\n",
        "$$\n",
        "H_0 \\equiv h\\,\\frac{\\text{km}}{\\text{s Mpc}}\n",
        "$$\n",
        "\n",
        "where Mpc = Megaparsec and [parsec](https://en.wikipedia.org/wiki/Parsec) equals to about $3.26$ light years or $3.086 \\cdot 10^{16}$ m. \n",
        "\n",
        "In essence, these equations give us the relation between *what exists in the Universe* and *how the Universe expanded*. Measure one, I can tell you the other. This is precisely what we aim to do!\n",
        "\n",
        "Time to define the function $H(z)$. Don't forget to include the useful parameters as arguments of the function, and to define `parsec`."
      ]
    },
    {
      "cell_type": "code",
      "metadata": {
        "id": "l6U027zSZZHo"
      },
      "source": [
        "#Initial Definitions\n",
        "H_0=70\n",
        "O_l=0.7\n",
        "O_m=0.3\n",
        "O_k=0\n",
        "z=0.5"
      ],
      "execution_count": 9,
      "outputs": []
    },
    {
      "cell_type": "code",
      "metadata": {
        "id": "zZj6uXZAWP-y"
      },
      "source": [
        "\n",
        "PARSEC = 3.086E+13 # <--- YOUR CODE GOES HERE!\n",
        "MEGAPC= PARSEC*(10E+6)\n",
        "# Hubble rate\n",
        "def Hubble(H_0, O_l, O_m, O_k, z):\n",
        "    Hubble_val=H_0*math.sqrt( O_l + O_m*((1+z)**3) + O_k*((1+z)**2) )\n",
        "    return Hubble_val # <--- YOUR CODE GOES HERE!"
      ],
      "execution_count": 10,
      "outputs": []
    },
    {
      "cell_type": "markdown",
      "metadata": {
        "id": "bCHBDzL9WP-z"
      },
      "source": [
        "##  <span style='color:deepskyblue'>Supernovae Ia</span>\n",
        "\n",
        "In order to track the expansion of the Universe, we will look at Supernovae type Ia observations. SNIa are formed when a *white dwarf* accretes matter from a companion until it reaches a critical mass of about $1.44 M_\\odot$ (solar masses), after which it explodes **at always the same luminosity** $L_{\\rm SN}$. Therefore, the observed [magnitude](https://en.wikipedia.org/wiki/Magnitude_(astronomy)) is only a function of their [**luminosity distance**](https://en.wikipedia.org/wiki/Distance_measures_(cosmology)) from Earth, defined as the ratio of the intrinsic luminosity $L_{\\rm SNIa}$ and the measured *surface brightness* $\\Phi$ (energy per unit time per unit area)\n",
        "\n",
        "$$ d_L\\equiv \\frac{L_{\\rm SN}}{4\\pi \\Phi} $$\n",
        "\n",
        "While photons (light rays) travel from the distant SNIa to Earth, the Universe expands and the photons get redshifted, and this redshift is directly related to the size of the Universe when the photon was emitted compared to today:\n",
        "\n",
        "$$ \\frac{\\lambda_{\\rm obs}}{\\lambda_{\\rm em}} \\equiv 1 + z_{\\rm em} = \\frac{1}{a_{\\rm em}}$$\n",
        "\n",
        "We can express the luminosity distance in terms of the Hubble rate:\n",
        "\n",
        "$$ \n",
        "\\boxed{\n",
        "\n",
        "d_L(z) = \\frac{c}{H_0}(1+z) \\times \n",
        "\\begin{cases}\n",
        "    \\cfrac{1}{\\sqrt{\\Omega_k}} \\sinh\\left(\\sqrt{\\Omega_k}D(z)\\right) & \\Omega_k > 0\n",
        "    \\\\[.5em]\n",
        "    D(z) & \\Omega_k = 0\n",
        "    \\\\[.5em]\n",
        "    \\cfrac{1}{\\sqrt{-\\Omega_k}} \\sin\\left(\\sqrt{-\\Omega_k}D(z)\\right) & \\Omega_k < 0\n",
        "\\end{cases}\n",
        "\\qquad\\qquad\n",
        "D(z) \\equiv H_0\\int_0^z \\frac{{\\rm d}Z}{H(Z)}\n",
        "\n",
        "}\n",
        "$$\n",
        "\n",
        "where $c$ is the speed of light: $c \\simeq 2.998 \\cdot 10^{5}$ km/s.\n",
        "\n",
        "Clearly, there exists a relation between $d_L(z)$ and $H(z)$, so the luminosity distance is a useful measure of the Universe expansion history.\n",
        "\n",
        "We can create the function `dL(z, h, Omega_m, Omega_L)`. You can also pass the function `Hubble` as an argument: `dL(z, Hubble, Omega_m, Omega_Lambda)`. Additionally, you can create $D(z)$ for your convenience.\n",
        "\n",
        "Note that you need to integrate the function $H(z)$, so write your own quick-and-easy numerical integrator or [look up the pre-written methods](https://docs.scipy.org/doc/scipy/reference/tutorial/integrate.html). Make sure it returns $d_L$ in parsecs and that it uses $H_0$ measured in km/s/Mpc!"
      ]
    },
    {
      "cell_type": "code",
      "metadata": {
        "id": "bNi-YTX3aJ3r"
      },
      "source": [
        "#Calculating d(z)\n",
        "import scipy.integrate as integrate\n",
        "def Integrand(x):\n",
        "  return 1/(H_0 * math.sqrt(O_l + O_m * ((1+x)**3) + abs(O_k)*((1+x)**2) ))\n",
        "\n",
        "def Integral(H_0, O_l, O_m, O_k, z):\n",
        "  return integrate.quad(Integrand, 0, z)[0]\n",
        "\n",
        "def dZ(H_0, O_l, O_m, O_k, z):\n",
        "  return H_0*Integral(H_0, O_l, O_m, O_k, z)"
      ],
      "execution_count": 11,
      "outputs": []
    },
    {
      "cell_type": "code",
      "metadata": {
        "id": "8ZwxwQcKWP-z"
      },
      "source": [
        "# Luminosity distance\n",
        "SPEED_OF_LIGHT = 2.99E+5 # <--- YOUR CODE GOES HERE!\n",
        "def dL(H_0, O_l, O_m, O_k, z):\n",
        "\n",
        "  if (O_k > 0): #Spherical Universe\n",
        "    distance = ( 1/math.sqrt(O_k) ) *  math.sinh( math.sqrt(O_k) * dZ(H_0, O_l, O_m, O_k, z))\n",
        "\n",
        "  elif (O_k == 0): #Flat universe\n",
        "    distance = dZ(H_0, O_l, O_m, O_k, z)\n",
        "  \n",
        "  else: #Hyperbolic Universe\n",
        "    O_k = (-1)*O_k\n",
        "    distance = ( 1/math.sqrt(O_k) ) * math.sin( math.sqrt(O_k)* dZ(H_0, O_l, O_m, O_k, z) ) \n",
        "  \n",
        "  return (SPEED_OF_LIGHT/H_0)*(1+z)*distance\n"
      ],
      "execution_count": 12,
      "outputs": []
    },
    {
      "cell_type": "markdown",
      "metadata": {
        "id": "ycq1mJbaWP-z"
      },
      "source": [
        "## <span style='color:deepskyblue'>The Union2.1 Compilation</span>\n",
        "\n",
        "Our source of data is from [Union2.1](http://supernova.lbl.gov/Union/). It is a collection of $580$ SNIa, each observation is comprised of redshift $z$ and [distance modulus](https://en.wikipedia.org/wiki/Distance_modulus) $\\mu$ (and corresponding errors $\\delta\\mu$), defined as the difference between the *apparent magnitude* $m$ and the *absolute magnitude* $M$:\n",
        "\n",
        "$$\n",
        "\\boxed{\n",
        "\\mu(z) \\equiv m(z) - M \\equiv 5 \\log_{10} \\frac{d_L(z)}{10\\,\\text{pc}}\n",
        "}\n",
        "$$\n",
        "\n",
        "Our goal today is to use SNIa measurements to constrain the parameters ($h, \\Omega_\\Lambda, \\Omega_m$).\n",
        "\n",
        "In essence, we can calculate for each redshift the theoretical value of $\\mu$ using this equation with the expression for $d_L(z)$ and our model of choice $H(z)$ -- note that we will need to perform a numerical integral! -- and compare this value with observations. A different model would amount to changing the theoretical value of $H(z)$.\n",
        "\n",
        "Let us start by importing and plotting the data:"
      ]
    },
    {
      "cell_type": "code",
      "metadata": {
        "colab": {
          "base_uri": "https://localhost:8080/"
        },
        "id": "sKb3QGqXTuJ5",
        "outputId": "1a2fb58b-b171-4416-8d71-924ec42e063f"
      },
      "source": [
        "dataloc = \"http://supernova.lbl.gov/Union/figures/SCPUnion2.1_mu_vs_z.txt\"\n",
        "\n",
        "# Read in data as numpy array.\n",
        "# Format is [name, redshift, magnitude, magnitude error, and another number?]\n",
        "data = np.genfromtxt(dataloc)\n",
        "\n",
        "# Print the first line as an example. (Note that genfromtxt turns the names into 'Not A Number')\n",
        "print(data[0])"
      ],
      "execution_count": 13,
      "outputs": [
        {
          "output_type": "stream",
          "text": [
            "[           nan 2.84880000e-02 3.53465834e+01 2.23905933e-01\n",
            " 1.28418942e-01]\n"
          ],
          "name": "stdout"
        }
      ]
    },
    {
      "cell_type": "code",
      "metadata": {
        "id": "2mvAA83gVIHz"
      },
      "source": [
        "# pull out the redshifts (zs), distance modulus (dist_mod) and magnitude estimated errors (err_dist_mod)\n",
        "zs = data.T[1] # redshift\n",
        "dist_mod = data.T[2] # distance modulus\n",
        "err_dist_mod = data.T[3] # errors on distance modulus"
      ],
      "execution_count": 15,
      "outputs": []
    },
    {
      "cell_type": "code",
      "metadata": {
        "id": "x2hF3drbVPEW"
      },
      "source": [
        "# Let's look at the data, just for fun. \n",
        "# We can look both at the raw data (distance modulus) or calculate the luminosity distance\n",
        "# Note that Numpy allows us to manipulate whole arrays at once\n",
        "import scipy.integrate as integrate\n",
        "\n",
        "# luminosity distance in pc\n",
        "dpc = 10. * 10.**(dist_mod / 5.)\n",
        "\n",
        "# and in Mpc\n",
        "dMpc = dpc / 10.**6\n",
        "\n",
        "# and the error on that distance:\n",
        "dMe = 10. * (10.**((dist_mod + err_dist_mod)/5.-6.) - 10.**((dist_mod - err_dist_mod)/5.-6.))"
      ],
      "execution_count": 16,
      "outputs": []
    },
    {
      "cell_type": "code",
      "metadata": {
        "colab": {
          "base_uri": "https://localhost:8080/",
          "height": 270
        },
        "id": "o81D-kOYYwx5",
        "outputId": "57df84ad-f3b9-4f77-b903-8ae3790f2131"
      },
      "source": [
        "plt.subplots(1, 2, figsize=(15, 5))\n",
        "\n",
        "# Plot distance modulus versus redshift (original data)\n",
        "plt.subplot(1, 2, 1)\n",
        "plt.xlabel(\"Redshift\")\n",
        "plt.ylabel(\"Distance Modulus\")\n",
        "plt.errorbar(zs, dist_mod, yerr=err_dist_mod, fmt='o', color='black', ecolor='darkcyan', markersize=4)\n",
        "\n",
        "# Plot luminosity distance versus redshift\n",
        "plt.subplot(1, 2, 2)\n",
        "plt.xlabel(\"Redshift\")\n",
        "plt.ylabel(\"Luminosity Distance [Mpc]\")\n",
        "plt.errorbar(zs, dMpc, yerr=dMe, fmt='o', color='black', ecolor='darkcyan', markersize=4)\n",
        "plt.show()"
      ],
      "execution_count": 17,
      "outputs": [
        {
          "output_type": "display_data",
          "data": {
            "image/png": "[encoded data removed]",
            "text/plain": [
              "<Figure size 1080x360 with 2 Axes>"
            ]
          },
          "metadata": {
            "tags": [],
            "needs_background": "light"
          }
        }
      ]
    },
    {
      "cell_type": "markdown",
      "metadata": {
        "id": "bqf_lQJ0WP-2"
      },
      "source": [
        "## <span style='color:deepskyblue'>Bayes' Theorem: Likelihood, Prior, Posterior (and Evidence...)</span>\n",
        "\n",
        "The **conditional probability of A given that B is true** is denoted with $P(A|B)$ (read: *probability of A given B*). \n",
        "Did A happen? Then B has probability $P(B|A)$ of happening.\n",
        "\n",
        "[**Bayes' Theorem**](https://en.wikipedia.org/wiki/Bayes%27_theorem) is simply a reflection of the symmetry of the concept of joint probability:\n",
        "\n",
        "$$\n",
        "P(A|B)P(B) = P(B|A)P(A)\n",
        "$$\n",
        "\n",
        "In physics, our goal is often to determine how likely the values of some parameters $\\theta$ are, given how well they reproduce the data $D$. \n",
        "We write Bayes' theorem in the following equivalent form:\n",
        "\n",
        "$$\n",
        "P(\\theta | D) = \\frac{P(D|\\theta)P(\\theta)}{P(D)}\n",
        "$$\n",
        "\n",
        "The various terms conventionally take the names:\n",
        "\n",
        "$$\n",
        "\\begin{aligned}\n",
        "P(\\theta | D) & && \\text{Posterior}\n",
        "\\\\\n",
        "P(D | \\theta)& && \\text{Likelihood}\n",
        "\\\\\n",
        "P(\\theta) & && \\text{Prior}\n",
        "\\\\\n",
        "P(D) & && \\text{Evidence}\n",
        "\\end{aligned}\n",
        "$$\n",
        "\n",
        "### <span style='color:deepskyblue'>Prior</span>\n",
        "\n",
        "The *prior* quantifies our degree of prior belief in the model parameters. It can contain the results of previous experiments, or theoretical considerations (for instance, that certain parameters cannot be negative, etc.). \n",
        "\n",
        "We can have *strong priors* about something - the Sun still existing at night, see the comic below - or not.\n",
        "When we do *not* have compelling prior knowledge about a parameter, we generally use a *non-informative* prior probability distribution, most often related to the [uniform distribution](https://en.wikipedia.org/wiki/Continuous_uniform_distribution)\n",
        "\n",
        "$$\n",
        "\\begin{aligned}\n",
        "    \\text{Uniform} & && \\theta \\in \\text{Uniform}[\\theta_{\\rm min}, \\theta_{\\rm max}]\n",
        "    \\\\\n",
        "    \\text{Log Uniform} & && \\log\\theta \\in \\text{Uniform}[\\log\\theta_{\\rm min}, \\log\\theta_{\\rm max}]\n",
        "\\end{aligned}\n",
        "$$\n",
        "\n",
        "You may sometimes hear that \"the prior doesn't matter\". While this is not strictly true, it is however true that in many instances the *likelihood* depends more dramatically on the parameters and will have a dominating contribution to the posterior. You are more than welcome to try different priors for the model parameters and see if and how your results change.\n",
        "\n",
        "### <span style='color:deepskyblue'>Likelihood</span>\n",
        "\n",
        "The measure of how well our model reproduces the data is the **likelihood** $\\mathcal L$. For normal (=Gaussian), uncorrelated data $\\mu_i$ with errors $\\sigma_i$ ($i = \\{1,580\\}$), the likelihood is related to the famous [**chi-squared**](https://en.wikipedia.org/wiki/Chi-square_distribution) via\n",
        "\n",
        "$$\n",
        "P(D | \\theta) \\equiv \\mathcal L = \\exp\\left(-\\frac{\\chi^2}{2}\\right)\n",
        "\\qquad\n",
        "\\qquad\n",
        "\\boxed{\n",
        "\\chi^2 \\equiv \\sum_{i=1}^{580} \\frac{\\left(\\mu_i^{(\\rm theor)} - \\mu_i^{(\\rm obs)}\\right)^2}{\\sigma_i^2}\n",
        "}\n",
        "$$\n",
        "\n",
        "A *high likelihood* corresponds to a *low chi squared*.\n",
        "\n",
        "In principle, we could attack the problem brute-force: create a grid of values for $h$, $\\Omega_m$, $\\Omega_\\Lambda$, calculate the likelihood for each combination, and create a profile for the likelihood. \n",
        "\n",
        "In practical cases, however, this is not only sub-optimal but sometimes **impossible**. Think of complicated models with 20+ free parameters (this is not that unusual in physics, by the way). Even a very coarse grained grid of 100 values for each parameter would result in more than$10^{40}$ (!!!) different parameter combination to be tested. You can probably understand why this is undesirable.\n",
        "\n",
        "### <span style='color:deepskyblue'>Evidence</span>\n",
        "\n",
        "This is the tricky bit. The evidence, which is \"*the probability of observing certain data*\", is not something that is easy to evaluate or interpret. This looks like a serious limitation to finding the:\n",
        "\n",
        "\n",
        "### <span style='color:deepskyblue'>Posterior</span>\n",
        "\n",
        "What does the data tell us about the model parameters? The answer is the *posterior probability distribution*, often (but not necessarily) expressed as (average $\\pm$ standard deviation)\n",
        "\n",
        "$$\n",
        "\\theta_i = \\bar\\theta_i \\pm \\sigma_i\n",
        "$$\n",
        "\n",
        "In other words, the posterior tells us how likely it is for the model parameters to have certain values, *given that we observe the data* $D$.\n",
        "\n",
        "*This is the final goal of our analysis!*\n",
        "\n",
        "<br>\n",
        "\n",
        "![title](http://1.bp.blogspot.com/-tTx4HDejSww/ULcTeK9_V_I/AAAAAAAAA8g/PCYOH-eXGbk/s1600/frequentists_vs_bayesians.png)\n",
        "![title](https://i.redd.it/5r0hwixt0m931.jpg)"
      ]
    },
    {
      "cell_type": "markdown",
      "metadata": {
        "id": "lymI_LaObhcU"
      },
      "source": [
        "## <span style='color:deepskyblue'>Markov-Chain Monte Carlo</span>\n",
        "\n",
        "Markov-Chain Monte Carlo techniques are a class of methods to sample a probability distribution $P(x)$ - in our case $P(\\theta | D)$ - provided that we can calculate a density $\\mathcal F(x)$ **that is proportional to it** - in our case $P(\\theta)P(D|\\theta)$ = likelihood $\\times$ prior. Among these, a very popular one is the [**Metropolis-Hastings**](https://en.wikipedia.org/wiki/Metropolis%E2%80%93Hastings_algorithm) algorithm, which is what we will use.\n",
        "\n",
        "Schematically, the algorithm works as follows:\n",
        "* Start with an $n$-tuple of parameters $\\theta_{\\rm old} = \\{\\theta_1, \\theta_2, \\dots\\}_{\\rm old}$ (in our case $\\theta = \\{h,\\Omega_m,\\Omega_\\Lambda\\}$) and calculate the $\\mathcal F_{\\rm old}$\n",
        "* Propose a new set of parameters $\\theta_{\\rm prop}$, calculate the new corresponding $\\mathcal F_{\\rm prop}$. How you propose the new parameters is not essential as long as the probability of going from one set of parameters to the next is the same as the inverse: $P(\\theta_a \\to \\theta_b) = P(\\theta_b \\to \\theta_a)$. For this, we normally take Gaussian displacements with some (relatively small) standard deviation.\n",
        "* Compare the new and old likelihoods-priors:\n",
        "    * If $\\mathcal F_{\\rm prop} > \\mathcal F_{\\rm old}$, accept the step: $\\theta_{\\rm new} = \\theta_{\\rm prop}$\n",
        "    * Otherwise, accept with probability $P_{\\rm accept} = \\mathcal F_{\\rm prop}/\\mathcal F_{\\rm old}$\n",
        "* If accepted, $\\theta_{\\rm new} = \\theta_{\\rm prop}$ and record the step; otherwise, $\\theta_{\\rm new} = \\theta_{\\rm old}$ (no re-recording)\n",
        "* Update $\\theta_{\\rm old} = \\theta_{\\rm new}$\n",
        "* Repeat\n",
        "\n",
        "The MC chain keeps going until the desired number of steps or, ideally, when a suitable convergence test, like for example the [Gelman-Rubin test](https://bookdown.org/rdpeng/advstatcomp/monitoring-convergence.html), is satisfied. \n",
        "Today we will just set a limit to the total number of steps, but please feel free to implement and test your favourite convergence test!\n",
        "\n",
        "Looking at equation (4), you can convince yourself that\n",
        "$$\n",
        "\\frac{\\mathcal L_a}{\\mathcal L_b} = \\exp\\left(\\frac{\\chi_b^2 - \\chi_a^2}{2}\\right)\n",
        "$$\n",
        "\n",
        "(This is useful because $\\chi^2$ can be large, so we want to avoid the likelihoods evaluating to `0.` -- computers don't like dividing by zero, unfortunately)\n",
        " \n",
        "* Start with an $n$-tuple of parameters $\\theta_{\\rm old} = \\{\\theta_1, \\theta_2, \\dots\\}_{\\rm old}$ (in our case $\\theta = \\{h,\\Omega_m,\\Omega_\\Lambda\\}$) and the corresponding chi squared $\\chi_{\\rm old}^2$ (to be clear, for us this implies calculating a series of 580 integrals and comparing each with the observed values)\n",
        "* Propose new parameters $\\theta_{\\rm prop}$ and calculate the corresponding chi squared $\\chi_{\\rm prop}^2$\n",
        "* Draw a random number $r \\in [0,1]$\n",
        "* Accept the step if \n",
        "$$\n",
        "r < \\exp\\left(\\frac{\\chi_{\\rm old}^2 - \\chi_{\\rm prop}^2}{2}\\right) \\frac{P(\\theta)_{\\rm prop}}{P(\\theta)_{\\rm old}}\n",
        "$$\n",
        "    * If accepted, update $\\theta_{\\rm old} = \\theta_{\\rm prop}$, and record; otherwise, $\\theta_{\\rm new} = \\theta_{\\rm old}$ (no re-recording)\n",
        "* Repeat"
      ]
    },
    {
      "cell_type": "code",
      "metadata": {
        "id": "_6Jkg3S-WP-6"
      },
      "source": [
        "#Theoretical distance modulus\n",
        "def theory_mu(H_0, O_l, O_m, O_k, z):\n",
        "  return 5*np.log10( dL(H_0, O_l, O_m, O_k, z)/(1E-5) )"
      ],
      "execution_count": 18,
      "outputs": []
    },
    {
      "cell_type": "code",
      "metadata": {
        "id": "qcpTuN7GcOVM"
      },
      "source": [
        "#Arrays of new precious probable parmeters :P\n",
        "H_0_arr = np.random.normal(70, 1, size = (200,1))\n",
        "O_l_arr = np.random.normal(0.7, 0.1, size = (200,1))\n",
        "O_m_arr = np.random.normal(0.3, 0.1, size = (200,1))\n",
        "\n",
        "#Array for O_k is defined by substacting from an array of 1s the summed array values for O_l and O_m \n",
        "Ones_arr = np.ones((200,1))\n",
        "O_k_arr = Ones_arr - (O_l_arr + O_m_arr)\n",
        "\n",
        "#Distance & Error values defined\n",
        "zs = data.T[1] #redshift\n",
        "distance = data.T[2] #distance\n",
        "distance_err = data.T[3] #distance error"
      ],
      "execution_count": 19,
      "outputs": []
    },
    {
      "cell_type": "markdown",
      "metadata": {
        "id": "vY7h-f4aWP-6"
      },
      "source": [
        "After completion of the programme, your MC chain will (*hopefully*) look something like this:\n",
        "\n",
        "`#Omega_m  Omega_L  h   \n",
        " 0.297     0.703    69.8\n",
        " 0.285     0.715    70.1\n",
        " 0.288     0.712    69.9\n",
        " ...\n",
        "`"
      ]
    },
    {
      "cell_type": "code",
      "metadata": {
        "id": "c--h0JTWd1Yi",
        "colab": {
          "base_uri": "https://localhost:8080/"
        },
        "outputId": "fccc3aa6-da2e-44ad-e3d0-137f3003454a"
      },
      "source": [
        "#What you've all been waiting for, ladies and Gents, my first ever Monte Carlo Markov Chain\n",
        "import math\n",
        "epochs = 200\n",
        "print(\"H_0                   Omega_m              Omega_l\")\n",
        "\n",
        "\n",
        "for i in range(0, epochs):\n",
        "  chisquare = 0 \n",
        "\n",
        "\n",
        "\n",
        "# Calculating the chisquare for every redshift \n",
        "  for j in range(0, len(zs)):\n",
        "    sum = ((theory_mu(H_0_arr[i,0], O_l_arr[i,0], O_m_arr[i,0], O_k_arr[i,0], zs[j]) - distance[j] )**2)/((distance_err[j])**2)\n",
        "    chisquare_old = chisquare\n",
        "    chisquare_new = chisquare + sum# New chisquare\n",
        "\n",
        "\n",
        "\n",
        "  r = np.random.uniform(0,1) #Number chosen randomly from interval [0,1]\n",
        "   \n",
        "\n",
        "\n",
        "  if r < np.exp( ((chisquare_old**2) - (chisquare_new**2)) / 2 ): #conditonal \n",
        "      chisquare_old = chisquare \n",
        "      values = (H_0_arr[i,0], O_m_arr[i,0], O_l_arr[i,0])\n",
        "      print(values)"
      ],
      "execution_count": 20,
      "outputs": [
        {
          "output_type": "stream",
          "text": [
            "H_0                   Omega_m              Omega_l\n",
            "(70.18396096024506, 0.33455890009628997, 0.6374598217817321)\n",
            "(68.97896248147909, 0.2078538430715955, 0.7353768056451812)\n",
            "(70.27884540304262, 0.2723980538183419, 0.6569326144322836)\n",
            "(71.14947799305754, 0.189831450082855, 0.5951972762562263)\n",
            "(70.63995839334915, 0.4376560172038263, 0.6480696938700554)\n",
            "(70.30674573436723, 0.26886255049860946, 0.6285730203892204)\n",
            "(70.49729500352846, 0.3215921090482204, 0.6287784950108843)\n",
            "(68.50234984138382, 0.255904085107716, 0.8562011529128412)\n",
            "(69.08110589679873, 0.22155297345598035, 0.7172224519671615)\n",
            "(69.28724927603285, 0.4226028186223645, 0.5611992710274049)\n",
            "(71.42815082492875, 0.42005096853926216, 0.6804089788881372)\n",
            "(70.2270440831168, 0.13707571781029615, 0.8834364674399272)\n",
            "(69.59988866466436, 0.33076951065622356, 0.7226896419528701)\n",
            "(71.25887715436328, 0.36466534702872416, 0.7506864090782152)\n",
            "(69.85670405663265, 0.16949332328890396, 0.5118150590743153)\n",
            "(70.26194357862288, 0.33254273018009595, 0.7834194235681328)\n",
            "(70.32420298116968, 0.3973510162863768, 0.9930983065103149)\n",
            "(71.01271567998995, 0.3154535530649085, 0.5662520855167704)\n",
            "(71.46166239813351, 0.34399594234070024, 0.7548349312949071)\n",
            "(69.79990791556361, 0.3338832319919333, 0.7630250379588019)\n",
            "(70.22013310775661, 0.3574872708189325, 0.6212573746726866)\n",
            "(70.14668809321628, 0.4294990810531765, 0.791930698648456)\n",
            "(69.00347917372984, 0.38935823124846936, 0.7876624270979415)\n",
            "(69.48849624944305, 0.3812600896202355, 0.6845050787284731)\n",
            "(68.62132227643696, 0.2799412758729644, 0.5827119012985404)\n",
            "(69.96560363137544, 0.3942042542412871, 0.8757764026675621)\n",
            "(70.91603701900588, 0.3843376631958424, 0.7689760898171327)\n",
            "(69.85042228619045, 0.30270328952478814, 0.8138759976758055)\n",
            "(71.23840464143524, 0.3334808207436522, 0.6509942448014938)\n",
            "(69.79312433039948, 0.39650043906029986, 0.6489173424299552)\n",
            "(69.82507427042687, 0.263628379836872, 0.828168075864761)\n",
            "(69.65800856742574, 0.3142594110765187, 0.6852624726489434)\n",
            "(71.69754462344513, 0.44091478997763905, 0.6963297228826367)\n",
            "(70.55581048447684, 0.12446285244800298, 0.6640810415816422)\n",
            "(67.74609868913797, 0.29532683208737587, 0.6146745355630205)\n",
            "(70.36883802470155, 0.3129278127646252, 0.6309753849630297)\n",
            "(71.17007805143936, 0.4307040725332085, 0.6825772175470951)\n",
            "(69.9728775694302, 0.3681607830403226, 0.6089768287848744)\n"
          ],
          "name": "stdout"
        }
      ]
    },
    {
      "cell_type": "markdown",
      "metadata": {
        "id": "pYo2F6AqWP-6"
      },
      "source": [
        "## <span style='color:deepskyblue'>Plotting: GetDist</span>\n",
        "\n",
        "We will do the plots with [`GetDist`](https://getdist.readthedocs.io/en/latest/plot_gallery.html).\n",
        "\n",
        "The plot gallery contains a lot of useful examples, you should be able to read them fairly easily and see which applies to your situation. Look for both (triangle) plots and for parameter estimation.\n",
        "\n",
        "Note that many `GetDist` functions require arguments of type `MCSamples`; make sure you convert your lists accordingly."
      ]
    },
    {
      "cell_type": "code",
      "metadata": {
        "id": "ZajfAu8mWP-8",
        "colab": {
          "base_uri": "https://localhost:8080/",
          "height": 847
        },
        "outputId": "ed7c4d52-fd0c-4033-ed83-6bbea1838b1d"
      },
      "source": [
        "!pip install getdist\n",
        "import getdist, IPython\n",
        "from getdist import plots, MCSamples, loadMCSamples\n",
        "#print('Version: ',getdist.__version__)\n",
        "import numpy as np\n",
        "import pylab\n",
        "from random import random\n",
        "from random import gauss\n",
        "# If you want to use LaTeX in the labels. Not mandatory, but it looks nice ;)\n",
        "#pylab.rc('text',usetex=True) \n",
        "\n",
        "my_length = 1000;\n",
        "par1, par2 = [], []\n",
        "\n",
        "m1, m2, s1, s2 = random(), random(), random(), random()\n",
        "for i in range(my_length):\n",
        "    par1.append(gauss(m1, s1))\n",
        "    par2.append(gauss(m2, s2))\n",
        "\n",
        "par1 = np.array(par1)\n",
        "par2 = np.array(par2)\n",
        "par3 = (-0.5 + random()) * par1 + (-0.5 + random()) * par2\n",
        "\n",
        "my_labels = ['alpha', 'beta', 'gamma']\n",
        "my_names = ['name1', 'name2', 'name3']\n",
        "my_samples = np.array([par1, par2, par3])\n",
        "\n",
        "my_dim = 3\n",
        "\n",
        "my_samples = np.transpose(np.reshape(my_samples,(my_dim,int(my_samples.size/my_dim))))\n",
        "samples1 = MCSamples(samples = my_samples, labels = my_labels, names = my_names)\n",
        "\n",
        "#Triangle corner plot\n",
        "j = plots.getSubplotPlotter(subplot_size=3)\n",
        "j.settings.axes_labelsize = 22\n",
        "j.settings.axes_fontsize = 16\n",
        "j.triangle_plot(samples1, filled = True)"
      ],
      "execution_count": 21,
      "outputs": [
        {
          "output_type": "stream",
          "text": [
            "Requirement already satisfied: getdist in /usr/local/lib/python3.7/dist-packages (1.1.4)\n",
            "Requirement already satisfied: matplotlib>=2.2.0 in /usr/local/lib/python3.7/dist-packages (from getdist) (3.2.2)\n",
            "Requirement already satisfied: scipy>=1.0.0 in /usr/local/lib/python3.7/dist-packages (from getdist) (1.4.1)\n",
            "Requirement already satisfied: numpy in /usr/local/lib/python3.7/dist-packages (from getdist) (1.19.5)\n",
            "Requirement already satisfied: python-dateutil>=2.1 in /usr/local/lib/python3.7/dist-packages (from matplotlib>=2.2.0->getdist) (2.8.1)\n",
            "Requirement already satisfied: pyparsing!=2.0.4,!=2.1.2,!=2.1.6,>=2.0.1 in /usr/local/lib/python3.7/dist-packages (from matplotlib>=2.2.0->getdist) (2.4.7)\n",
            "Requirement already satisfied: cycler>=0.10 in /usr/local/lib/python3.7/dist-packages (from matplotlib>=2.2.0->getdist) (0.10.0)\n",
            "Requirement already satisfied: kiwisolver>=1.0.1 in /usr/local/lib/python3.7/dist-packages (from matplotlib>=2.2.0->getdist) (1.3.1)\n",
            "Requirement already satisfied: six>=1.5 in /usr/local/lib/python3.7/dist-packages (from python-dateutil>=2.1->matplotlib>=2.2.0->getdist) (1.15.0)\n",
            "Removed no burn in\n"
          ],
          "name": "stdout"
        },
        {
          "output_type": "display_data",
          "data": {
            "image/png": "[encoded data removed]",
            "text/plain": [
              "<Figure size 648x648 with 6 Axes>"
            ]
          },
          "metadata": {
            "tags": [],
            "needs_background": "light"
          }
        }
      ]
    },
    {
      "cell_type": "code",
      "metadata": {
        "id": "PDeF6zoKWP-8",
        "colab": {
          "base_uri": "https://localhost:8080/",
          "height": 470
        },
        "outputId": "ec3e29d9-c96a-458f-eef1-939b6231c4ce"
      },
      "source": [
        "SPEED_OF_LIGHT = 299792.458 # in km/s\n",
        "\n",
        "# Still need to add Omega_k!\n",
        "def theor_luminosity_distance(z, h, OmegaM, OmegaL):\n",
        "    return 10.**6 * SPEED_OF_LIGHT / h * (1.+z) * \\\n",
        "    integrate.quad(lambda x: 1. / np.sqrt(OmegaM * (1.+x)**3 + OmegaL), 0., z)[0]\n",
        "\n",
        "def theor_distance_modulus(z, h, OmegaM, OmegaL):\n",
        "    return 5. * (-1. + np.log10(theor_luminosity_distance(z, h, OmegaM, OmegaL)))\n",
        "                 \n",
        "zsort = sorted(zs)\n",
        "d_best_fit, d_min, d_max = [], [], []\n",
        "\n",
        "# YOUR RESULTS GO HERE!\n",
        "for z in zsort:\n",
        "    d_best_fit.append(theor_distance_modulus(z, 70., 0.3, 0.7))\n",
        "    d_min.append(theor_distance_modulus(z, 75., 0.5, 0.5))\n",
        "    d_max.append(theor_distance_modulus(z, 65., 0.1, 0.9))\n",
        "    \n",
        "plt.subplots(figsize=(10, 7.5))\n",
        "plt.xlabel(\"Redshift\")\n",
        "plt.ylabel(\"Distance Modulus\")\n",
        "\n",
        "plt.errorbar(zs, dist_mod, yerr=err_dist_mod,\\\n",
        "             fmt='o', color='black', ecolor='darkcyan', markersize=4)\n",
        "plt.plot(zsort, d_best_fit, color='firebrick',linewidth=2.)\n",
        "plt.fill_between(zsort, d_min, d_max, color='grey', alpha=.2)\n",
        "plt.show()"
      ],
      "execution_count": 22,
      "outputs": [
        {
          "output_type": "display_data",
          "data": {
            "image/png": "[encoded data removed]",
            "text/plain": [
              "<Figure size 720x540 with 1 Axes>"
            ]
          },
          "metadata": {
            "tags": [],
            "needs_background": "light"
          }
        }
      ]
    }
  ]
}