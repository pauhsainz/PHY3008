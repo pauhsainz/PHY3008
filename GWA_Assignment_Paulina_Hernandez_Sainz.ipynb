{
  "nbformat": 4,
  "nbformat_minor": 0,
  "metadata": {
    "colab": {
      "name": "GWA Assignment Paulina Hernandez Sainz.ipynb",
      "provenance": [],
      "collapsed_sections": [],
      "authorship_tag": "ABX9TyOQ4bLElGRKDGi7S8wK0IiR",
      "include_colab_link": true
    },
    "kernelspec": {
      "name": "python3",
      "display_name": "Python 3"
    }
  },
  "cells": [
    {
      "cell_type": "markdown",
      "metadata": {
        "id": "view-in-github",
        "colab_type": "text"
      },
      "source": [
        "<a href=\"https://colab.research.google.com/github/pauhsainz/PRA3024/blob/main/GWA_Assignment_Paulina_Hernandez_Sainz.ipynb\" target=\"_parent\"><img src=\"https://colab.research.google.com/assets/colab-badge.svg\" alt=\"Open In Colab\"/></a>"
      ]
    },
    {
      "cell_type": "code",
      "metadata": {
        "id": "3m37KCig0kaX"
      },
      "source": [
        "!wget -nc\n",
        "https://dcc.ligo.org/public/0146/P1700349/001/H-H1_LOSC_CLN_4_V1-118700704\n",
        "0-2048.gwf\n",
        "!wget -nc\n",
        "https://dcc.ligo.org/public/0146/P1700349/001/L-L1_LOSC_CLN_4_V1-118700704\n",
        "0-2048.gwf"
      ],
      "execution_count": 1,
      "outputs": []
    },
    {
      "cell_type": "code",
      "metadata": {
        "colab": {
          "base_uri": "https://localhost:8080/",
          "height": 368
        },
        "id": "CnbZ4xHp0qym",
        "outputId": "e6131f16-743b-49b6-eb50-ac463189590f"
      },
      "source": [
        "#Question 1 part 1\n",
        "#Extracting data and functions from import files (Precious Preliminary Preparations :P)\n",
        "\n",
        "%matplotlib inline\n",
        "import pylab\n",
        "import numpy as np\n",
        "import plotly\n",
        "import plotly.graph_objects as go\n",
        "import pandas\n",
        "\n",
        "from pycbc.filter import highpass, matched_filter, resample_to_delta_t, sigma\n",
        "from pycbc.catalog import Merger\n",
        "from pycbc.frame import read_frame\n",
        "from pycbc.psd import interpolate, inverse_spectrum_truncation\n",
        "from pycbc.waveform import get_fd_waveform, get_td_waveform\n",
        "from pycbc.conversions import mass1_from_mchirp_q\n"
      ],
      "execution_count": 2,
      "outputs": [
        {
          "output_type": "error",
          "ename": "ModuleNotFoundError",
          "evalue": "ignored",
          "traceback": [
            "\u001b[0;31m---------------------------------------------------------------------------\u001b[0m",
            "\u001b[0;31mModuleNotFoundError\u001b[0m                       Traceback (most recent call last)",
            "\u001b[0;32m<ipython-input-2-d8598ee9b89a>\u001b[0m in \u001b[0;36m<module>\u001b[0;34m()\u001b[0m\n\u001b[1;32m      9\u001b[0m \u001b[0;32mimport\u001b[0m \u001b[0mpandas\u001b[0m\u001b[0;34m\u001b[0m\u001b[0;34m\u001b[0m\u001b[0m\n\u001b[1;32m     10\u001b[0m \u001b[0;34m\u001b[0m\u001b[0m\n\u001b[0;32m---> 11\u001b[0;31m \u001b[0;32mfrom\u001b[0m \u001b[0mpycbc\u001b[0m\u001b[0;34m.\u001b[0m\u001b[0mfilter\u001b[0m \u001b[0;32mimport\u001b[0m \u001b[0mhighpass\u001b[0m\u001b[0;34m,\u001b[0m \u001b[0mmatched_filter\u001b[0m\u001b[0;34m,\u001b[0m \u001b[0mresample_to_delta_t\u001b[0m\u001b[0;34m,\u001b[0m \u001b[0msigma\u001b[0m\u001b[0;34m\u001b[0m\u001b[0;34m\u001b[0m\u001b[0m\n\u001b[0m\u001b[1;32m     12\u001b[0m \u001b[0;32mfrom\u001b[0m \u001b[0mpycbc\u001b[0m\u001b[0;34m.\u001b[0m\u001b[0mcatalog\u001b[0m \u001b[0;32mimport\u001b[0m \u001b[0mMerger\u001b[0m\u001b[0;34m\u001b[0m\u001b[0;34m\u001b[0m\u001b[0m\n\u001b[1;32m     13\u001b[0m \u001b[0;32mfrom\u001b[0m \u001b[0mpycbc\u001b[0m\u001b[0;34m.\u001b[0m\u001b[0mframe\u001b[0m \u001b[0;32mimport\u001b[0m \u001b[0mread_frame\u001b[0m\u001b[0;34m\u001b[0m\u001b[0;34m\u001b[0m\u001b[0m\n",
            "\u001b[0;31mModuleNotFoundError\u001b[0m: No module named 'pycbc'",
            "",
            "\u001b[0;31m---------------------------------------------------------------------------\u001b[0;32m\nNOTE: If your import is failing due to a missing package, you can\nmanually install dependencies using either !pip or !apt.\n\nTo view examples of installing some common dependencies, click the\n\"Open Examples\" button below.\n\u001b[0;31m---------------------------------------------------------------------------\u001b[0m\n"
          ]
        }
      ]
    },
    {
      "cell_type": "code",
      "metadata": {
        "id": "Fz-RYQBe1IRA"
      },
      "source": [
        "#Defining the data, IFO = detector name\n",
        " \n",
        "merger = Merger(\"GW170817\")\n",
        "strain, stilde = {}, {}\n",
        "for ifo in ['H1', 'L1']:\n",
        " \n",
        "\tts = read_frame(\"{}-{}_LOSC_CLN_4_V1-1187007040-2048.gwf\".format(ifo[0], ifo), \t'{}:LOSC-STRAIN'.format(ifo),\n",
        " \tstart_time=merger.time - 224,\n",
        " \tend_time=merger.time + 32,\n",
        " \tcheck_integrity=False) #\n",
        "#High pass filter\n",
        "\tstrain[ifo] = resample_to_delta_t(highpass(ts, 20.0), 1.0/2048)\n",
        "#cropping 4 seconds from each end to remove artifacts \n",
        "\tstrain[ifo] = strain[ifo].crop(4, 4)\n",
        "#Creating a frequency domain version f the data\t\n",
        " \tstilde[ifo] = strain[ifo].to_frequencyseries()"
      ],
      "execution_count": null,
      "outputs": []
    },
    {
      "cell_type": "code",
      "metadata": {
        "id": "4lCM4lB-6wLF"
      },
      "source": [
        "#printing the resulting time domain series\n",
        "pylab.plot(strain['H1'].sample_times, strain['H1'])\n",
        "pylab.xlabel('Time (s)')\n",
        "pylab.show()"
      ],
      "execution_count": null,
      "outputs": []
    },
    {
      "cell_type": "code",
      "metadata": {
        "id": "mOOLmSHy6qes"
      },
      "source": [
        "#Question 1 part 2 \n",
        "#(Estimating PSD)\n",
        "\n",
        "#Calculate the psd from the data -- Median Welch style estimate\n",
        "#interpolate the PSD to the frequency step size we need.\n",
        "psds = {}\n",
        "for ifo in ['L1', 'H1']:\n",
        "  psds[ifo] = interpolate(strain[ifo].psd(2), stilde[ifo].delta_f)\n",
        "\t\n",
        "#Take care of corruption and overwhitening by manually setting a 2 second \"buffer\"\n",
        "\tpsds[ifo] = inverse_spectrum_truncation(psds[ifo], int(2 * strain[ifo].sample_rate),\n",
        "\tlow_frequency_cutoff=15.0,\n",
        "\ttrunc_method='hann')"
      ],
      "execution_count": null,
      "outputs": []
    },
    {
      "cell_type": "code",
      "metadata": {
        "id": "AQANlW4u654v"
      },
      "source": [
        "#Displaying our figures\t\n",
        "pylab.loglog(psds[ifo].sample_frequencies, psds[ifo], label=ifo)\n",
        "pylab.xlim(20, 1024)\n",
        "pylab.ylim(1e-47, 1e-42)\n",
        "pylab.legend()"
      ],
      "execution_count": null,
      "outputs": []
    },
    {
      "cell_type": "code",
      "metadata": {
        "id": "R6oh-gDd69of"
      },
      "source": [
        "#Setting mass range between 1.3 and 1.5 solar masses\n",
        "masses = numpy.arange(1.3, 1.5, .01)\n",
        "\n",
        "hmax, smax, tmax, mmax, nsnr = None, {}, {}, 0, 0\n",
        "snrs = []\n",
        "#Creating a template waveform using a Taylor approximation \n",
        "for m in masses:\n",
        "\thp, hc = get_fd_waveform(approximant=\"TaylorF2\", mass1=m, mass2=m, f_lower=20, \n",
        "                          delta_f=stilde[ifo].delta_f)\n",
        "\thp.resize(len(stilde[ifo]))"
      ],
      "execution_count": null,
      "outputs": []
    },
    {
      "cell_type": "code",
      "metadata": {
        "id": "qV_ABC_S7PQ_"
      },
      "source": [
        "#Looking for the point of maximum Signal to Noise ratio to look for possible matches with the template waveforms\n",
        "\tmax_snr, max_time = {}, {}\n",
        "\tfor ifo in ['L1', 'H1']:\n",
        "\t\tsnr = matched_filter(hp, stilde[ifo], psd=psds[ifo],low_frequency_cutoff=20.0)\n",
        "\n",
        "\t\tsnr = snr.time_slice(merger.time - 1, merger.time + 1)\n",
        "\t\t_, idx = snr.abs_max_loc()\n",
        "\t\tmax_snr[ifo] = snr[idx]\n",
        "#Find at what time this peak SNR occurs\n",
        "\t\tmax_time[ifo] = float(idx) / snr.sample_rate + snr.start_time\n",
        "\tnetwork_snr = (abs(numpy.array(list(max_snr.values()))) ** 2.0).sum() ** 0.5\n",
        "\tsnrs.append(max_snr)\n",
        "#Selecting the maximum peak only\n",
        "\tif network_snr > nsnr:\n",
        "\t\ttmax, hmax, mmax, smax = max_time, hp, m, max_snr\n",
        "\t\tnsnr = network_snr\n",
        "\n",
        "# Finding where the peak SNR allows us (with the exception of redshift corrections at very large distances) to define what the masses that make up the system are \n",
        "print(\"We found that the best match for Mass1=Mass2 was %2.2f solar masses (in the detector\n",
        "frame)\" % mmax)\n"
      ],
      "execution_count": null,
      "outputs": []
    },
    {
      "cell_type": "code",
      "metadata": {
        "id": "BGnV6Jid7Rxd"
      },
      "source": [
        "# print(snrs)\n",
        "to_plot = []\n",
        "for i in range(len(snrs)):\n",
        "    to_plot.append((abs(snrs[i]['H1'])**2 + abs(snrs[i]['L1'])**2)**0.5)\n",
        "# nsnr = (numpy.array(snrs['H1'])**2 + numpy.array(snrs['L1'])**2)**0.5\n",
        "print(to_plot)"
      ],
      "execution_count": null,
      "outputs": []
    },
    {
      "cell_type": "code",
      "metadata": {
        "id": "L2FP60Zn70Si"
      },
      "source": [
        "m = 1.4 # Solar masses\n",
        "conditioned = strain['H1']\n",
        "hp, hc = get_td_waveform(approximant=\"TaylorT2\",\n",
        "                     mass1=m,\n",
        "                     mass2=m,\n",
        "                     delta_t=conditioned.delta_t,\n",
        "                     f_lower=20.0)\n",
        "\n",
        "# We will resize the vector to match our data\n",
        "hp.resize(len(conditioned))\n",
        "#Shift the SNR time series towards the merger point and print a graph\n",
        "template = hp .cyclic_time_shift(hp.start_time)\n",
        "pylab.plot(hp.sample_times, template)\n",
        "pylab.xlabel('time')\n",
        "pylab.ylabel('strain')\n",
        "pylab.show()"
      ],
      "execution_count": null,
      "outputs": []
    },
    {
      "cell_type": "code",
      "metadata": {
        "id": "YnqzMt_u734M"
      },
      "source": [
        "#Cropping data removes artifacts + extra 4 secs off the top\n",
        "ifo = 'L1'                            \n",
        "conditioned = strain[ifo]\n",
        "snr = matched_filter(template, conditioned,\n",
        "                     psd=psds[ifo] , low_frequency_cutoff=15)\n",
        "snr = snr.crop(4 + 4, 4)\n",
        "\n",
        "#plotting \n",
        "pylab.figure(figsize=[10, 4])\n",
        "pylab.plot(snr.sample_times, abs(snr))\n",
        "pylab.ylabel('Signal-to-noise')\n",
        "pylab.xlabel('Time (s)')\n",
        "pylab.show()\n",
        "\n",
        "peak = abs(snr).numpy().argmax()\n",
        "snrp = snr[peak]\n",
        "time = snr.sample_times[peak]\n",
        "\n",
        "print(\"We found a signal at {}s with SNR {}\".format(time, \n",
        "                                                    abs(snrp)))"
      ],
      "execution_count": null,
      "outputs": []
    },
    {
      "cell_type": "code",
      "metadata": {
        "id": "RKLfMj5b8CUa"
      },
      "source": [
        "dt = time - conditioned.start_time\n",
        "aligned = template.cyclic_time_shift(dt)\n",
        "aligned /= sigma(aligned, psd=psds[ifo], low_frequency_cutoff=20.0)\n",
        "aligned = (aligned.to_frequencyseries() * snrp).to_timeseries()\n",
        "aligned.start_time = conditioned.start_time\n",
        "\n",
        "white_data = (conditioned.to_frequencyseries() / psds[ifo]**0.5).to_timeseries()\n",
        "tapered = aligned.highpass_fir(30, 512, remove_corrupted=False)\n",
        "white_template = (tapered.to_frequencyseries() / psds[ifo]**0.5).to_timeseries()\n",
        "\n",
        "white_data = white_data.highpass_fir(30., 512).lowpass_fir(300, 512)\n",
        "\n",
        "white_data = white_data.time_slice(merger.time-.2, merger.time+.1)\n",
        "white_template = white_template.time_slice(merger.time-.2, merger.time+.1)\n",
        "\n",
        "pylab.figure(figsize=[15, 3])\n",
        "pylab.plot(white_data.sample_times, white_data, label=\"Data\")\n",
        "pylab.plot(white_template.sample_times, white_template, label=\"Template\")\n",
        "pylab.legend()\n",
        "pylab.show()\n"
      ],
      "execution_count": null,
      "outputs": []
    },
    {
      "cell_type": "code",
      "metadata": {
        "id": "FdTVZAd98GvD"
      },
      "source": [
        "subtracted = conditioned - aligned\n",
        "\n",
        "# Plot the original data and the subtracted signal data\n",
        "\n",
        "for data, title in [(conditioned, 'Original H1 Data'),\n",
        "                    (subtracted, 'Signal Subtracted from H1 Data')]:\n",
        "\n",
        "    t, f, p = data.whiten(4, 4).qtransform(.001,\n",
        "                                                  logfsteps=100,\n",
        "                                                  qrange=(8, 8),\n",
        "                                                  frange=(20, 512))\n",
        "    pylab.figure(figsize=[15, 3])\n",
        "    pylab.title(title)\n",
        "    pylab.pcolormesh(t, f, p**0.5, vmin=1, vmax=6)\n",
        "    pylab.yscale('log')\n",
        "    pylab.xlabel('Time (s)')\n",
        "    pylab.ylabel('Frequency (Hz)')\n",
        "    pylab.xlim(merger.time - 2, merger.time + 1)\n",
        "    pylab.show()"
      ],
      "execution_count": null,
      "outputs": []
    },
    {
      "cell_type": "code",
      "metadata": {
        "id": "aFZYDsOR8Jvc"
      },
      "source": [
        "#Question 1 part 3\n",
        "\n",
        "#Definitions\n",
        "from pycbc.filter import match\n",
        "from pycbc.psd import aLIGOZeroDetHighPower\n",
        "\n",
        "#Defining two wavefunctions so they can be compared\n",
        "hp, hc  =  get_td_waveform(approximant = \"EOBNRv2\",\n",
        "                           mass1 = 10,\n",
        "                           mass2 = 10,\n",
        "                           f_lower = f_low,\n",
        "                           delta_t = 1.0/sample_rate)\n",
        "matches = []\n",
        "masses = np.arange(5, 15, 0.2)"
      ],
      "execution_count": null,
      "outputs": []
    },
    {
      "cell_type": "code",
      "metadata": {
        "id": "X2R7bqMC8Xyb"
      },
      "source": [
        "for mass in masses:\n",
        "    sp, sc = get_td_waveform(approximant = \"TaylorT4\",\n",
        "                             mass1 = mass,\n",
        "                             mass2 = mass,\n",
        "                             f_lower = f_low,\n",
        "                             delta_t = 1.0/sample_rate)\n",
        "\n",
        "#Resizing the waveforms to the same length\n",
        "    tlen = max(len(sp),len(hp))\n",
        "    sp.resize(tlen)\n",
        "    hp.resize(tlen)"
      ],
      "execution_count": null,
      "outputs": []
    },
    {
      "cell_type": "code",
      "metadata": {
        "id": "39J7Vsbt8a3l"
      },
      "source": [
        "#Generate the aLIGO Zero det. high power PSD\n",
        "    delta_f = 1.0/sp.duration\n",
        "    flen = tlen // 2 + 1\n",
        "    psd = aLIGOZeroDetHighPower(flen, delta_f, f_low)\n",
        "\t\n",
        "#Sifting through the wf's (SLOWWWWW)\n",
        "    m,i = match(hp, sp, psd=psd, low_frequency_cutoff = f_low)\n",
        "    matches.append(m)\n",
        "\t\n",
        "#Plotting our GWWF against the templates\n",
        "g1 = go.Figure()\n",
        "fig1.add_trace(go.Scatter(x=masses,\n",
        "                          y=matches,\n",
        "                          mode='markers',\n",
        "                          name=\"LIGO_Hanford\"))\n",
        "fig1.update_layout(xaxis_title='Mass',\n",
        "                   yaxis_title='Match',\n",
        "                   title=\"Correlation Between GW Waveform and Nearby Template\")\n",
        "fig2.write_html(\"Q1_8_waveform_correlation.html\")"
      ],
      "execution_count": null,
      "outputs": []
    },
    {
      "cell_type": "code",
      "metadata": {
        "id": "rChMUGxa8h57"
      },
      "source": [
        "IFrame(src='./Q1_8_waveform_correlation.html', width=\"100%\", height=500)"
      ],
      "execution_count": null,
      "outputs": []
    },
    {
      "cell_type": "code",
      "metadata": {
        "id": "8lB_2a1I8ixF"
      },
      "source": [
        "#Q2.1.1\n",
        "\n",
        "#Imports\n",
        "import numpy as np\n",
        "import pycbc.types \n",
        "\n",
        "##Converting data into time series\n",
        "d = np.load('noise_ts_4096Hz.npy')\n",
        "dt = d[:, 0]\n",
        "time = d[:,0]\n",
        "strain = d[:,1]\n",
        "d = pycbc.types.TimeSeries(d[:, 1], delta_t = dt[1]- dt[0])\n",
        "data = d\n",
        "strain = resample_to_delta_t(highpass(data, 20.0), 1.0/2048)\n",
        "stilde = strain.to_frequencyseries()"
      ],
      "execution_count": null,
      "outputs": []
    },
    {
      "cell_type": "code",
      "metadata": {
        "id": "05-Jh28r_jg6"
      },
      "source": [
        "##Estimate the PSD to frequency step \n",
        "psds = interpolate(strain.psd(2), stilde.delta_f)\n",
        "\n",
        "## We'll choose how much data is corrupted by overwhitening\n",
        "psds = inverse_spectrum_truncation(psds, \n",
        "                                   int(2 *strain.sample_rate),\n",
        "                                   low_frequency_cutoff=15.0,\n",
        "                                   trunc_method='hann')"
      ],
      "execution_count": null,
      "outputs": []
    },
    {
      "cell_type": "code",
      "metadata": {
        "id": "boYb4JEj_nNj"
      },
      "source": [
        "##Plotting our PSD\t\t\t\t\t\t\t\t   \n",
        "fig2 = go.Figure()\n",
        "fig2.add_trace(go.Scattergl(x=psds.sample_frequencies,\n",
        "                            y=psds,\n",
        "                            mode='lines',\n",
        "                            name=\"LIGO_Hanford\"))\n",
        "fig2.update_xaxes(type=\"log\", range=[1.3,3])\n",
        "fig2.update_yaxes(type=\"log\", range=[-47,-42])\n",
        "fig2.update_layout(xaxis_title='Frequency [Hz]',\n",
        "                   yaxis_title='Amplitude',\n",
        "                   title=\"Power Spectral Density\")\n",
        "fig2.write_html(\"Q2.1_Power_Spectral_Density.html\")\t"
      ],
      "execution_count": null,
      "outputs": []
    },
    {
      "cell_type": "code",
      "metadata": {
        "id": "n7wq9ZPZ_rSZ"
      },
      "source": [
        "IFrame(src='./Q2_1_Power_Spectral_Density.html', width=\"100%\", height=500)"
      ],
      "execution_count": null,
      "outputs": []
    },
    {
      "cell_type": "code",
      "metadata": {
        "id": "fC65L3aO_un-"
      },
      "source": [
        "#Q2.1.2\n",
        "#MATCH FILTERING\n",
        "\n",
        "#Defos\n",
        "import pycbc.noise\n",
        "import pycbc.psd\n",
        "import pycbc.filter\n",
        "import pycbc.waveform\n",
        "import pylab\n",
        "flow = 30 #Hz\n",
        "stilde = data.to_frequencyseries()\n",
        "\n",
        "#Generating template and rezising \n",
        "hp, hc = pycbc.waveform.get_fd_waveform(approximant=\"TaylorF2\",\n",
        "                             mass1=10, mass2=10,\n",
        "                             f_lower=flow, delta_f=stilde.delta_f)\n",
        "\n",
        "hp.resize(len(stilde))  \n",
        "snr = pycbc.filter.matched_filter(hp, stilde, psd=psds,\n",
        "                                      low_frequency_cutoff=flow)\n",
        "\n",
        "\n",
        "# Removing the regions corrupted by filter wraparound\n",
        "snr = snr[len(snr) // 4: len(snr) * 3 // 4]"
      ],
      "execution_count": null,
      "outputs": []
    },
    {
      "cell_type": "code",
      "metadata": {
        "id": "r9wZrmV1_1Z8"
      },
      "source": [
        "#Plotting our results, finding the max value of SNR \n",
        "pylab.plot(snr.sample_times, abs(snr))\n",
        "pylab.ylabel('signal-to-noise ratio')\n",
        "pylab.xlabel('time (s)')\n",
        "pylab.show()\n",
        "print ( 'Maximum SNR', max(abs(snr)) )"
      ],
      "execution_count": null,
      "outputs": []
    },
    {
      "cell_type": "code",
      "metadata": {
        "id": "SeY-UWU2_6lS"
      },
      "source": [
        "IFrame(src='./Q2_2_SNR_Plot.html', width=\"100%\", height=500)"
      ],
      "execution_count": null,
      "outputs": []
    },
    {
      "cell_type": "code",
      "metadata": {
        "id": "0vemcQPg_8qs"
      },
      "source": [
        "##Q2.2\n",
        "\n",
        "#Defintitions\n",
        "from pycbc.psd import welch, interpolate\n",
        "import matplotlib.pyplot as plt\n",
        "\n",
        "psds = interpolate(welch(data), 1.0 / data.duration) #???? fixed the issue of not same size\n",
        "white_data = (data.to_frequencyseries() / psds**0.5).to_timeseries()\n",
        "\n",
        "sigma = np.std(white_data)\n",
        "mu = np.mean(white_data)\n",
        "\n",
        "print(\"sigma = \" + str(sigma),\"; mu = \" + str(mu))"
      ],
      "execution_count": null,
      "outputs": []
    },
    {
      "cell_type": "code",
      "metadata": {
        "id": "pjGF3-JmABPh"
      },
      "source": [
        "fig = go.Figure(data=[go.Histogram(x=white_data, histnorm='probability')])\n",
        "fig.update_xaxes(range=[-200,200])\n",
        "fig.update_layout(xaxis_title='noise',\n",
        "                   yaxis_title='probability',\n",
        "                   title=\"Whitened data histogram: &#963; = 60.4794879 and &#956; = 0.05229178\")\n",
        "\n",
        "fig.write_html(\"Q2_3_whiteNoise_Hist.html\")"
      ],
      "execution_count": null,
      "outputs": []
    },
    {
      "cell_type": "code",
      "metadata": {
        "id": "Hw2Q2NvYAERl"
      },
      "source": [
        "IFrame(src='./Q2_3_whiteNoise_Hist.html', width=\"100%\", height=500)"
      ],
      "execution_count": null,
      "outputs": []
    },
    {
      "cell_type": "code",
      "metadata": {
        "id": "RNCsET-fAFNc"
      },
      "source": [
        "##Q2.3\n",
        "\n",
        "#Defos and generting wf\n",
        "\n",
        "from pycbc.filter import sigmasq\n",
        "hp, hc = get_fd_waveform(approximant=\"TaylorF2\",\n",
        "                         mass1=3,\n",
        "                         mass2=3,\n",
        "                         delta_f=0.001,\n",
        "                         distance = 500,\n",
        "                         f_lower=20.0, \n",
        "                         f_final = 2048.0) #Luminosity distance = 500 Mpc\n",
        "\n",
        "nb_slice = 1000\n",
        "slice_size = int(len(data)/nb_slice)\n",
        "\n",
        "SNRs =[]\n",
        "\n",
        "for i in range(nb_slice):\n",
        "    data_slice = data[slice_size*i:slice_size*(i+1)]\n",
        "#Calculating PSD    \n",
        "    psds = interpolate(welch(data_slice), hp.delta_f)\n",
        "    #print(psds.delta_f)\n",
        "    SNR = (pycbc.filter.sigmasq(hp, psds))**0.5\n",
        "    SNRs.append(SNR)\n",
        "#Printing sigma & mu values\n",
        "sigma = np.std(SNRs)\n",
        "mu = np.mean(SNRs)\n",
        "print(\"sigma = \" + str(sigma),\"; mu = \" + str(mu))"
      ],
      "execution_count": null,
      "outputs": []
    },
    {
      "cell_type": "code",
      "metadata": {
        "id": "M1iKTtZyAO91"
      },
      "source": [
        "#plotting\n",
        "fig = go.Figure(data=[go.Histogram(x=SNRs, histnorm='probability')])\n",
        "# fig.update_xaxes(range=[-0,200])\n",
        "fig.update_layout(xaxis_title='SNR',\n",
        "                   yaxis_title='probability',\n",
        "                   title=\"Estimated SNR histogram: &#963; = 1.6560736 and &#956; = 15.6536511\")\n",
        "fig.write_html(\"Q2_4_estSNR_Hist.html\")"
      ],
      "execution_count": null,
      "outputs": []
    },
    {
      "cell_type": "code",
      "metadata": {
        "id": "V_cAgmWXAS2s"
      },
      "source": [
        "IFrame(src='./Q2_4_estSNR_Hist.html', width=\"100%\", height=500)"
      ],
      "execution_count": null,
      "outputs": []
    }
  ]
}