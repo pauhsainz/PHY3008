{
  "nbformat": 4,
  "nbformat_minor": 0,
  "metadata": {
    "colab": {
      "name": "GWA Assignment Paulina Hernandez Sainz.ipynb",
      "provenance": [],
      "collapsed_sections": [],
      "authorship_tag": "ABX9TyN4/HSECo/3B9hh/PebGYQL",
      "include_colab_link": true
    },
    "kernelspec": {
      "name": "python3",
      "display_name": "Python 3"
    }
  },
  "cells": [
    {
      "cell_type": "markdown",
      "metadata": {
        "id": "view-in-github",
        "colab_type": "text"
      },
      "source": [
        "<a href=\"https://colab.research.google.com/github/pauhsainz/PRA3024/blob/main/GWA_Assignment_Paulina_Hernandez_Sainz.ipynb\" target=\"_parent\"><img src=\"https://colab.research.google.com/assets/colab-badge.svg\" alt=\"Open In Colab\"/></a>"
      ]
    },
    {
      "cell_type": "code",
      "metadata": {
        "id": "3m37KCig0kaX",
        "colab": {
          "base_uri": "https://localhost:8080/"
        },
        "outputId": "00e32263-e6a2-4f99-cdda-6e6bc5a48c43"
      },
      "source": [
        "import sys\n",
        "!{sys.executable} -m pip install lalsuite pycbc\n"
      ],
      "execution_count": null,
      "outputs": [
        {
          "output_type": "stream",
          "text": [
            "Collecting lalsuite\n",
            "\u001b[?25l  Downloading https://files.pythonhosted.org/packages/93/03/851f652a26776aed9f66558333b9f2653f0ff07e8edb43b8a8a1918665b4/lalsuite-6.82-cp36-cp36m-manylinux2014_x86_64.whl (27.3MB)\n",
            "\u001b[K     |████████████████████████████████| 27.3MB 149kB/s \n",
            "\u001b[?25hCollecting pycbc\n",
            "\u001b[?25l  Downloading https://files.pythonhosted.org/packages/f9/a4/e4a5893c632d895109d1ecfe60b9ba0f65f395418c97eed8f41326a8339c/PyCBC-1.17.0.tar.gz (3.2MB)\n",
            "\u001b[K     |████████████████████████████████| 3.2MB 28.2MB/s \n",
            "\u001b[?25h  Installing build dependencies ... \u001b[?25l\u001b[?25hdone\n",
            "  Getting requirements to build wheel ... \u001b[?25l\u001b[?25hdone\n",
            "    Preparing wheel metadata ... \u001b[?25l\u001b[?25hdone\n",
            "Requirement already satisfied: numpy>=1.7 in /usr/local/lib/python3.6/dist-packages (from lalsuite) (1.19.5)\n",
            "Collecting lscsoft-glue\n",
            "\u001b[?25l  Downloading https://files.pythonhosted.org/packages/3b/65/e93853bc1876516db8d58f4590dba1d6b85eaf9d1bd375926ac7897e525a/lscsoft-glue-2.0.0.tar.gz (1.6MB)\n",
            "\u001b[K     |████████████████████████████████| 1.6MB 34.9MB/s \n",
            "\u001b[?25hCollecting ligo-segments\n",
            "\u001b[?25l  Downloading https://files.pythonhosted.org/packages/53/96/0b4ec9e9a73444ddfe259460b6f059e89258d6d2356374d9ec7f52ba965e/ligo-segments-1.3.0.tar.gz (52kB)\n",
            "\u001b[K     |████████████████████████████████| 61kB 7.2MB/s \n",
            "\u001b[?25hRequirement already satisfied: scipy in /usr/local/lib/python3.6/dist-packages (from lalsuite) (1.4.1)\n",
            "Requirement already satisfied: importlib-resources; python_version < \"3.7\" in /usr/local/lib/python3.6/dist-packages (from lalsuite) (5.1.0)\n",
            "Requirement already satisfied: matplotlib in /usr/local/lib/python3.6/dist-packages (from lalsuite) (3.2.2)\n",
            "Requirement already satisfied: python-dateutil in /usr/local/lib/python3.6/dist-packages (from lalsuite) (2.8.1)\n",
            "Requirement already satisfied: beautifulsoup4>=4.6.0 in /usr/local/lib/python3.6/dist-packages (from pycbc) (4.6.3)\n",
            "Requirement already satisfied: decorator>=3.4.2 in /usr/local/lib/python3.6/dist-packages (from pycbc) (4.4.2)\n",
            "Collecting Mako>=1.0.1\n",
            "\u001b[?25l  Downloading https://files.pythonhosted.org/packages/5c/db/2d2d88b924aa4674a080aae83b59ea19d593250bfe5ed789947c21736785/Mako-1.1.4.tar.gz (479kB)\n",
            "\u001b[K     |████████████████████████████████| 481kB 39.9MB/s \n",
            "\u001b[?25hRequirement already satisfied: six>=1.10.0 in /usr/local/lib/python3.6/dist-packages (from pycbc) (1.15.0)\n",
            "Requirement already satisfied: pillow in /usr/local/lib/python3.6/dist-packages (from pycbc) (7.0.0)\n",
            "Requirement already satisfied: tqdm in /usr/local/lib/python3.6/dist-packages (from pycbc) (4.41.1)\n",
            "Collecting mpld3>=0.3\n",
            "\u001b[?25l  Downloading https://files.pythonhosted.org/packages/7d/b4/f380b6d58658106870161d703972b74fc2e66317acf298f873c0816d1fb2/mpld3-0.5.2.tar.gz (888kB)\n",
            "\u001b[K     |████████████████████████████████| 890kB 37.9MB/s \n",
            "\u001b[?25hRequirement already satisfied: astropy>=2.0.3; python_version > \"3.0\" in /usr/local/lib/python3.6/dist-packages (from pycbc) (4.1)\n",
            "Requirement already satisfied: cython>=0.29 in /usr/local/lib/python3.6/dist-packages (from pycbc) (0.29.21)\n",
            "Requirement already satisfied: jinja2 in /usr/local/lib/python3.6/dist-packages (from pycbc) (2.11.3)\n",
            "Collecting emcee==2.2.1\n",
            "  Downloading https://files.pythonhosted.org/packages/3f/d3/7635106605dedccd08705beac53be4c43a8da1caad6be667adbf93ed0965/emcee-2.2.1.tar.gz\n",
            "Requirement already satisfied: requests>=1.2.1 in /usr/local/lib/python3.6/dist-packages (from pycbc) (2.23.0)\n",
            "Requirement already satisfied: h5py>=2.5 in /usr/local/lib/python3.6/dist-packages (from pycbc) (2.10.0)\n",
            "Collecting gwdatafind\n",
            "  Downloading https://files.pythonhosted.org/packages/d6/9e/616124723b7a8f2a5399f9288b056bb31f37222b0b7cae46f6bafaa42154/gwdatafind-1.0.4-py2.py3-none-any.whl\n",
            "Collecting pyOpenSSL\n",
            "\u001b[?25l  Downloading https://files.pythonhosted.org/packages/b2/5e/06351ede29fd4899782ad335c2e02f1f862a887c20a3541f17c3fa1a3525/pyOpenSSL-20.0.1-py2.py3-none-any.whl (54kB)\n",
            "\u001b[K     |████████████████████████████████| 61kB 6.9MB/s \n",
            "\u001b[?25hRequirement already satisfied: zipp>=0.4; python_version < \"3.8\" in /usr/local/lib/python3.6/dist-packages (from importlib-resources; python_version < \"3.7\"->lalsuite) (3.4.0)\n",
            "Requirement already satisfied: cycler>=0.10 in /usr/local/lib/python3.6/dist-packages (from matplotlib->lalsuite) (0.10.0)\n",
            "Requirement already satisfied: kiwisolver>=1.0.1 in /usr/local/lib/python3.6/dist-packages (from matplotlib->lalsuite) (1.3.1)\n",
            "Requirement already satisfied: pyparsing!=2.0.4,!=2.1.2,!=2.1.6,>=2.0.1 in /usr/local/lib/python3.6/dist-packages (from matplotlib->lalsuite) (2.4.7)\n",
            "Requirement already satisfied: MarkupSafe>=0.9.2 in /usr/local/lib/python3.6/dist-packages (from Mako>=1.0.1->pycbc) (1.1.1)\n",
            "Requirement already satisfied: chardet<4,>=3.0.2 in /usr/local/lib/python3.6/dist-packages (from requests>=1.2.1->pycbc) (3.0.4)\n",
            "Requirement already satisfied: certifi>=2017.4.17 in /usr/local/lib/python3.6/dist-packages (from requests>=1.2.1->pycbc) (2020.12.5)\n",
            "Requirement already satisfied: idna<3,>=2.5 in /usr/local/lib/python3.6/dist-packages (from requests>=1.2.1->pycbc) (2.10)\n",
            "Requirement already satisfied: urllib3!=1.25.0,!=1.25.1,<1.26,>=1.21.1 in /usr/local/lib/python3.6/dist-packages (from requests>=1.2.1->pycbc) (1.24.3)\n",
            "Collecting cryptography>=3.2\n",
            "\u001b[?25l  Downloading https://files.pythonhosted.org/packages/f8/1f/acde6ff69864c5e78b56488e3afd93c1ccc8c2651186e2a5f93d93f64859/cryptography-3.4.6-cp36-abi3-manylinux2014_x86_64.whl (3.2MB)\n",
            "\u001b[K     |████████████████████████████████| 3.2MB 43.2MB/s \n",
            "\u001b[?25hRequirement already satisfied: cffi>=1.12 in /usr/local/lib/python3.6/dist-packages (from cryptography>=3.2->pyOpenSSL->lscsoft-glue->lalsuite) (1.14.4)\n",
            "Requirement already satisfied: pycparser in /usr/local/lib/python3.6/dist-packages (from cffi>=1.12->cryptography>=3.2->pyOpenSSL->lscsoft-glue->lalsuite) (2.20)\n",
            "Building wheels for collected packages: pycbc\n",
            "  Building wheel for pycbc (PEP 517) ... \u001b[?25l\u001b[?25hdone\n",
            "  Created wheel for pycbc: filename=PyCBC-1.17.0-cp36-cp36m-linux_x86_64.whl size=5711452 sha256=abd1108cfa3e2d8f3f1003a8f51b30c6f17095184cf8d110cdd3c10fc48f60ba\n",
            "  Stored in directory: /root/.cache/pip/wheels/51/1c/69/7de581c512e9465dad0d6a955c4a947425799fe14f6226d3a8\n",
            "Successfully built pycbc\n",
            "Building wheels for collected packages: lscsoft-glue, ligo-segments, Mako, mpld3, emcee\n",
            "  Building wheel for lscsoft-glue (setup.py) ... \u001b[?25l\u001b[?25hdone\n",
            "  Created wheel for lscsoft-glue: filename=lscsoft_glue-2.0.0-cp36-cp36m-linux_x86_64.whl size=414153 sha256=3fe893e32f8a245a3330a49fd981b694510a6971adbbff234519a7c403371982\n",
            "  Stored in directory: /root/.cache/pip/wheels/aa/fa/38/d61b002c627ca54f03755b9a288f4b1fa83291608a4bc47b7b\n",
            "  Building wheel for ligo-segments (setup.py) ... \u001b[?25l\u001b[?25hdone\n",
            "  Created wheel for ligo-segments: filename=ligo_segments-1.3.0-cp36-cp36m-linux_x86_64.whl size=84679 sha256=fada2bc10b88559b0703d80a730a47fcbc616bdbf31ad6c626f6f71a271db03a\n",
            "  Stored in directory: /root/.cache/pip/wheels/21/e8/4d/bfb61e2ececd2ba80c3b5c6691a8434358a655d6c2e7730ca9\n",
            "  Building wheel for Mako (setup.py) ... \u001b[?25l\u001b[?25hdone\n",
            "  Created wheel for Mako: filename=Mako-1.1.4-py2.py3-none-any.whl size=75675 sha256=3bab8d7d00954c3bf2f83cbdf83efa5f2f80a98ef845d8bfb77e1ea214af33f7\n",
            "  Stored in directory: /root/.cache/pip/wheels/ad/10/d3/aeb26e20d19045e2a68e5d3cbb57432e11b5d9c92c99f98d47\n",
            "  Building wheel for mpld3 (setup.py) ... \u001b[?25l\u001b[?25hdone\n",
            "  Created wheel for mpld3: filename=mpld3-0.5.2-cp36-none-any.whl size=200618 sha256=e41325f08e84601927c1cfdb608c70661a845bc730d3c6aefdec672f468c2c89\n",
            "  Stored in directory: /root/.cache/pip/wheels/21/73/06/ea4b85609301850b1289a282852d92e22fcbf7a250ed5f547f\n",
            "  Building wheel for emcee (setup.py) ... \u001b[?25l\u001b[?25hdone\n",
            "  Created wheel for emcee: filename=emcee-2.2.1-cp36-none-any.whl size=29596 sha256=dc883682df4cd844cbafc00c3b6cdb6ccedc61174f0451cb35e9cd789e7b5b1b\n",
            "  Stored in directory: /root/.cache/pip/wheels/2f/5d/a5/78f84e23329ad7d9b1787c9d24371100cae74cdefe25eba50d\n",
            "Successfully built lscsoft-glue ligo-segments Mako mpld3 emcee\n",
            "Installing collected packages: cryptography, pyOpenSSL, ligo-segments, lscsoft-glue, lalsuite, Mako, mpld3, emcee, gwdatafind, pycbc\n",
            "Successfully installed Mako-1.1.4 cryptography-3.4.6 emcee-2.2.1 gwdatafind-1.0.4 lalsuite-6.82 ligo-segments-1.3.0 lscsoft-glue-2.0.0 mpld3-0.5.2 pyOpenSSL-20.0.1 pycbc-1.17.0\n"
          ],
          "name": "stdout"
        }
      ]
    },
    {
      "cell_type": "code",
      "metadata": {
        "id": "CnbZ4xHp0qym"
      },
      "source": [
        "#Question 1 part 1\n",
        "#Extracting data and functions from import files (Precious Preliminary Preparations :P)\n",
        "\n",
        "%matplotlib inline\n",
        "import pylab\n",
        "import numpy\n",
        "import numpy as np\n",
        "import plotly\n",
        "import plotly.graph_objects as go\n",
        "import pandas\n",
        "from pycbc.filter import highpass, matched_filter, resample_to_delta_t, sigma\n",
        "from pycbc.catalog import Merger\n",
        "from pycbc.frame import read_frame\n",
        "from pycbc.psd import interpolate, inverse_spectrum_truncation\n",
        "from pycbc.waveform import get_fd_waveform, get_td_waveform\n",
        "from pycbc.conversions import mass1_from_mchirp_q\n"
      ],
      "execution_count": null,
      "outputs": []
    },
    {
      "cell_type": "code",
      "metadata": {
        "id": "Fz-RYQBe1IRA",
        "colab": {
          "base_uri": "https://localhost:8080/",
          "height": 334
        },
        "outputId": "701edcd1-b7db-42a8-e2c4-6473f79823fb"
      },
      "source": [
        "merger = Merger(\"GW170817\")\n",
        "strain, stilde = {}, {}\n",
        "for ifo in ['H1', 'L1']:\n",
        "  ts = read_frame(\"{}-{}_LOSC_CLN_4_V1-1187007040-2048.gwf\".format(ifo[0], ifo),\n",
        "    '{}:LOSC-STRAIN'.format(ifo),\n",
        "    start_time=merger.time - 224,\n",
        "    end_time=merger.time + 32,\n",
        "    check_integrity=False)"
      ],
      "execution_count": null,
      "outputs": [
        {
          "output_type": "error",
          "ename": "RuntimeError",
          "evalue": "ignored",
          "traceback": [
            "\u001b[0;31m---------------------------------------------------------------------------\u001b[0m",
            "\u001b[0;31mRuntimeError\u001b[0m                              Traceback (most recent call last)",
            "\u001b[0;32m<ipython-input-25-917b549e0720>\u001b[0m in \u001b[0;36m<module>\u001b[0;34m()\u001b[0m\n\u001b[1;32m      6\u001b[0m     \u001b[0mstart_time\u001b[0m\u001b[0;34m=\u001b[0m\u001b[0mmerger\u001b[0m\u001b[0;34m.\u001b[0m\u001b[0mtime\u001b[0m \u001b[0;34m-\u001b[0m \u001b[0;36m224\u001b[0m\u001b[0;34m,\u001b[0m\u001b[0;34m\u001b[0m\u001b[0;34m\u001b[0m\u001b[0m\n\u001b[1;32m      7\u001b[0m     \u001b[0mend_time\u001b[0m\u001b[0;34m=\u001b[0m\u001b[0mmerger\u001b[0m\u001b[0;34m.\u001b[0m\u001b[0mtime\u001b[0m \u001b[0;34m+\u001b[0m \u001b[0;36m32\u001b[0m\u001b[0;34m,\u001b[0m\u001b[0;34m\u001b[0m\u001b[0;34m\u001b[0m\u001b[0m\n\u001b[0;32m----> 8\u001b[0;31m     check_integrity=False)\n\u001b[0m",
            "\u001b[0;32m/usr/local/lib/python3.6/dist-packages/pycbc/frame/frame.py\u001b[0m in \u001b[0;36mread_frame\u001b[0;34m(location, channels, start_time, end_time, duration, check_integrity, sieve)\u001b[0m\n\u001b[1;32m    200\u001b[0m                        None, None, None)\n\u001b[1;32m    201\u001b[0m \u001b[0;34m\u001b[0m\u001b[0m\n\u001b[0;32m--> 202\u001b[0;31m     \u001b[0mstream\u001b[0m \u001b[0;34m=\u001b[0m \u001b[0mlalframe\u001b[0m\u001b[0;34m.\u001b[0m\u001b[0mFrStreamCacheOpen\u001b[0m\u001b[0;34m(\u001b[0m\u001b[0mcum_cache\u001b[0m\u001b[0;34m)\u001b[0m\u001b[0;34m\u001b[0m\u001b[0;34m\u001b[0m\u001b[0m\n\u001b[0m\u001b[1;32m    203\u001b[0m     \u001b[0mstream\u001b[0m\u001b[0;34m.\u001b[0m\u001b[0mmode\u001b[0m \u001b[0;34m=\u001b[0m \u001b[0mlalframe\u001b[0m\u001b[0;34m.\u001b[0m\u001b[0mFR_STREAM_VERBOSE_MODE\u001b[0m\u001b[0;34m\u001b[0m\u001b[0;34m\u001b[0m\u001b[0m\n\u001b[1;32m    204\u001b[0m \u001b[0;34m\u001b[0m\u001b[0m\n",
            "\u001b[0;31mRuntimeError\u001b[0m: Internal function call failed: Invalid argument"
          ]
        }
      ]
    },
    {
      "cell_type": "code",
      "metadata": {
        "id": "4lCM4lB-6wLF",
        "colab": {
          "base_uri": "https://localhost:8080/",
          "height": 215
        },
        "outputId": "43d7a80f-03ab-4791-e9c4-6fd44c71c5e0"
      },
      "source": [
        "#printing the resulting time domain series\n",
        "pylab.plot(strain['H1'].sample_times, strain['H1'])\n",
        "pylab.xlabel('Time (s)')\n",
        "pylab.show()"
      ],
      "execution_count": null,
      "outputs": [
        {
          "output_type": "error",
          "ename": "KeyError",
          "evalue": "ignored",
          "traceback": [
            "\u001b[0;31m---------------------------------------------------------------------------\u001b[0m",
            "\u001b[0;31mKeyError\u001b[0m                                  Traceback (most recent call last)",
            "\u001b[0;32m<ipython-input-7-a4ab6cd77eaa>\u001b[0m in \u001b[0;36m<module>\u001b[0;34m()\u001b[0m\n\u001b[1;32m      1\u001b[0m \u001b[0;31m#printing the resulting time domain series\u001b[0m\u001b[0;34m\u001b[0m\u001b[0;34m\u001b[0m\u001b[0;34m\u001b[0m\u001b[0m\n\u001b[0;32m----> 2\u001b[0;31m \u001b[0mpylab\u001b[0m\u001b[0;34m.\u001b[0m\u001b[0mplot\u001b[0m\u001b[0;34m(\u001b[0m\u001b[0mstrain\u001b[0m\u001b[0;34m[\u001b[0m\u001b[0;34m'H1'\u001b[0m\u001b[0;34m]\u001b[0m\u001b[0;34m.\u001b[0m\u001b[0msample_times\u001b[0m\u001b[0;34m,\u001b[0m \u001b[0mstrain\u001b[0m\u001b[0;34m[\u001b[0m\u001b[0;34m'H1'\u001b[0m\u001b[0;34m]\u001b[0m\u001b[0;34m)\u001b[0m\u001b[0;34m\u001b[0m\u001b[0;34m\u001b[0m\u001b[0m\n\u001b[0m\u001b[1;32m      3\u001b[0m \u001b[0mpylab\u001b[0m\u001b[0;34m.\u001b[0m\u001b[0mxlabel\u001b[0m\u001b[0;34m(\u001b[0m\u001b[0;34m'Time (s)'\u001b[0m\u001b[0;34m)\u001b[0m\u001b[0;34m\u001b[0m\u001b[0;34m\u001b[0m\u001b[0m\n\u001b[1;32m      4\u001b[0m \u001b[0mpylab\u001b[0m\u001b[0;34m.\u001b[0m\u001b[0mshow\u001b[0m\u001b[0;34m(\u001b[0m\u001b[0;34m)\u001b[0m\u001b[0;34m\u001b[0m\u001b[0;34m\u001b[0m\u001b[0m\n",
            "\u001b[0;31mKeyError\u001b[0m: 'H1'"
          ]
        }
      ]
    },
    {
      "cell_type": "code",
      "metadata": {
        "id": "mOOLmSHy6qes",
        "colab": {
          "base_uri": "https://localhost:8080/",
          "height": 232
        },
        "outputId": "ef456923-b9fe-472b-fe1e-95222137e6bc"
      },
      "source": [
        "#Question 1 part 2 \n",
        "#(Estimating PSD)\n",
        "\n",
        "#Calculate the psd from the data -- Median Welch style estimate\n",
        "#interpolate the PSD to the frequency step size we need.\n",
        "psds = {}\n",
        "for ifo in ['L1', 'H1']:\n",
        "  psds[ifo] = interpolate(strain[ifo].psd(2), stilde[ifo].delta_f)\n",
        "\t\n",
        "#Take care of corruption and overwhitening by manually setting a 2 second \"buffer\"\n",
        "  psds[ifo] = inverse_spectrum_truncation(psds[ifo], int(2 * strain[ifo].sample_rate),\n",
        "  low_frequency_cutoff=15.0,\n",
        "  trunc_method='hann')"
      ],
      "execution_count": null,
      "outputs": [
        {
          "output_type": "error",
          "ename": "KeyError",
          "evalue": "ignored",
          "traceback": [
            "\u001b[0;31m---------------------------------------------------------------------------\u001b[0m",
            "\u001b[0;31mKeyError\u001b[0m                                  Traceback (most recent call last)",
            "\u001b[0;32m<ipython-input-28-6aa75484b47a>\u001b[0m in \u001b[0;36m<module>\u001b[0;34m()\u001b[0m\n\u001b[1;32m      6\u001b[0m \u001b[0mpsds\u001b[0m \u001b[0;34m=\u001b[0m \u001b[0;34m{\u001b[0m\u001b[0;34m}\u001b[0m\u001b[0;34m\u001b[0m\u001b[0;34m\u001b[0m\u001b[0m\n\u001b[1;32m      7\u001b[0m \u001b[0;32mfor\u001b[0m \u001b[0mifo\u001b[0m \u001b[0;32min\u001b[0m \u001b[0;34m[\u001b[0m\u001b[0;34m'L1'\u001b[0m\u001b[0;34m,\u001b[0m \u001b[0;34m'H1'\u001b[0m\u001b[0;34m]\u001b[0m\u001b[0;34m:\u001b[0m\u001b[0;34m\u001b[0m\u001b[0;34m\u001b[0m\u001b[0m\n\u001b[0;32m----> 8\u001b[0;31m   \u001b[0mpsds\u001b[0m\u001b[0;34m[\u001b[0m\u001b[0mifo\u001b[0m\u001b[0;34m]\u001b[0m \u001b[0;34m=\u001b[0m \u001b[0minterpolate\u001b[0m\u001b[0;34m(\u001b[0m\u001b[0mstrain\u001b[0m\u001b[0;34m[\u001b[0m\u001b[0mifo\u001b[0m\u001b[0;34m]\u001b[0m\u001b[0;34m.\u001b[0m\u001b[0mpsd\u001b[0m\u001b[0;34m(\u001b[0m\u001b[0;36m2\u001b[0m\u001b[0;34m)\u001b[0m\u001b[0;34m,\u001b[0m \u001b[0mstilde\u001b[0m\u001b[0;34m[\u001b[0m\u001b[0mifo\u001b[0m\u001b[0;34m]\u001b[0m\u001b[0;34m.\u001b[0m\u001b[0mdelta_f\u001b[0m\u001b[0;34m)\u001b[0m\u001b[0;34m\u001b[0m\u001b[0;34m\u001b[0m\u001b[0m\n\u001b[0m\u001b[1;32m      9\u001b[0m \u001b[0;34m\u001b[0m\u001b[0m\n\u001b[1;32m     10\u001b[0m \u001b[0;31m#Take care of corruption and overwhitening by manually setting a 2 second \"buffer\"\u001b[0m\u001b[0;34m\u001b[0m\u001b[0;34m\u001b[0m\u001b[0;34m\u001b[0m\u001b[0m\n",
            "\u001b[0;31mKeyError\u001b[0m: 'L1'"
          ]
        }
      ]
    },
    {
      "cell_type": "code",
      "metadata": {
        "id": "AQANlW4u654v"
      },
      "source": [
        "#Displaying our figures\t\n",
        "pylab.loglog(psds[ifo].sample_frequencies, psds[ifo], label=ifo)\n",
        "pylab.xlim(20, 1024)\n",
        "pylab.ylim(1e-47, 1e-42)\n",
        "pylab.legend()"
      ],
      "execution_count": null,
      "outputs": []
    },
    {
      "cell_type": "code",
      "metadata": {
        "id": "R6oh-gDd69of",
        "colab": {
          "base_uri": "https://localhost:8080/",
          "height": 215
        },
        "outputId": "6f330615-bfaa-4410-87a5-a1e745537013"
      },
      "source": [
        "#Setting mass range between 1.3 and 1.5 solar masses\n",
        "masses = numpy.arange(1.3, 1.5, .01)\n",
        "\n",
        "hmax, smax, tmax, mmax, nsnr = None, {}, {}, 0, 0\n",
        "snrs = []\n",
        "#Creating a template waveform using a Taylor approximation \n",
        "for m in masses:\n",
        "\thp, hc = get_fd_waveform(approximant=\"TaylorF2\", mass1=m, mass2=m, f_lower=20, \n",
        "                          delta_f=stilde[ifo].delta_f)\n",
        "\thp.resize(len(stilde[ifo]))"
      ],
      "execution_count": null,
      "outputs": [
        {
          "output_type": "error",
          "ename": "KeyError",
          "evalue": "ignored",
          "traceback": [
            "\u001b[0;31m---------------------------------------------------------------------------\u001b[0m",
            "\u001b[0;31mKeyError\u001b[0m                                  Traceback (most recent call last)",
            "\u001b[0;32m<ipython-input-31-b3dc7a2f79e0>\u001b[0m in \u001b[0;36m<module>\u001b[0;34m()\u001b[0m\n\u001b[1;32m      7\u001b[0m \u001b[0;32mfor\u001b[0m \u001b[0mm\u001b[0m \u001b[0;32min\u001b[0m \u001b[0mmasses\u001b[0m\u001b[0;34m:\u001b[0m\u001b[0;34m\u001b[0m\u001b[0;34m\u001b[0m\u001b[0m\n\u001b[1;32m      8\u001b[0m \thp, hc = get_fd_waveform(approximant=\"TaylorF2\", mass1=m, mass2=m, f_lower=20, \n\u001b[0;32m----> 9\u001b[0;31m                           delta_f=stilde[ifo].delta_f)\n\u001b[0m\u001b[1;32m     10\u001b[0m         \u001b[0mhp\u001b[0m\u001b[0;34m.\u001b[0m\u001b[0mresize\u001b[0m\u001b[0;34m(\u001b[0m\u001b[0mlen\u001b[0m\u001b[0;34m(\u001b[0m\u001b[0mstilde\u001b[0m\u001b[0;34m[\u001b[0m\u001b[0mifo\u001b[0m\u001b[0;34m]\u001b[0m\u001b[0;34m)\u001b[0m\u001b[0;34m)\u001b[0m\u001b[0;34m\u001b[0m\u001b[0;34m\u001b[0m\u001b[0m\n",
            "\u001b[0;31mKeyError\u001b[0m: 'L1'"
          ]
        }
      ]
    },
    {
      "cell_type": "code",
      "metadata": {
        "id": "qV_ABC_S7PQ_",
        "colab": {
          "base_uri": "https://localhost:8080/",
          "height": 232
        },
        "outputId": "30d9aa2d-c946-4864-bbc1-3842fd4a097d"
      },
      "source": [
        "#Looking for the point of maximum Signal to Noise ratio to look for possible matches with the template waveforms\n",
        "max_snr, max_time = {}, {}\n",
        "for ifo in ['L1', 'H1']:\n",
        "\t\tsnr = matched_filter(hp, stilde[ifo], psd=psds[ifo],low_frequency_cutoff=20.0)\n",
        "\n",
        "\t\tsnr = snr.time_slice(merger.time - 1, merger.time + 1)\n",
        "\t\t_, idx = snr.abs_max_loc()\n",
        "\t\tmax_snr[ifo] = snr[idx]\n",
        "#Find at what time this peak SNR occurs\n",
        "\t\tmax_time[ifo] = float(idx) / snr.sample_rate + snr.start_time\n",
        "network_snr = (abs(numpy.array(list(max_snr.values()))) ** 2.0).sum() ** 0.5 \n",
        "snrs.append(max_snr)\n",
        "#Selecting the maximum peak only\n",
        "if network_snr > nsnr:\n",
        "\ttmax, hmax, mmax, smax = max_time, hp, m, max_snr\n",
        "\tnsnr = network_snr\n",
        "\n",
        "# Finding where the peak SNR allows us (with the exception of redshift corrections at very large distances) to define what the masses that make up the system are \n",
        "print(\"We found that the best match for Mass1=Mass2 was %2.2f solar masses in the detector frame\" % mmax)\n"
      ],
      "execution_count": null,
      "outputs": [
        {
          "output_type": "error",
          "ename": "NameError",
          "evalue": "ignored",
          "traceback": [
            "\u001b[0;31m---------------------------------------------------------------------------\u001b[0m",
            "\u001b[0;31mNameError\u001b[0m                                 Traceback (most recent call last)",
            "\u001b[0;32m<ipython-input-39-d399e6f1aea6>\u001b[0m in \u001b[0;36m<module>\u001b[0;34m()\u001b[0m\n\u001b[1;32m      2\u001b[0m \u001b[0mmax_snr\u001b[0m\u001b[0;34m,\u001b[0m \u001b[0mmax_time\u001b[0m \u001b[0;34m=\u001b[0m \u001b[0;34m{\u001b[0m\u001b[0;34m}\u001b[0m\u001b[0;34m,\u001b[0m \u001b[0;34m{\u001b[0m\u001b[0;34m}\u001b[0m\u001b[0;34m\u001b[0m\u001b[0;34m\u001b[0m\u001b[0m\n\u001b[1;32m      3\u001b[0m \u001b[0;32mfor\u001b[0m \u001b[0mifo\u001b[0m \u001b[0;32min\u001b[0m \u001b[0;34m[\u001b[0m\u001b[0;34m'L1'\u001b[0m\u001b[0;34m,\u001b[0m \u001b[0;34m'H1'\u001b[0m\u001b[0;34m]\u001b[0m\u001b[0;34m:\u001b[0m\u001b[0;34m\u001b[0m\u001b[0;34m\u001b[0m\u001b[0m\n\u001b[0;32m----> 4\u001b[0;31m                 \u001b[0msnr\u001b[0m \u001b[0;34m=\u001b[0m \u001b[0mmatched_filter\u001b[0m\u001b[0;34m(\u001b[0m\u001b[0mhp\u001b[0m\u001b[0;34m,\u001b[0m \u001b[0mstilde\u001b[0m\u001b[0;34m[\u001b[0m\u001b[0mifo\u001b[0m\u001b[0;34m]\u001b[0m\u001b[0;34m,\u001b[0m \u001b[0mpsd\u001b[0m\u001b[0;34m=\u001b[0m\u001b[0mpsds\u001b[0m\u001b[0;34m[\u001b[0m\u001b[0mifo\u001b[0m\u001b[0;34m]\u001b[0m\u001b[0;34m,\u001b[0m\u001b[0mlow_frequency_cutoff\u001b[0m\u001b[0;34m=\u001b[0m\u001b[0;36m20.0\u001b[0m\u001b[0;34m)\u001b[0m\u001b[0;34m\u001b[0m\u001b[0;34m\u001b[0m\u001b[0m\n\u001b[0m\u001b[1;32m      5\u001b[0m \u001b[0;34m\u001b[0m\u001b[0m\n\u001b[1;32m      6\u001b[0m                 \u001b[0msnr\u001b[0m \u001b[0;34m=\u001b[0m \u001b[0msnr\u001b[0m\u001b[0;34m.\u001b[0m\u001b[0mtime_slice\u001b[0m\u001b[0;34m(\u001b[0m\u001b[0mmerger\u001b[0m\u001b[0;34m.\u001b[0m\u001b[0mtime\u001b[0m \u001b[0;34m-\u001b[0m \u001b[0;36m1\u001b[0m\u001b[0;34m,\u001b[0m \u001b[0mmerger\u001b[0m\u001b[0;34m.\u001b[0m\u001b[0mtime\u001b[0m \u001b[0;34m+\u001b[0m \u001b[0;36m1\u001b[0m\u001b[0;34m)\u001b[0m\u001b[0;34m\u001b[0m\u001b[0;34m\u001b[0m\u001b[0m\n",
            "\u001b[0;31mNameError\u001b[0m: name 'hp' is not defined"
          ]
        }
      ]
    },
    {
      "cell_type": "code",
      "metadata": {
        "id": "BGnV6Jid7Rxd",
        "colab": {
          "base_uri": "https://localhost:8080/"
        },
        "outputId": "f0e5bb0b-64e9-4310-8dbc-757636a6ae08"
      },
      "source": [
        "# print(snrs)\n",
        "to_plot = []\n",
        "for i in range(len(snrs)):\n",
        "    to_plot.append((abs(snrs[i]['H1'])**2 + abs(snrs[i]['L1'])**2)**0.5)\n",
        "# nsnr = (numpy.array(snrs['H1'])**2 + numpy.array(snrs['L1'])**2)**0.5\n",
        "print(to_plot)"
      ],
      "execution_count": null,
      "outputs": [
        {
          "output_type": "stream",
          "text": [
            "[]\n"
          ],
          "name": "stdout"
        }
      ]
    },
    {
      "cell_type": "code",
      "metadata": {
        "id": "L2FP60Zn70Si",
        "colab": {
          "base_uri": "https://localhost:8080/",
          "height": 232
        },
        "outputId": "34c3a37a-0d1f-4dd1-8ced-e22776463100"
      },
      "source": [
        "m = 1.4 # Solar masses\n",
        "conditioned = strain['H1']\n",
        "hp, hc = get_td_waveform(approximant=\"TaylorT2\",\n",
        "                     mass1=m,\n",
        "                     mass2=m,\n",
        "                     delta_t=conditioned.delta_t,\n",
        "                     f_lower=20.0)\n",
        "\n",
        "# We will resize the vector to match our data\n",
        "hp.resize(len(conditioned))\n",
        "#Shift the SNR time series towards the merger point and print a graph\n",
        "template = hp .cyclic_time_shift(hp.start_time)\n",
        "pylab.plot(hp.sample_times, template)\n",
        "pylab.xlabel('time')\n",
        "pylab.ylabel('strain')\n",
        "pylab.show()"
      ],
      "execution_count": null,
      "outputs": [
        {
          "output_type": "error",
          "ename": "KeyError",
          "evalue": "ignored",
          "traceback": [
            "\u001b[0;31m---------------------------------------------------------------------------\u001b[0m",
            "\u001b[0;31mKeyError\u001b[0m                                  Traceback (most recent call last)",
            "\u001b[0;32m<ipython-input-41-b94104ba246a>\u001b[0m in \u001b[0;36m<module>\u001b[0;34m()\u001b[0m\n\u001b[1;32m      1\u001b[0m \u001b[0mm\u001b[0m \u001b[0;34m=\u001b[0m \u001b[0;36m1.4\u001b[0m \u001b[0;31m# Solar masses\u001b[0m\u001b[0;34m\u001b[0m\u001b[0;34m\u001b[0m\u001b[0m\n\u001b[0;32m----> 2\u001b[0;31m \u001b[0mconditioned\u001b[0m \u001b[0;34m=\u001b[0m \u001b[0mstrain\u001b[0m\u001b[0;34m[\u001b[0m\u001b[0;34m'H1'\u001b[0m\u001b[0;34m]\u001b[0m\u001b[0;34m\u001b[0m\u001b[0;34m\u001b[0m\u001b[0m\n\u001b[0m\u001b[1;32m      3\u001b[0m hp, hc = get_td_waveform(approximant=\"TaylorT2\",\n\u001b[1;32m      4\u001b[0m                      \u001b[0mmass1\u001b[0m\u001b[0;34m=\u001b[0m\u001b[0mm\u001b[0m\u001b[0;34m,\u001b[0m\u001b[0;34m\u001b[0m\u001b[0;34m\u001b[0m\u001b[0m\n\u001b[1;32m      5\u001b[0m                      \u001b[0mmass2\u001b[0m\u001b[0;34m=\u001b[0m\u001b[0mm\u001b[0m\u001b[0;34m,\u001b[0m\u001b[0;34m\u001b[0m\u001b[0;34m\u001b[0m\u001b[0m\n",
            "\u001b[0;31mKeyError\u001b[0m: 'H1'"
          ]
        }
      ]
    },
    {
      "cell_type": "code",
      "metadata": {
        "id": "YnqzMt_u734M",
        "colab": {
          "base_uri": "https://localhost:8080/",
          "height": 232
        },
        "outputId": "7a74a7d7-6e52-4ada-f3ca-4e8ce99a0b32"
      },
      "source": [
        "#Cropping data removes artifacts + extra 4 secs off the top\n",
        "ifo = 'L1'                            \n",
        "conditioned = strain[ifo]\n",
        "snr = matched_filter(template, conditioned,\n",
        "                     psd=psds[ifo] , low_frequency_cutoff=15)\n",
        "snr = snr.crop(4 + 4, 4)\n",
        "\n",
        "#plotting \n",
        "pylab.figure(figsize=[10, 4])\n",
        "pylab.plot(snr.sample_times, abs(snr))\n",
        "pylab.ylabel('Signal-to-noise')\n",
        "pylab.xlabel('Time (s)')\n",
        "pylab.show()\n",
        "\n",
        "peak = abs(snr).numpy().argmax()\n",
        "snrp = snr[peak]\n",
        "time = snr.sample_times[peak]\n",
        "\n",
        "print(\"We found a signal at {}s with SNR {}\".format(time, \n",
        "                                                    abs(snrp)))"
      ],
      "execution_count": null,
      "outputs": [
        {
          "output_type": "error",
          "ename": "KeyError",
          "evalue": "ignored",
          "traceback": [
            "\u001b[0;31m---------------------------------------------------------------------------\u001b[0m",
            "\u001b[0;31mKeyError\u001b[0m                                  Traceback (most recent call last)",
            "\u001b[0;32m<ipython-input-42-41e11eb23781>\u001b[0m in \u001b[0;36m<module>\u001b[0;34m()\u001b[0m\n\u001b[1;32m      1\u001b[0m \u001b[0;31m#Cropping data removes artifacts + extra 4 secs off the top\u001b[0m\u001b[0;34m\u001b[0m\u001b[0;34m\u001b[0m\u001b[0;34m\u001b[0m\u001b[0m\n\u001b[1;32m      2\u001b[0m \u001b[0mifo\u001b[0m \u001b[0;34m=\u001b[0m \u001b[0;34m'L1'\u001b[0m\u001b[0;34m\u001b[0m\u001b[0;34m\u001b[0m\u001b[0m\n\u001b[0;32m----> 3\u001b[0;31m \u001b[0mconditioned\u001b[0m \u001b[0;34m=\u001b[0m \u001b[0mstrain\u001b[0m\u001b[0;34m[\u001b[0m\u001b[0mifo\u001b[0m\u001b[0;34m]\u001b[0m\u001b[0;34m\u001b[0m\u001b[0;34m\u001b[0m\u001b[0m\n\u001b[0m\u001b[1;32m      4\u001b[0m snr = matched_filter(template, conditioned,\n\u001b[1;32m      5\u001b[0m                      psd=psds[ifo] , low_frequency_cutoff=15)\n",
            "\u001b[0;31mKeyError\u001b[0m: 'L1'"
          ]
        }
      ]
    },
    {
      "cell_type": "code",
      "metadata": {
        "id": "RKLfMj5b8CUa",
        "colab": {
          "base_uri": "https://localhost:8080/",
          "height": 232
        },
        "outputId": "794983c2-dc18-4bf9-9091-ff4d66716804"
      },
      "source": [
        "dt = time - conditioned.start_time\n",
        "aligned = template.cyclic_time_shift(dt)\n",
        "aligned /= sigma(aligned, psd=psds[ifo], low_frequency_cutoff=20.0)\n",
        "aligned = (aligned.to_frequencyseries() * snrp).to_timeseries()\n",
        "aligned.start_time = conditioned.start_time\n",
        "\n",
        "white_data = (conditioned.to_frequencyseries() / psds[ifo]**0.5).to_timeseries()\n",
        "tapered = aligned.highpass_fir(30, 512, remove_corrupted=False)\n",
        "white_template = (tapered.to_frequencyseries() / psds[ifo]**0.5).to_timeseries()\n",
        "\n",
        "white_data = white_data.highpass_fir(30., 512).lowpass_fir(300, 512)\n",
        "\n",
        "white_data = white_data.time_slice(merger.time-.2, merger.time+.1)\n",
        "white_template = white_template.time_slice(merger.time-.2, merger.time+.1)\n",
        "\n",
        "pylab.figure(figsize=[15, 3])\n",
        "pylab.plot(white_data.sample_times, white_data, label=\"Data\")\n",
        "pylab.plot(white_template.sample_times, white_template, label=\"Template\")\n",
        "pylab.legend()\n",
        "pylab.show()\n"
      ],
      "execution_count": null,
      "outputs": [
        {
          "output_type": "error",
          "ename": "NameError",
          "evalue": "ignored",
          "traceback": [
            "\u001b[0;31m---------------------------------------------------------------------------\u001b[0m",
            "\u001b[0;31mNameError\u001b[0m                                 Traceback (most recent call last)",
            "\u001b[0;32m<ipython-input-43-684ae932860d>\u001b[0m in \u001b[0;36m<module>\u001b[0;34m()\u001b[0m\n\u001b[0;32m----> 1\u001b[0;31m \u001b[0mdt\u001b[0m \u001b[0;34m=\u001b[0m \u001b[0mtime\u001b[0m \u001b[0;34m-\u001b[0m \u001b[0mconditioned\u001b[0m\u001b[0;34m.\u001b[0m\u001b[0mstart_time\u001b[0m\u001b[0;34m\u001b[0m\u001b[0;34m\u001b[0m\u001b[0m\n\u001b[0m\u001b[1;32m      2\u001b[0m \u001b[0maligned\u001b[0m \u001b[0;34m=\u001b[0m \u001b[0mtemplate\u001b[0m\u001b[0;34m.\u001b[0m\u001b[0mcyclic_time_shift\u001b[0m\u001b[0;34m(\u001b[0m\u001b[0mdt\u001b[0m\u001b[0;34m)\u001b[0m\u001b[0;34m\u001b[0m\u001b[0;34m\u001b[0m\u001b[0m\n\u001b[1;32m      3\u001b[0m \u001b[0maligned\u001b[0m \u001b[0;34m/=\u001b[0m \u001b[0msigma\u001b[0m\u001b[0;34m(\u001b[0m\u001b[0maligned\u001b[0m\u001b[0;34m,\u001b[0m \u001b[0mpsd\u001b[0m\u001b[0;34m=\u001b[0m\u001b[0mpsds\u001b[0m\u001b[0;34m[\u001b[0m\u001b[0mifo\u001b[0m\u001b[0;34m]\u001b[0m\u001b[0;34m,\u001b[0m \u001b[0mlow_frequency_cutoff\u001b[0m\u001b[0;34m=\u001b[0m\u001b[0;36m20.0\u001b[0m\u001b[0;34m)\u001b[0m\u001b[0;34m\u001b[0m\u001b[0;34m\u001b[0m\u001b[0m\n\u001b[1;32m      4\u001b[0m \u001b[0maligned\u001b[0m \u001b[0;34m=\u001b[0m \u001b[0;34m(\u001b[0m\u001b[0maligned\u001b[0m\u001b[0;34m.\u001b[0m\u001b[0mto_frequencyseries\u001b[0m\u001b[0;34m(\u001b[0m\u001b[0;34m)\u001b[0m \u001b[0;34m*\u001b[0m \u001b[0msnrp\u001b[0m\u001b[0;34m)\u001b[0m\u001b[0;34m.\u001b[0m\u001b[0mto_timeseries\u001b[0m\u001b[0;34m(\u001b[0m\u001b[0;34m)\u001b[0m\u001b[0;34m\u001b[0m\u001b[0;34m\u001b[0m\u001b[0m\n\u001b[1;32m      5\u001b[0m \u001b[0maligned\u001b[0m\u001b[0;34m.\u001b[0m\u001b[0mstart_time\u001b[0m \u001b[0;34m=\u001b[0m \u001b[0mconditioned\u001b[0m\u001b[0;34m.\u001b[0m\u001b[0mstart_time\u001b[0m\u001b[0;34m\u001b[0m\u001b[0;34m\u001b[0m\u001b[0m\n",
            "\u001b[0;31mNameError\u001b[0m: name 'time' is not defined"
          ]
        }
      ]
    },
    {
      "cell_type": "code",
      "metadata": {
        "id": "FdTVZAd98GvD",
        "colab": {
          "base_uri": "https://localhost:8080/",
          "height": 232
        },
        "outputId": "b177171f-7edb-487c-a788-1f2b093e72e7"
      },
      "source": [
        "subtracted = conditioned - aligned\n",
        "\n",
        "# Plot the original data and the subtracted signal data\n",
        "\n",
        "for data, title in [(conditioned, 'Original H1 Data'),\n",
        "                    (subtracted, 'Signal Subtracted from H1 Data')]:\n",
        "\n",
        "    t, f, p = data.whiten(4, 4).qtransform(.001,\n",
        "                                                  logfsteps=100,\n",
        "                                                  qrange=(8, 8),\n",
        "                                                  frange=(20, 512))\n",
        "    pylab.figure(figsize=[15, 3])\n",
        "    pylab.title(title)\n",
        "    pylab.pcolormesh(t, f, p**0.5, vmin=1, vmax=6)\n",
        "    pylab.yscale('log')\n",
        "    pylab.xlabel('Time (s)')\n",
        "    pylab.ylabel('Frequency (Hz)')\n",
        "    pylab.xlim(merger.time - 2, merger.time + 1)\n",
        "    pylab.show()"
      ],
      "execution_count": null,
      "outputs": [
        {
          "output_type": "error",
          "ename": "NameError",
          "evalue": "ignored",
          "traceback": [
            "\u001b[0;31m---------------------------------------------------------------------------\u001b[0m",
            "\u001b[0;31mNameError\u001b[0m                                 Traceback (most recent call last)",
            "\u001b[0;32m<ipython-input-44-fd12f800e682>\u001b[0m in \u001b[0;36m<module>\u001b[0;34m()\u001b[0m\n\u001b[0;32m----> 1\u001b[0;31m \u001b[0msubtracted\u001b[0m \u001b[0;34m=\u001b[0m \u001b[0mconditioned\u001b[0m \u001b[0;34m-\u001b[0m \u001b[0maligned\u001b[0m\u001b[0;34m\u001b[0m\u001b[0;34m\u001b[0m\u001b[0m\n\u001b[0m\u001b[1;32m      2\u001b[0m \u001b[0;34m\u001b[0m\u001b[0m\n\u001b[1;32m      3\u001b[0m \u001b[0;31m# Plot the original data and the subtracted signal data\u001b[0m\u001b[0;34m\u001b[0m\u001b[0;34m\u001b[0m\u001b[0;34m\u001b[0m\u001b[0m\n\u001b[1;32m      4\u001b[0m \u001b[0;34m\u001b[0m\u001b[0m\n\u001b[1;32m      5\u001b[0m for data, title in [(conditioned, 'Original H1 Data'),\n",
            "\u001b[0;31mNameError\u001b[0m: name 'conditioned' is not defined"
          ]
        }
      ]
    },
    {
      "cell_type": "code",
      "metadata": {
        "id": "aFZYDsOR8Jvc",
        "colab": {
          "base_uri": "https://localhost:8080/",
          "height": 232
        },
        "outputId": "aefe70a3-aa18-47d7-941a-062e5e562e3f"
      },
      "source": [
        "#Question 1 part 3\n",
        "\n",
        "#Definitions\n",
        "from pycbc.filter import match\n",
        "from pycbc.psd import aLIGOZeroDetHighPower\n",
        "\n",
        "#Defining two wavefunctions so they can be compared\n",
        "hp, hc  =  get_td_waveform(approximant = \"EOBNRv2\",\n",
        "                           mass1 = 10,\n",
        "                           mass2 = 10,\n",
        "                           f_lower = f_low,\n",
        "                           delta_t = 1.0/sample_rate)\n",
        "matches = []\n",
        "masses = np.arange(5, 15, 0.2)"
      ],
      "execution_count": null,
      "outputs": [
        {
          "output_type": "error",
          "ename": "NameError",
          "evalue": "ignored",
          "traceback": [
            "\u001b[0;31m---------------------------------------------------------------------------\u001b[0m",
            "\u001b[0;31mNameError\u001b[0m                                 Traceback (most recent call last)",
            "\u001b[0;32m<ipython-input-45-fbc53f4acd74>\u001b[0m in \u001b[0;36m<module>\u001b[0;34m()\u001b[0m\n\u001b[1;32m      9\u001b[0m                            \u001b[0mmass1\u001b[0m \u001b[0;34m=\u001b[0m \u001b[0;36m10\u001b[0m\u001b[0;34m,\u001b[0m\u001b[0;34m\u001b[0m\u001b[0;34m\u001b[0m\u001b[0m\n\u001b[1;32m     10\u001b[0m                            \u001b[0mmass2\u001b[0m \u001b[0;34m=\u001b[0m \u001b[0;36m10\u001b[0m\u001b[0;34m,\u001b[0m\u001b[0;34m\u001b[0m\u001b[0;34m\u001b[0m\u001b[0m\n\u001b[0;32m---> 11\u001b[0;31m                            \u001b[0mf_lower\u001b[0m \u001b[0;34m=\u001b[0m \u001b[0mf_low\u001b[0m\u001b[0;34m,\u001b[0m\u001b[0;34m\u001b[0m\u001b[0;34m\u001b[0m\u001b[0m\n\u001b[0m\u001b[1;32m     12\u001b[0m                            delta_t = 1.0/sample_rate)\n\u001b[1;32m     13\u001b[0m \u001b[0mmatches\u001b[0m \u001b[0;34m=\u001b[0m \u001b[0;34m[\u001b[0m\u001b[0;34m]\u001b[0m\u001b[0;34m\u001b[0m\u001b[0;34m\u001b[0m\u001b[0m\n",
            "\u001b[0;31mNameError\u001b[0m: name 'f_low' is not defined"
          ]
        }
      ]
    },
    {
      "cell_type": "code",
      "metadata": {
        "id": "X2R7bqMC8Xyb",
        "colab": {
          "base_uri": "https://localhost:8080/",
          "height": 232
        },
        "outputId": "b95d8bf3-a3c9-4ad4-b16f-66f0b31b252d"
      },
      "source": [
        "for mass in masses:\n",
        "    sp, sc = get_td_waveform(approximant = \"TaylorT4\",\n",
        "                             mass1 = mass,\n",
        "                             mass2 = mass,\n",
        "                             f_lower = f_low,\n",
        "                             delta_t = 1.0/sample_rate)\n",
        "\n",
        "#Resizing the waveforms to the same length\n",
        "    tlen = max(len(sp),len(hp))\n",
        "    sp.resize(tlen)\n",
        "    hp.resize(tlen)"
      ],
      "execution_count": null,
      "outputs": [
        {
          "output_type": "error",
          "ename": "NameError",
          "evalue": "ignored",
          "traceback": [
            "\u001b[0;31m---------------------------------------------------------------------------\u001b[0m",
            "\u001b[0;31mNameError\u001b[0m                                 Traceback (most recent call last)",
            "\u001b[0;32m<ipython-input-46-92d9dfa44404>\u001b[0m in \u001b[0;36m<module>\u001b[0;34m()\u001b[0m\n\u001b[1;32m      3\u001b[0m                              \u001b[0mmass1\u001b[0m \u001b[0;34m=\u001b[0m \u001b[0mmass\u001b[0m\u001b[0;34m,\u001b[0m\u001b[0;34m\u001b[0m\u001b[0;34m\u001b[0m\u001b[0m\n\u001b[1;32m      4\u001b[0m                              \u001b[0mmass2\u001b[0m \u001b[0;34m=\u001b[0m \u001b[0mmass\u001b[0m\u001b[0;34m,\u001b[0m\u001b[0;34m\u001b[0m\u001b[0;34m\u001b[0m\u001b[0m\n\u001b[0;32m----> 5\u001b[0;31m                              \u001b[0mf_lower\u001b[0m \u001b[0;34m=\u001b[0m \u001b[0mf_low\u001b[0m\u001b[0;34m,\u001b[0m\u001b[0;34m\u001b[0m\u001b[0;34m\u001b[0m\u001b[0m\n\u001b[0m\u001b[1;32m      6\u001b[0m                              delta_t = 1.0/sample_rate)\n\u001b[1;32m      7\u001b[0m \u001b[0;34m\u001b[0m\u001b[0m\n",
            "\u001b[0;31mNameError\u001b[0m: name 'f_low' is not defined"
          ]
        }
      ]
    },
    {
      "cell_type": "code",
      "metadata": {
        "id": "39J7Vsbt8a3l",
        "colab": {
          "base_uri": "https://localhost:8080/",
          "height": 232
        },
        "outputId": "8aa2dee7-ba22-4b5f-89f8-d4e380a32662"
      },
      "source": [
        "#Generate the aLIGO Zero det. high power PSD\n",
        "delta_f = 1.0/sp.duration\n",
        "flen = tlen // 2 + 1\n",
        "psd = aLIGOZeroDetHighPower(flen, delta_f, f_low)\n",
        "\t\n",
        "#Sifting through the wf's (SLOWWWWW)\n",
        "m,i = match(hp, sp, psd=psd, low_frequency_cutoff = f_low)\n",
        "matches.append(m)\n",
        "\t\n",
        "#Plotting our GWWF against the templates\n",
        "g1 = go.Figure()\n",
        "fig1.add_trace(go.Scatter(x=masses,\n",
        "                          y=matches,\n",
        "                          mode='markers',\n",
        "                          name=\"LIGO_Hanford\"))\n",
        "fig1.update_layout(xaxis_title='Mass',\n",
        "                   yaxis_title='Match',\n",
        "                   title=\"Correlation Between GW Waveform and Nearby Template\")\n",
        "fig2.write_html(\"Q1_8_waveform_correlation.html\")"
      ],
      "execution_count": null,
      "outputs": [
        {
          "output_type": "error",
          "ename": "NameError",
          "evalue": "ignored",
          "traceback": [
            "\u001b[0;31m---------------------------------------------------------------------------\u001b[0m",
            "\u001b[0;31mNameError\u001b[0m                                 Traceback (most recent call last)",
            "\u001b[0;32m<ipython-input-50-ea732fb68a34>\u001b[0m in \u001b[0;36m<module>\u001b[0;34m()\u001b[0m\n\u001b[1;32m      1\u001b[0m \u001b[0;31m#Generate the aLIGO Zero det. high power PSD\u001b[0m\u001b[0;34m\u001b[0m\u001b[0;34m\u001b[0m\u001b[0;34m\u001b[0m\u001b[0m\n\u001b[0;32m----> 2\u001b[0;31m \u001b[0mdelta_f\u001b[0m \u001b[0;34m=\u001b[0m \u001b[0;36m1.0\u001b[0m\u001b[0;34m/\u001b[0m\u001b[0msp\u001b[0m\u001b[0;34m.\u001b[0m\u001b[0mduration\u001b[0m\u001b[0;34m\u001b[0m\u001b[0;34m\u001b[0m\u001b[0m\n\u001b[0m\u001b[1;32m      3\u001b[0m \u001b[0mflen\u001b[0m \u001b[0;34m=\u001b[0m \u001b[0mtlen\u001b[0m \u001b[0;34m//\u001b[0m \u001b[0;36m2\u001b[0m \u001b[0;34m+\u001b[0m \u001b[0;36m1\u001b[0m\u001b[0;34m\u001b[0m\u001b[0;34m\u001b[0m\u001b[0m\n\u001b[1;32m      4\u001b[0m \u001b[0mpsd\u001b[0m \u001b[0;34m=\u001b[0m \u001b[0maLIGOZeroDetHighPower\u001b[0m\u001b[0;34m(\u001b[0m\u001b[0mflen\u001b[0m\u001b[0;34m,\u001b[0m \u001b[0mdelta_f\u001b[0m\u001b[0;34m,\u001b[0m \u001b[0mf_low\u001b[0m\u001b[0;34m)\u001b[0m\u001b[0;34m\u001b[0m\u001b[0;34m\u001b[0m\u001b[0m\n\u001b[1;32m      5\u001b[0m \u001b[0;34m\u001b[0m\u001b[0m\n",
            "\u001b[0;31mNameError\u001b[0m: name 'sp' is not defined"
          ]
        }
      ]
    },
    {
      "cell_type": "code",
      "metadata": {
        "id": "rChMUGxa8h57"
      },
      "source": [
        "IFrame(src='./Q1_8_waveform_correlation.html', width=\"100%\", height=500)"
      ],
      "execution_count": null,
      "outputs": []
    },
    {
      "cell_type": "code",
      "metadata": {
        "id": "8lB_2a1I8ixF",
        "colab": {
          "base_uri": "https://localhost:8080/",
          "height": 351
        },
        "outputId": "14a05ecc-706f-460a-8a0e-9e0fd8170f06"
      },
      "source": [
        "#Q2.1.1\n",
        "\n",
        "#Imports\n",
        "import numpy as np\n",
        "import pycbc.types \n",
        "\n",
        "##Converting data into time series\n",
        "d = np.load('noise_ts_4096Hz.npy')\n",
        "dt = d[:, 0]\n",
        "time = d[:,0]\n",
        "strain = d[:,1]\n",
        "d = pycbc.types.TimeSeries(d[:, 1], delta_t = dt[1]- dt[0])\n",
        "data = d\n",
        "strain = resample_to_delta_t(highpass(data, 20.0), 1.0/2048)\n",
        "stilde = strain.to_frequencyseries()"
      ],
      "execution_count": null,
      "outputs": [
        {
          "output_type": "error",
          "ename": "FileNotFoundError",
          "evalue": "ignored",
          "traceback": [
            "\u001b[0;31m---------------------------------------------------------------------------\u001b[0m",
            "\u001b[0;31mFileNotFoundError\u001b[0m                         Traceback (most recent call last)",
            "\u001b[0;32m<ipython-input-51-2c8ffcfb0fac>\u001b[0m in \u001b[0;36m<module>\u001b[0;34m()\u001b[0m\n\u001b[1;32m      6\u001b[0m \u001b[0;34m\u001b[0m\u001b[0m\n\u001b[1;32m      7\u001b[0m \u001b[0;31m##Converting data into time series\u001b[0m\u001b[0;34m\u001b[0m\u001b[0;34m\u001b[0m\u001b[0;34m\u001b[0m\u001b[0m\n\u001b[0;32m----> 8\u001b[0;31m \u001b[0md\u001b[0m \u001b[0;34m=\u001b[0m \u001b[0mnp\u001b[0m\u001b[0;34m.\u001b[0m\u001b[0mload\u001b[0m\u001b[0;34m(\u001b[0m\u001b[0;34m'noise_ts_4096Hz.npy'\u001b[0m\u001b[0;34m)\u001b[0m\u001b[0;34m\u001b[0m\u001b[0;34m\u001b[0m\u001b[0m\n\u001b[0m\u001b[1;32m      9\u001b[0m \u001b[0mdt\u001b[0m \u001b[0;34m=\u001b[0m \u001b[0md\u001b[0m\u001b[0;34m[\u001b[0m\u001b[0;34m:\u001b[0m\u001b[0;34m,\u001b[0m \u001b[0;36m0\u001b[0m\u001b[0;34m]\u001b[0m\u001b[0;34m\u001b[0m\u001b[0;34m\u001b[0m\u001b[0m\n\u001b[1;32m     10\u001b[0m \u001b[0mtime\u001b[0m \u001b[0;34m=\u001b[0m \u001b[0md\u001b[0m\u001b[0;34m[\u001b[0m\u001b[0;34m:\u001b[0m\u001b[0;34m,\u001b[0m\u001b[0;36m0\u001b[0m\u001b[0;34m]\u001b[0m\u001b[0;34m\u001b[0m\u001b[0;34m\u001b[0m\u001b[0m\n",
            "\u001b[0;32m/usr/local/lib/python3.6/dist-packages/numpy/lib/npyio.py\u001b[0m in \u001b[0;36mload\u001b[0;34m(file, mmap_mode, allow_pickle, fix_imports, encoding)\u001b[0m\n\u001b[1;32m    414\u001b[0m             \u001b[0mown_fid\u001b[0m \u001b[0;34m=\u001b[0m \u001b[0;32mFalse\u001b[0m\u001b[0;34m\u001b[0m\u001b[0;34m\u001b[0m\u001b[0m\n\u001b[1;32m    415\u001b[0m         \u001b[0;32melse\u001b[0m\u001b[0;34m:\u001b[0m\u001b[0;34m\u001b[0m\u001b[0;34m\u001b[0m\u001b[0m\n\u001b[0;32m--> 416\u001b[0;31m             \u001b[0mfid\u001b[0m \u001b[0;34m=\u001b[0m \u001b[0mstack\u001b[0m\u001b[0;34m.\u001b[0m\u001b[0menter_context\u001b[0m\u001b[0;34m(\u001b[0m\u001b[0mopen\u001b[0m\u001b[0;34m(\u001b[0m\u001b[0mos_fspath\u001b[0m\u001b[0;34m(\u001b[0m\u001b[0mfile\u001b[0m\u001b[0;34m)\u001b[0m\u001b[0;34m,\u001b[0m \u001b[0;34m\"rb\"\u001b[0m\u001b[0;34m)\u001b[0m\u001b[0;34m)\u001b[0m\u001b[0;34m\u001b[0m\u001b[0;34m\u001b[0m\u001b[0m\n\u001b[0m\u001b[1;32m    417\u001b[0m             \u001b[0mown_fid\u001b[0m \u001b[0;34m=\u001b[0m \u001b[0;32mTrue\u001b[0m\u001b[0;34m\u001b[0m\u001b[0;34m\u001b[0m\u001b[0m\n\u001b[1;32m    418\u001b[0m \u001b[0;34m\u001b[0m\u001b[0m\n",
            "\u001b[0;31mFileNotFoundError\u001b[0m: [Errno 2] No such file or directory: 'noise_ts_4096Hz.npy'"
          ]
        }
      ]
    },
    {
      "cell_type": "code",
      "metadata": {
        "id": "05-Jh28r_jg6",
        "colab": {
          "base_uri": "https://localhost:8080/",
          "height": 232
        },
        "outputId": "4f86e6ee-a316-46d0-9899-97bc93bbc926"
      },
      "source": [
        "##Estimate the PSD to frequency step \n",
        "psds = interpolate(strain.psd(2), stilde.delta_f)\n",
        "\n",
        "## We'll choose how much data is corrupted by overwhitening\n",
        "psds = inverse_spectrum_truncation(psds, \n",
        "                                   int(2 *strain.sample_rate),\n",
        "                                   low_frequency_cutoff=15.0,\n",
        "                                   trunc_method='hann')"
      ],
      "execution_count": null,
      "outputs": [
        {
          "output_type": "error",
          "ename": "AttributeError",
          "evalue": "ignored",
          "traceback": [
            "\u001b[0;31m---------------------------------------------------------------------------\u001b[0m",
            "\u001b[0;31mAttributeError\u001b[0m                            Traceback (most recent call last)",
            "\u001b[0;32m<ipython-input-52-503a1792ec5e>\u001b[0m in \u001b[0;36m<module>\u001b[0;34m()\u001b[0m\n\u001b[1;32m      1\u001b[0m \u001b[0;31m##Estimate the PSD to frequency step\u001b[0m\u001b[0;34m\u001b[0m\u001b[0;34m\u001b[0m\u001b[0;34m\u001b[0m\u001b[0m\n\u001b[0;32m----> 2\u001b[0;31m \u001b[0mpsds\u001b[0m \u001b[0;34m=\u001b[0m \u001b[0minterpolate\u001b[0m\u001b[0;34m(\u001b[0m\u001b[0mstrain\u001b[0m\u001b[0;34m.\u001b[0m\u001b[0mpsd\u001b[0m\u001b[0;34m(\u001b[0m\u001b[0;36m2\u001b[0m\u001b[0;34m)\u001b[0m\u001b[0;34m,\u001b[0m \u001b[0mstilde\u001b[0m\u001b[0;34m.\u001b[0m\u001b[0mdelta_f\u001b[0m\u001b[0;34m)\u001b[0m\u001b[0;34m\u001b[0m\u001b[0;34m\u001b[0m\u001b[0m\n\u001b[0m\u001b[1;32m      3\u001b[0m \u001b[0;34m\u001b[0m\u001b[0m\n\u001b[1;32m      4\u001b[0m \u001b[0;31m## We'll choose how much data is corrupted by overwhitening\u001b[0m\u001b[0;34m\u001b[0m\u001b[0;34m\u001b[0m\u001b[0;34m\u001b[0m\u001b[0m\n\u001b[1;32m      5\u001b[0m psds = inverse_spectrum_truncation(psds, \n",
            "\u001b[0;31mAttributeError\u001b[0m: 'dict' object has no attribute 'psd'"
          ]
        }
      ]
    },
    {
      "cell_type": "code",
      "metadata": {
        "id": "boYb4JEj_nNj",
        "colab": {
          "base_uri": "https://localhost:8080/",
          "height": 232
        },
        "outputId": "b62e6d4f-8e01-471a-8c94-5c96cd9ad932"
      },
      "source": [
        "##Plotting our PSD\t\t\t\t\t\t\t\t   \n",
        "fig2 = go.Figure()\n",
        "fig2.add_trace(go.Scattergl(x=psds.sample_frequencies,\n",
        "                            y=psds,\n",
        "                            mode='lines',\n",
        "                            name=\"LIGO_Hanford\"))\n",
        "fig2.update_xaxes(type=\"log\", range=[1.3,3])\n",
        "fig2.update_yaxes(type=\"log\", range=[-47,-42])\n",
        "fig2.update_layout(xaxis_title='Frequency [Hz]',\n",
        "                   yaxis_title='Amplitude',\n",
        "                   title=\"Power Spectral Density\")\n",
        "fig2.write_html(\"Q2.1_Power_Spectral_Density.html\")\t"
      ],
      "execution_count": null,
      "outputs": [
        {
          "output_type": "error",
          "ename": "AttributeError",
          "evalue": "ignored",
          "traceback": [
            "\u001b[0;31m---------------------------------------------------------------------------\u001b[0m",
            "\u001b[0;31mAttributeError\u001b[0m                            Traceback (most recent call last)",
            "\u001b[0;32m<ipython-input-53-2bc8db8eb54c>\u001b[0m in \u001b[0;36m<module>\u001b[0;34m()\u001b[0m\n\u001b[1;32m      1\u001b[0m \u001b[0;31m##Plotting our PSD\u001b[0m\u001b[0;34m\u001b[0m\u001b[0;34m\u001b[0m\u001b[0;34m\u001b[0m\u001b[0m\n\u001b[1;32m      2\u001b[0m \u001b[0mfig2\u001b[0m \u001b[0;34m=\u001b[0m \u001b[0mgo\u001b[0m\u001b[0;34m.\u001b[0m\u001b[0mFigure\u001b[0m\u001b[0;34m(\u001b[0m\u001b[0;34m)\u001b[0m\u001b[0;34m\u001b[0m\u001b[0;34m\u001b[0m\u001b[0m\n\u001b[0;32m----> 3\u001b[0;31m fig2.add_trace(go.Scattergl(x=psds.sample_frequencies,\n\u001b[0m\u001b[1;32m      4\u001b[0m                             \u001b[0my\u001b[0m\u001b[0;34m=\u001b[0m\u001b[0mpsds\u001b[0m\u001b[0;34m,\u001b[0m\u001b[0;34m\u001b[0m\u001b[0;34m\u001b[0m\u001b[0m\n\u001b[1;32m      5\u001b[0m                             \u001b[0mmode\u001b[0m\u001b[0;34m=\u001b[0m\u001b[0;34m'lines'\u001b[0m\u001b[0;34m,\u001b[0m\u001b[0;34m\u001b[0m\u001b[0;34m\u001b[0m\u001b[0m\n",
            "\u001b[0;31mAttributeError\u001b[0m: 'dict' object has no attribute 'sample_frequencies'"
          ]
        }
      ]
    },
    {
      "cell_type": "code",
      "metadata": {
        "id": "n7wq9ZPZ_rSZ",
        "colab": {
          "base_uri": "https://localhost:8080/",
          "height": 164
        },
        "outputId": "e14e9156-cb29-427a-a478-86fe0f01fb89"
      },
      "source": [
        "IFrame(src='./Q2_1_Power_Spectral_Density.html', width=\"100%\", height=500)"
      ],
      "execution_count": null,
      "outputs": [
        {
          "output_type": "error",
          "ename": "NameError",
          "evalue": "ignored",
          "traceback": [
            "\u001b[0;31m---------------------------------------------------------------------------\u001b[0m",
            "\u001b[0;31mNameError\u001b[0m                                 Traceback (most recent call last)",
            "\u001b[0;32m<ipython-input-54-a19b6fd50e19>\u001b[0m in \u001b[0;36m<module>\u001b[0;34m()\u001b[0m\n\u001b[0;32m----> 1\u001b[0;31m \u001b[0mIFrame\u001b[0m\u001b[0;34m(\u001b[0m\u001b[0msrc\u001b[0m\u001b[0;34m=\u001b[0m\u001b[0;34m'./Q2_1_Power_Spectral_Density.html'\u001b[0m\u001b[0;34m,\u001b[0m \u001b[0mwidth\u001b[0m\u001b[0;34m=\u001b[0m\u001b[0;34m\"100%\"\u001b[0m\u001b[0;34m,\u001b[0m \u001b[0mheight\u001b[0m\u001b[0;34m=\u001b[0m\u001b[0;36m500\u001b[0m\u001b[0;34m)\u001b[0m\u001b[0;34m\u001b[0m\u001b[0;34m\u001b[0m\u001b[0m\n\u001b[0m",
            "\u001b[0;31mNameError\u001b[0m: name 'IFrame' is not defined"
          ]
        }
      ]
    },
    {
      "cell_type": "code",
      "metadata": {
        "id": "fC65L3aO_un-",
        "colab": {
          "base_uri": "https://localhost:8080/",
          "height": 232
        },
        "outputId": "4c2a1216-4b01-4e1b-9d8b-485f4cee491e"
      },
      "source": [
        "#Q2.1.2\n",
        "#MATCH FILTERING\n",
        "\n",
        "#Defos\n",
        "import pycbc.noise\n",
        "import pycbc.psd\n",
        "import pycbc.filter\n",
        "import pycbc.waveform\n",
        "import pylab\n",
        "flow = 30 #Hz\n",
        "stilde = data.to_frequencyseries()\n",
        "\n",
        "#Generating template and rezising \n",
        "hp, hc = pycbc.waveform.get_fd_waveform(approximant=\"TaylorF2\",\n",
        "                             mass1=10, mass2=10,\n",
        "                             f_lower=flow, delta_f=stilde.delta_f)\n",
        "\n",
        "hp.resize(len(stilde))  \n",
        "snr = pycbc.filter.matched_filter(hp, stilde, psd=psds,\n",
        "                                      low_frequency_cutoff=flow)\n",
        "\n",
        "\n",
        "# Removing the regions corrupted by filter wraparound\n",
        "snr = snr[len(snr) // 4: len(snr) * 3 // 4]"
      ],
      "execution_count": null,
      "outputs": [
        {
          "output_type": "error",
          "ename": "NameError",
          "evalue": "ignored",
          "traceback": [
            "\u001b[0;31m---------------------------------------------------------------------------\u001b[0m",
            "\u001b[0;31mNameError\u001b[0m                                 Traceback (most recent call last)",
            "\u001b[0;32m<ipython-input-55-16aa02a9b01a>\u001b[0m in \u001b[0;36m<module>\u001b[0;34m()\u001b[0m\n\u001b[1;32m      9\u001b[0m \u001b[0;32mimport\u001b[0m \u001b[0mpylab\u001b[0m\u001b[0;34m\u001b[0m\u001b[0;34m\u001b[0m\u001b[0m\n\u001b[1;32m     10\u001b[0m \u001b[0mflow\u001b[0m \u001b[0;34m=\u001b[0m \u001b[0;36m30\u001b[0m \u001b[0;31m#Hz\u001b[0m\u001b[0;34m\u001b[0m\u001b[0;34m\u001b[0m\u001b[0m\n\u001b[0;32m---> 11\u001b[0;31m \u001b[0mstilde\u001b[0m \u001b[0;34m=\u001b[0m \u001b[0mdata\u001b[0m\u001b[0;34m.\u001b[0m\u001b[0mto_frequencyseries\u001b[0m\u001b[0;34m(\u001b[0m\u001b[0;34m)\u001b[0m\u001b[0;34m\u001b[0m\u001b[0;34m\u001b[0m\u001b[0m\n\u001b[0m\u001b[1;32m     12\u001b[0m \u001b[0;34m\u001b[0m\u001b[0m\n\u001b[1;32m     13\u001b[0m \u001b[0;31m#Generating template and rezising\u001b[0m\u001b[0;34m\u001b[0m\u001b[0;34m\u001b[0m\u001b[0;34m\u001b[0m\u001b[0m\n",
            "\u001b[0;31mNameError\u001b[0m: name 'data' is not defined"
          ]
        }
      ]
    },
    {
      "cell_type": "code",
      "metadata": {
        "id": "r9wZrmV1_1Z8",
        "colab": {
          "base_uri": "https://localhost:8080/",
          "height": 232
        },
        "outputId": "9732859c-a000-43e2-aab5-fe4efeed5c3c"
      },
      "source": [
        "#Plotting our results, finding the max value of SNR \n",
        "pylab.plot(snr.sample_times, abs(snr))\n",
        "pylab.ylabel('signal-to-noise ratio')\n",
        "pylab.xlabel('time (s)')\n",
        "pylab.show()\n",
        "print ( 'Maximum SNR', max(abs(snr)) )"
      ],
      "execution_count": null,
      "outputs": [
        {
          "output_type": "error",
          "ename": "NameError",
          "evalue": "ignored",
          "traceback": [
            "\u001b[0;31m---------------------------------------------------------------------------\u001b[0m",
            "\u001b[0;31mNameError\u001b[0m                                 Traceback (most recent call last)",
            "\u001b[0;32m<ipython-input-56-61a2379acce8>\u001b[0m in \u001b[0;36m<module>\u001b[0;34m()\u001b[0m\n\u001b[1;32m      1\u001b[0m \u001b[0;31m#Plotting our results, finding the max value of SNR\u001b[0m\u001b[0;34m\u001b[0m\u001b[0;34m\u001b[0m\u001b[0;34m\u001b[0m\u001b[0m\n\u001b[0;32m----> 2\u001b[0;31m \u001b[0mpylab\u001b[0m\u001b[0;34m.\u001b[0m\u001b[0mplot\u001b[0m\u001b[0;34m(\u001b[0m\u001b[0msnr\u001b[0m\u001b[0;34m.\u001b[0m\u001b[0msample_times\u001b[0m\u001b[0;34m,\u001b[0m \u001b[0mabs\u001b[0m\u001b[0;34m(\u001b[0m\u001b[0msnr\u001b[0m\u001b[0;34m)\u001b[0m\u001b[0;34m)\u001b[0m\u001b[0;34m\u001b[0m\u001b[0;34m\u001b[0m\u001b[0m\n\u001b[0m\u001b[1;32m      3\u001b[0m \u001b[0mpylab\u001b[0m\u001b[0;34m.\u001b[0m\u001b[0mylabel\u001b[0m\u001b[0;34m(\u001b[0m\u001b[0;34m'signal-to-noise ratio'\u001b[0m\u001b[0;34m)\u001b[0m\u001b[0;34m\u001b[0m\u001b[0;34m\u001b[0m\u001b[0m\n\u001b[1;32m      4\u001b[0m \u001b[0mpylab\u001b[0m\u001b[0;34m.\u001b[0m\u001b[0mxlabel\u001b[0m\u001b[0;34m(\u001b[0m\u001b[0;34m'time (s)'\u001b[0m\u001b[0;34m)\u001b[0m\u001b[0;34m\u001b[0m\u001b[0;34m\u001b[0m\u001b[0m\n\u001b[1;32m      5\u001b[0m \u001b[0mpylab\u001b[0m\u001b[0;34m.\u001b[0m\u001b[0mshow\u001b[0m\u001b[0;34m(\u001b[0m\u001b[0;34m)\u001b[0m\u001b[0;34m\u001b[0m\u001b[0;34m\u001b[0m\u001b[0m\n",
            "\u001b[0;31mNameError\u001b[0m: name 'snr' is not defined"
          ]
        }
      ]
    },
    {
      "cell_type": "code",
      "metadata": {
        "id": "SeY-UWU2_6lS",
        "colab": {
          "base_uri": "https://localhost:8080/",
          "height": 164
        },
        "outputId": "dbe49ac3-8285-43d6-cc65-04369b7604b3"
      },
      "source": [
        "IFrame(src='./Q2_2_SNR_Plot.html', width=\"100%\", height=500)"
      ],
      "execution_count": null,
      "outputs": [
        {
          "output_type": "error",
          "ename": "NameError",
          "evalue": "ignored",
          "traceback": [
            "\u001b[0;31m---------------------------------------------------------------------------\u001b[0m",
            "\u001b[0;31mNameError\u001b[0m                                 Traceback (most recent call last)",
            "\u001b[0;32m<ipython-input-57-3912d9f5d415>\u001b[0m in \u001b[0;36m<module>\u001b[0;34m()\u001b[0m\n\u001b[0;32m----> 1\u001b[0;31m \u001b[0mIFrame\u001b[0m\u001b[0;34m(\u001b[0m\u001b[0msrc\u001b[0m\u001b[0;34m=\u001b[0m\u001b[0;34m'./Q2_2_SNR_Plot.html'\u001b[0m\u001b[0;34m,\u001b[0m \u001b[0mwidth\u001b[0m\u001b[0;34m=\u001b[0m\u001b[0;34m\"100%\"\u001b[0m\u001b[0;34m,\u001b[0m \u001b[0mheight\u001b[0m\u001b[0;34m=\u001b[0m\u001b[0;36m500\u001b[0m\u001b[0;34m)\u001b[0m\u001b[0;34m\u001b[0m\u001b[0;34m\u001b[0m\u001b[0m\n\u001b[0m",
            "\u001b[0;31mNameError\u001b[0m: name 'IFrame' is not defined"
          ]
        }
      ]
    },
    {
      "cell_type": "code",
      "metadata": {
        "id": "0vemcQPg_8qs",
        "colab": {
          "base_uri": "https://localhost:8080/",
          "height": 232
        },
        "outputId": "84dcd6af-722b-4312-ee08-766949966338"
      },
      "source": [
        "##Q2.2\n",
        "\n",
        "#Defintitions\n",
        "from pycbc.psd import welch, interpolate\n",
        "import matplotlib.pyplot as plt\n",
        "\n",
        "psds = interpolate(welch(data), 1.0 / data.duration) #???? fixed the issue of not same size\n",
        "white_data = (data.to_frequencyseries() / psds**0.5).to_timeseries()\n",
        "\n",
        "sigma = np.std(white_data)\n",
        "mu = np.mean(white_data)\n",
        "\n",
        "print(\"sigma = \" + str(sigma),\"; mu = \" + str(mu))"
      ],
      "execution_count": null,
      "outputs": [
        {
          "output_type": "error",
          "ename": "NameError",
          "evalue": "ignored",
          "traceback": [
            "\u001b[0;31m---------------------------------------------------------------------------\u001b[0m",
            "\u001b[0;31mNameError\u001b[0m                                 Traceback (most recent call last)",
            "\u001b[0;32m<ipython-input-58-650979957f0f>\u001b[0m in \u001b[0;36m<module>\u001b[0;34m()\u001b[0m\n\u001b[1;32m      5\u001b[0m \u001b[0;32mimport\u001b[0m \u001b[0mmatplotlib\u001b[0m\u001b[0;34m.\u001b[0m\u001b[0mpyplot\u001b[0m \u001b[0;32mas\u001b[0m \u001b[0mplt\u001b[0m\u001b[0;34m\u001b[0m\u001b[0;34m\u001b[0m\u001b[0m\n\u001b[1;32m      6\u001b[0m \u001b[0;34m\u001b[0m\u001b[0m\n\u001b[0;32m----> 7\u001b[0;31m \u001b[0mpsds\u001b[0m \u001b[0;34m=\u001b[0m \u001b[0minterpolate\u001b[0m\u001b[0;34m(\u001b[0m\u001b[0mwelch\u001b[0m\u001b[0;34m(\u001b[0m\u001b[0mdata\u001b[0m\u001b[0;34m)\u001b[0m\u001b[0;34m,\u001b[0m \u001b[0;36m1.0\u001b[0m \u001b[0;34m/\u001b[0m \u001b[0mdata\u001b[0m\u001b[0;34m.\u001b[0m\u001b[0mduration\u001b[0m\u001b[0;34m)\u001b[0m \u001b[0;31m#???? fixed the issue of not same size\u001b[0m\u001b[0;34m\u001b[0m\u001b[0;34m\u001b[0m\u001b[0m\n\u001b[0m\u001b[1;32m      8\u001b[0m \u001b[0mwhite_data\u001b[0m \u001b[0;34m=\u001b[0m \u001b[0;34m(\u001b[0m\u001b[0mdata\u001b[0m\u001b[0;34m.\u001b[0m\u001b[0mto_frequencyseries\u001b[0m\u001b[0;34m(\u001b[0m\u001b[0;34m)\u001b[0m \u001b[0;34m/\u001b[0m \u001b[0mpsds\u001b[0m\u001b[0;34m**\u001b[0m\u001b[0;36m0.5\u001b[0m\u001b[0;34m)\u001b[0m\u001b[0;34m.\u001b[0m\u001b[0mto_timeseries\u001b[0m\u001b[0;34m(\u001b[0m\u001b[0;34m)\u001b[0m\u001b[0;34m\u001b[0m\u001b[0;34m\u001b[0m\u001b[0m\n\u001b[1;32m      9\u001b[0m \u001b[0;34m\u001b[0m\u001b[0m\n",
            "\u001b[0;31mNameError\u001b[0m: name 'data' is not defined"
          ]
        }
      ]
    },
    {
      "cell_type": "code",
      "metadata": {
        "id": "pjGF3-JmABPh",
        "colab": {
          "base_uri": "https://localhost:8080/",
          "height": 232
        },
        "outputId": "ca841e27-3c91-464f-86d4-87bf32c17d18"
      },
      "source": [
        "fig = go.Figure(data=[go.Histogram(x=white_data, histnorm='probability')])\n",
        "fig.update_xaxes(range=[-200,200])\n",
        "fig.update_layout(xaxis_title='noise',\n",
        "                   yaxis_title='probability',\n",
        "                   title=\"Whitened data histogram: &#963; = 60.4794879 and &#956; = 0.05229178\")\n",
        "\n",
        "fig.write_html(\"Q2_3_whiteNoise_Hist.html\")"
      ],
      "execution_count": null,
      "outputs": [
        {
          "output_type": "error",
          "ename": "NameError",
          "evalue": "ignored",
          "traceback": [
            "\u001b[0;31m---------------------------------------------------------------------------\u001b[0m",
            "\u001b[0;31mNameError\u001b[0m                                 Traceback (most recent call last)",
            "\u001b[0;32m<ipython-input-59-26f015f0c25e>\u001b[0m in \u001b[0;36m<module>\u001b[0;34m()\u001b[0m\n\u001b[0;32m----> 1\u001b[0;31m \u001b[0mfig\u001b[0m \u001b[0;34m=\u001b[0m \u001b[0mgo\u001b[0m\u001b[0;34m.\u001b[0m\u001b[0mFigure\u001b[0m\u001b[0;34m(\u001b[0m\u001b[0mdata\u001b[0m\u001b[0;34m=\u001b[0m\u001b[0;34m[\u001b[0m\u001b[0mgo\u001b[0m\u001b[0;34m.\u001b[0m\u001b[0mHistogram\u001b[0m\u001b[0;34m(\u001b[0m\u001b[0mx\u001b[0m\u001b[0;34m=\u001b[0m\u001b[0mwhite_data\u001b[0m\u001b[0;34m,\u001b[0m \u001b[0mhistnorm\u001b[0m\u001b[0;34m=\u001b[0m\u001b[0;34m'probability'\u001b[0m\u001b[0;34m)\u001b[0m\u001b[0;34m]\u001b[0m\u001b[0;34m)\u001b[0m\u001b[0;34m\u001b[0m\u001b[0;34m\u001b[0m\u001b[0m\n\u001b[0m\u001b[1;32m      2\u001b[0m \u001b[0mfig\u001b[0m\u001b[0;34m.\u001b[0m\u001b[0mupdate_xaxes\u001b[0m\u001b[0;34m(\u001b[0m\u001b[0mrange\u001b[0m\u001b[0;34m=\u001b[0m\u001b[0;34m[\u001b[0m\u001b[0;34m-\u001b[0m\u001b[0;36m200\u001b[0m\u001b[0;34m,\u001b[0m\u001b[0;36m200\u001b[0m\u001b[0;34m]\u001b[0m\u001b[0;34m)\u001b[0m\u001b[0;34m\u001b[0m\u001b[0;34m\u001b[0m\u001b[0m\n\u001b[1;32m      3\u001b[0m fig.update_layout(xaxis_title='noise',\n\u001b[1;32m      4\u001b[0m                    \u001b[0myaxis_title\u001b[0m\u001b[0;34m=\u001b[0m\u001b[0;34m'probability'\u001b[0m\u001b[0;34m,\u001b[0m\u001b[0;34m\u001b[0m\u001b[0;34m\u001b[0m\u001b[0m\n\u001b[1;32m      5\u001b[0m                    title=\"Whitened data histogram: &#963; = 60.4794879 and &#956; = 0.05229178\")\n",
            "\u001b[0;31mNameError\u001b[0m: name 'white_data' is not defined"
          ]
        }
      ]
    },
    {
      "cell_type": "code",
      "metadata": {
        "id": "Hw2Q2NvYAERl"
      },
      "source": [
        "IFrame(src='./Q2_3_whiteNoise_Hist.html', width=\"100%\", height=500)"
      ],
      "execution_count": null,
      "outputs": []
    },
    {
      "cell_type": "code",
      "metadata": {
        "id": "RNCsET-fAFNc",
        "colab": {
          "base_uri": "https://localhost:8080/",
          "height": 232
        },
        "outputId": "daa68512-4d01-4897-8215-15ce263f8da6"
      },
      "source": [
        "##Q2.3\n",
        "\n",
        "#Defos and generting wf\n",
        "\n",
        "from pycbc.filter import sigmasq\n",
        "hp, hc = get_fd_waveform(approximant=\"TaylorF2\",\n",
        "                         mass1=3,\n",
        "                         mass2=3,\n",
        "                         delta_f=0.001,\n",
        "                         distance = 500,\n",
        "                         f_lower=20.0, \n",
        "                         f_final = 2048.0) #Luminosity distance = 500 Mpc\n",
        "\n",
        "nb_slice = 1000\n",
        "slice_size = int(len(data)/nb_slice)\n",
        "\n",
        "SNRs =[]\n",
        "\n",
        "for i in range(nb_slice):\n",
        "    data_slice = data[slice_size*i:slice_size*(i+1)]\n",
        "#Calculating PSD    \n",
        "    psds = interpolate(welch(data_slice), hp.delta_f)\n",
        "    #print(psds.delta_f)\n",
        "    SNR = (pycbc.filter.sigmasq(hp, psds))**0.5\n",
        "    SNRs.append(SNR)\n",
        "#Printing sigma & mu values\n",
        "sigma = np.std(SNRs)\n",
        "mu = np.mean(SNRs)\n",
        "print(\"sigma = \" + str(sigma),\"; mu = \" + str(mu))"
      ],
      "execution_count": null,
      "outputs": [
        {
          "output_type": "error",
          "ename": "NameError",
          "evalue": "ignored",
          "traceback": [
            "\u001b[0;31m---------------------------------------------------------------------------\u001b[0m",
            "\u001b[0;31mNameError\u001b[0m                                 Traceback (most recent call last)",
            "\u001b[0;32m<ipython-input-60-390ce47d9d99>\u001b[0m in \u001b[0;36m<module>\u001b[0;34m()\u001b[0m\n\u001b[1;32m     13\u001b[0m \u001b[0;34m\u001b[0m\u001b[0m\n\u001b[1;32m     14\u001b[0m \u001b[0mnb_slice\u001b[0m \u001b[0;34m=\u001b[0m \u001b[0;36m1000\u001b[0m\u001b[0;34m\u001b[0m\u001b[0;34m\u001b[0m\u001b[0m\n\u001b[0;32m---> 15\u001b[0;31m \u001b[0mslice_size\u001b[0m \u001b[0;34m=\u001b[0m \u001b[0mint\u001b[0m\u001b[0;34m(\u001b[0m\u001b[0mlen\u001b[0m\u001b[0;34m(\u001b[0m\u001b[0mdata\u001b[0m\u001b[0;34m)\u001b[0m\u001b[0;34m/\u001b[0m\u001b[0mnb_slice\u001b[0m\u001b[0;34m)\u001b[0m\u001b[0;34m\u001b[0m\u001b[0;34m\u001b[0m\u001b[0m\n\u001b[0m\u001b[1;32m     16\u001b[0m \u001b[0;34m\u001b[0m\u001b[0m\n\u001b[1;32m     17\u001b[0m \u001b[0mSNRs\u001b[0m \u001b[0;34m=\u001b[0m\u001b[0;34m[\u001b[0m\u001b[0;34m]\u001b[0m\u001b[0;34m\u001b[0m\u001b[0;34m\u001b[0m\u001b[0m\n",
            "\u001b[0;31mNameError\u001b[0m: name 'data' is not defined"
          ]
        }
      ]
    },
    {
      "cell_type": "code",
      "metadata": {
        "id": "M1iKTtZyAO91",
        "colab": {
          "base_uri": "https://localhost:8080/",
          "height": 232
        },
        "outputId": "380ef477-5c4c-4e48-d243-7cb9b643682c"
      },
      "source": [
        "#plotting\n",
        "fig = go.Figure(data=[go.Histogram(x=SNRs, histnorm='probability')])\n",
        "# fig.update_xaxes(range=[-0,200])\n",
        "fig.update_layout(xaxis_title='SNR',\n",
        "                   yaxis_title='probability',\n",
        "                   title=\"Estimated SNR histogram: &#963; = 1.6560736 and &#956; = 15.6536511\")\n",
        "fig.write_html(\"Q2_4_estSNR_Hist.html\")"
      ],
      "execution_count": null,
      "outputs": [
        {
          "output_type": "error",
          "ename": "NameError",
          "evalue": "ignored",
          "traceback": [
            "\u001b[0;31m---------------------------------------------------------------------------\u001b[0m",
            "\u001b[0;31mNameError\u001b[0m                                 Traceback (most recent call last)",
            "\u001b[0;32m<ipython-input-61-0eb3bae739e6>\u001b[0m in \u001b[0;36m<module>\u001b[0;34m()\u001b[0m\n\u001b[1;32m      1\u001b[0m \u001b[0;31m#plotting\u001b[0m\u001b[0;34m\u001b[0m\u001b[0;34m\u001b[0m\u001b[0;34m\u001b[0m\u001b[0m\n\u001b[0;32m----> 2\u001b[0;31m \u001b[0mfig\u001b[0m \u001b[0;34m=\u001b[0m \u001b[0mgo\u001b[0m\u001b[0;34m.\u001b[0m\u001b[0mFigure\u001b[0m\u001b[0;34m(\u001b[0m\u001b[0mdata\u001b[0m\u001b[0;34m=\u001b[0m\u001b[0;34m[\u001b[0m\u001b[0mgo\u001b[0m\u001b[0;34m.\u001b[0m\u001b[0mHistogram\u001b[0m\u001b[0;34m(\u001b[0m\u001b[0mx\u001b[0m\u001b[0;34m=\u001b[0m\u001b[0mSNRs\u001b[0m\u001b[0;34m,\u001b[0m \u001b[0mhistnorm\u001b[0m\u001b[0;34m=\u001b[0m\u001b[0;34m'probability'\u001b[0m\u001b[0;34m)\u001b[0m\u001b[0;34m]\u001b[0m\u001b[0;34m)\u001b[0m\u001b[0;34m\u001b[0m\u001b[0;34m\u001b[0m\u001b[0m\n\u001b[0m\u001b[1;32m      3\u001b[0m \u001b[0;31m# fig.update_xaxes(range=[-0,200])\u001b[0m\u001b[0;34m\u001b[0m\u001b[0;34m\u001b[0m\u001b[0;34m\u001b[0m\u001b[0m\n\u001b[1;32m      4\u001b[0m fig.update_layout(xaxis_title='SNR',\n\u001b[1;32m      5\u001b[0m                    \u001b[0myaxis_title\u001b[0m\u001b[0;34m=\u001b[0m\u001b[0;34m'probability'\u001b[0m\u001b[0;34m,\u001b[0m\u001b[0;34m\u001b[0m\u001b[0;34m\u001b[0m\u001b[0m\n",
            "\u001b[0;31mNameError\u001b[0m: name 'SNRs' is not defined"
          ]
        }
      ]
    },
    {
      "cell_type": "code",
      "metadata": {
        "id": "V_cAgmWXAS2s",
        "colab": {
          "base_uri": "https://localhost:8080/",
          "height": 164
        },
        "outputId": "122e9ab7-9b14-4b4a-fb93-2432aa2bb7ce"
      },
      "source": [
        "IFrame(src='./Q2_4_estSNR_Hist.html', width=\"100%\", height=500)"
      ],
      "execution_count": null,
      "outputs": [
        {
          "output_type": "error",
          "ename": "NameError",
          "evalue": "ignored",
          "traceback": [
            "\u001b[0;31m---------------------------------------------------------------------------\u001b[0m",
            "\u001b[0;31mNameError\u001b[0m                                 Traceback (most recent call last)",
            "\u001b[0;32m<ipython-input-62-300d270a0d1c>\u001b[0m in \u001b[0;36m<module>\u001b[0;34m()\u001b[0m\n\u001b[0;32m----> 1\u001b[0;31m \u001b[0mIFrame\u001b[0m\u001b[0;34m(\u001b[0m\u001b[0msrc\u001b[0m\u001b[0;34m=\u001b[0m\u001b[0;34m'./Q2_4_estSNR_Hist.html'\u001b[0m\u001b[0;34m,\u001b[0m \u001b[0mwidth\u001b[0m\u001b[0;34m=\u001b[0m\u001b[0;34m\"100%\"\u001b[0m\u001b[0;34m,\u001b[0m \u001b[0mheight\u001b[0m\u001b[0;34m=\u001b[0m\u001b[0;36m500\u001b[0m\u001b[0;34m)\u001b[0m\u001b[0;34m\u001b[0m\u001b[0;34m\u001b[0m\u001b[0m\n\u001b[0m",
            "\u001b[0;31mNameError\u001b[0m: name 'IFrame' is not defined"
          ]
        }
      ]
    },
    {
      "cell_type": "markdown",
      "metadata": {
        "id": "FxRUWNeIwkST"
      },
      "source": [
        "##Q3\n",
        "To be honest this assignment, even with the extra time, was overwhelming. The instructions for this question elude me in the technical aspect, mainly because I don't understand what I'm expected to calculate. However, the theory aspect of telescope threshold sensitivity I do understand more.\n",
        "The horizon distance is the \"area of sight\" of the telescope where it can detect SNRs above 8. This horizon decreases after a 500 solar mass threshold, because more massive binaries would produce gravitational waves at frequencies so high that the sensitivity of the detector would not be sufficient to register and isolate them.In order to measure such high frequencies accurately it becomes most important to measure accurately smaller and smaller discrete pieces of space, over a larger distance. This is why new generation telescopes are important for further research, by becoming more precise, more noise isolated and larger, they will be able to unlock a world of higher frequency Gravitational events out there, as well as help measure the currently detectble ones from a different geographical position and precision. \n",
        "\n",
        "Of course then this brings the problem of analysis, this whole thing we are trying to do in the first place. Our methods and tools for analysis will also have to improve massively to accomodate for this incoming bountiful harvest of gravitational waves.\n",
        "No easy answers on how to solve this yet, but we can certainly try.\n"
      ]
    }
  ]
}